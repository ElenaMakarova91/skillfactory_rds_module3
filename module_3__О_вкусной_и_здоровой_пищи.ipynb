{
  "nbformat": 4,
  "nbformat_minor": 0,
  "metadata": {
    "colab": {
      "name": "module_3_ О_вкусной_и_здоровой_пищи.ipynb",
      "provenance": [],
      "authorship_tag": "ABX9TyPELh97pG7/F8WKdZ0qWShV",
      "include_colab_link": true
    },
    "kernelspec": {
      "name": "python3",
      "display_name": "Python 3"
    },
    "language_info": {
      "name": "python"
    }
  },
  "cells": [
    {
      "cell_type": "markdown",
      "metadata": {
        "id": "view-in-github",
        "colab_type": "text"
      },
      "source": [
        "<a href=\"https://colab.research.google.com/github/ElenaMakarova91/skillfactory_rds_module3/blob/main/module_3__%D0%9E_%D0%B2%D0%BA%D1%83%D1%81%D0%BD%D0%BE%D0%B9_%D0%B8_%D0%B7%D0%B4%D0%BE%D1%80%D0%BE%D0%B2%D0%BE%D0%B9_%D0%BF%D0%B8%D1%89%D0%B8.ipynb\" target=\"_parent\"><img src=\"https://colab.research.google.com/assets/colab-badge.svg\" alt=\"Open In Colab\"/></a>"
      ]
    },
    {
      "cell_type": "code",
      "metadata": {
        "id": "WtwrNNQV5APT"
      },
      "source": [
        ""
      ],
      "execution_count": null,
      "outputs": []
    },
    {
      "cell_type": "markdown",
      "metadata": {
        "id": "TIncTCGP5EUZ"
      },
      "source": [
        "# **Загрузка Pandas и очистка данных**"
      ]
    },
    {
      "cell_type": "code",
      "metadata": {
        "id": "uVqH2Csn5Obf"
      },
      "source": [
        "import numpy as np  # для работы с массивами\n",
        "import pandas as pd  # для работы DataFrame\n",
        "import seaborn as sns  # библиотека для визуализации статистических данных\n",
        "from sklearn.ensemble import RandomForestRegressor # инструмент для создания и обучения модели  \n",
        "from sklearn import metrics # инструменты для оценки точности модели\n",
        "from sklearn.model_selection import train_test_split # специальный инструмент для разбивки  \n",
        "import matplotlib.pyplot as plt  # для построения графиков\n",
        "import re  # для регулярных выражений\n",
        "from ast import literal_eval  # для преобразования списков\n"
      ],
      "execution_count": null,
      "outputs": []
    },
    {
      "cell_type": "code",
      "metadata": {
        "id": "ptc7UBVj5Sbk"
      },
      "source": [
        "# для распознования тональности отзывов\n",
        "import textblob\n",
        "from textblob import TextBlob, Word, Blobber\n",
        "from textblob.classifiers import NaiveBayesClassifier\n",
        "from textblob.taggers import NLTKTagger"
      ],
      "execution_count": null,
      "outputs": []
    },
    {
      "cell_type": "code",
      "metadata": {
        "colab": {
          "base_uri": "https://localhost:8080/"
        },
        "id": "7hbmiQVT5WFn",
        "outputId": "47abd77b-651e-417e-ae55-1785ec01c70c"
      },
      "source": [
        "from google.colab import drive\n",
        "drive.mount('/content/drive')\n",
        "path = './drive/My Drive/Colab Notebooks/skillfactory/module_3'"
      ],
      "execution_count": null,
      "outputs": [
        {
          "output_type": "stream",
          "name": "stdout",
          "text": [
            "Drive already mounted at /content/drive; to attempt to forcibly remount, call drive.mount(\"/content/drive\", force_remount=True).\n"
          ]
        }
      ]
    },
    {
      "cell_type": "code",
      "metadata": {
        "id": "JcT3DgXV5jv7"
      },
      "source": [
        "df = pd.read_csv(path+'/main_task_new.csv')"
      ],
      "execution_count": null,
      "outputs": []
    },
    {
      "cell_type": "markdown",
      "metadata": {
        "id": "oKwo0nbR6PYo"
      },
      "source": [
        "#Первоначальная версия датасета состоит из десяти столбцов, содержащих следующую информацию:\n",
        "\n",
        "\n",
        "* *Restaurant_id* — идентификационный номер ресторана / сети ресторанов;\n",
        "* *City* — город, в котором находится ресторан;\n",
        "* *Cuisine Styl*e — кухня или кухни, к которым можно отнести блюда, предлагаемые в ресторане;\n",
        "* *Ranking* — место, которое занимает данный ресторан среди всех ресторанов своего города;\n",
        "* *Rating* — рейтинг ресторана по данным TripAdvisor (именно это значение должна будет предсказывать модель);\n",
        "* *Price Range* — диапазон цен в ресторане;\n",
        "* *Number of Reviews* — количество отзывов о ресторане;\n",
        "* *Reviews* — данные о двух отзывах, которые отображаются на сайте ресторана;\n",
        "* *URL_TA* — URL страницы ресторана на TripAdvisor;\n",
        "* *ID_TA* — идентификатор ресторана в базе данных TripAdvisor."
      ]
    },
    {
      "cell_type": "code",
      "metadata": {
        "colab": {
          "base_uri": "https://localhost:8080/",
          "height": 159
        },
        "id": "eorvntBi9WiP",
        "outputId": "df024e05-ccb3-4fbd-a3f6-988165be7843"
      },
      "source": [
        "df.head(1)"
      ],
      "execution_count": null,
      "outputs": [
        {
          "output_type": "execute_result",
          "data": {
            "text/html": [
              "\n",
              "  <div id=\"df-29cdae3d-efbd-4573-9ac5-5e813b4c0b4f\">\n",
              "    <div class=\"colab-df-container\">\n",
              "      <div>\n",
              "<style scoped>\n",
              "    .dataframe tbody tr th:only-of-type {\n",
              "        vertical-align: middle;\n",
              "    }\n",
              "\n",
              "    .dataframe tbody tr th {\n",
              "        vertical-align: top;\n",
              "    }\n",
              "\n",
              "    .dataframe thead th {\n",
              "        text-align: right;\n",
              "    }\n",
              "</style>\n",
              "<table border=\"1\" class=\"dataframe\">\n",
              "  <thead>\n",
              "    <tr style=\"text-align: right;\">\n",
              "      <th></th>\n",
              "      <th>Restaurant_id</th>\n",
              "      <th>City</th>\n",
              "      <th>Cuisine Style</th>\n",
              "      <th>Ranking</th>\n",
              "      <th>Rating</th>\n",
              "      <th>Price Range</th>\n",
              "      <th>Number of Reviews</th>\n",
              "      <th>Reviews</th>\n",
              "      <th>URL_TA</th>\n",
              "      <th>ID_TA</th>\n",
              "    </tr>\n",
              "  </thead>\n",
              "  <tbody>\n",
              "    <tr>\n",
              "      <th>0</th>\n",
              "      <td>id_5569</td>\n",
              "      <td>Paris</td>\n",
              "      <td>['European', 'French', 'International']</td>\n",
              "      <td>5570.0</td>\n",
              "      <td>3.5</td>\n",
              "      <td>$$ - $$$</td>\n",
              "      <td>194.0</td>\n",
              "      <td>[['Good food at your doorstep', 'A good hotel ...</td>\n",
              "      <td>/Restaurant_Review-g187147-d1912643-Reviews-R_...</td>\n",
              "      <td>d1912643</td>\n",
              "    </tr>\n",
              "  </tbody>\n",
              "</table>\n",
              "</div>\n",
              "      <button class=\"colab-df-convert\" onclick=\"convertToInteractive('df-29cdae3d-efbd-4573-9ac5-5e813b4c0b4f')\"\n",
              "              title=\"Convert this dataframe to an interactive table.\"\n",
              "              style=\"display:none;\">\n",
              "        \n",
              "  <svg xmlns=\"http://www.w3.org/2000/svg\" height=\"24px\"viewBox=\"0 0 24 24\"\n",
              "       width=\"24px\">\n",
              "    <path d=\"M0 0h24v24H0V0z\" fill=\"none\"/>\n",
              "    <path d=\"M18.56 5.44l.94 2.06.94-2.06 2.06-.94-2.06-.94-.94-2.06-.94 2.06-2.06.94zm-11 1L8.5 8.5l.94-2.06 2.06-.94-2.06-.94L8.5 2.5l-.94 2.06-2.06.94zm10 10l.94 2.06.94-2.06 2.06-.94-2.06-.94-.94-2.06-.94 2.06-2.06.94z\"/><path d=\"M17.41 7.96l-1.37-1.37c-.4-.4-.92-.59-1.43-.59-.52 0-1.04.2-1.43.59L10.3 9.45l-7.72 7.72c-.78.78-.78 2.05 0 2.83L4 21.41c.39.39.9.59 1.41.59.51 0 1.02-.2 1.41-.59l7.78-7.78 2.81-2.81c.8-.78.8-2.07 0-2.86zM5.41 20L4 18.59l7.72-7.72 1.47 1.35L5.41 20z\"/>\n",
              "  </svg>\n",
              "      </button>\n",
              "      \n",
              "  <style>\n",
              "    .colab-df-container {\n",
              "      display:flex;\n",
              "      flex-wrap:wrap;\n",
              "      gap: 12px;\n",
              "    }\n",
              "\n",
              "    .colab-df-convert {\n",
              "      background-color: #E8F0FE;\n",
              "      border: none;\n",
              "      border-radius: 50%;\n",
              "      cursor: pointer;\n",
              "      display: none;\n",
              "      fill: #1967D2;\n",
              "      height: 32px;\n",
              "      padding: 0 0 0 0;\n",
              "      width: 32px;\n",
              "    }\n",
              "\n",
              "    .colab-df-convert:hover {\n",
              "      background-color: #E2EBFA;\n",
              "      box-shadow: 0px 1px 2px rgba(60, 64, 67, 0.3), 0px 1px 3px 1px rgba(60, 64, 67, 0.15);\n",
              "      fill: #174EA6;\n",
              "    }\n",
              "\n",
              "    [theme=dark] .colab-df-convert {\n",
              "      background-color: #3B4455;\n",
              "      fill: #D2E3FC;\n",
              "    }\n",
              "\n",
              "    [theme=dark] .colab-df-convert:hover {\n",
              "      background-color: #434B5C;\n",
              "      box-shadow: 0px 1px 3px 1px rgba(0, 0, 0, 0.15);\n",
              "      filter: drop-shadow(0px 1px 2px rgba(0, 0, 0, 0.3));\n",
              "      fill: #FFFFFF;\n",
              "    }\n",
              "  </style>\n",
              "\n",
              "      <script>\n",
              "        const buttonEl =\n",
              "          document.querySelector('#df-29cdae3d-efbd-4573-9ac5-5e813b4c0b4f button.colab-df-convert');\n",
              "        buttonEl.style.display =\n",
              "          google.colab.kernel.accessAllowed ? 'block' : 'none';\n",
              "\n",
              "        async function convertToInteractive(key) {\n",
              "          const element = document.querySelector('#df-29cdae3d-efbd-4573-9ac5-5e813b4c0b4f');\n",
              "          const dataTable =\n",
              "            await google.colab.kernel.invokeFunction('convertToInteractive',\n",
              "                                                     [key], {});\n",
              "          if (!dataTable) return;\n",
              "\n",
              "          const docLinkHtml = 'Like what you see? Visit the ' +\n",
              "            '<a target=\"_blank\" href=https://colab.research.google.com/notebooks/data_table.ipynb>data table notebook</a>'\n",
              "            + ' to learn more about interactive tables.';\n",
              "          element.innerHTML = '';\n",
              "          dataTable['output_type'] = 'display_data';\n",
              "          await google.colab.output.renderOutput(dataTable, element);\n",
              "          const docLink = document.createElement('div');\n",
              "          docLink.innerHTML = docLinkHtml;\n",
              "          element.appendChild(docLink);\n",
              "        }\n",
              "      </script>\n",
              "    </div>\n",
              "  </div>\n",
              "  "
            ],
            "text/plain": [
              "  Restaurant_id  ...     ID_TA\n",
              "0       id_5569  ...  d1912643\n",
              "\n",
              "[1 rows x 10 columns]"
            ]
          },
          "metadata": {},
          "execution_count": 146
        }
      ]
    },
    {
      "cell_type": "code",
      "metadata": {
        "id": "LrifU1wZDvxZ"
      },
      "source": [
        "#переименовываем колонки для удобства\n",
        "df.columns = ['id', 'city', 'cuisine', 'rank', 'rating', 'price', 'number_reviews', 'reviews', 'url', 'ID_TA']"
      ],
      "execution_count": null,
      "outputs": []
    },
    {
      "cell_type": "code",
      "metadata": {
        "colab": {
          "base_uri": "https://localhost:8080/"
        },
        "id": "PwdrmXcY6oKl",
        "outputId": "eb0607e4-d2a9-4508-ea15-53473e483a64"
      },
      "source": [
        "df.info()"
      ],
      "execution_count": null,
      "outputs": [
        {
          "output_type": "stream",
          "name": "stdout",
          "text": [
            "<class 'pandas.core.frame.DataFrame'>\n",
            "RangeIndex: 40000 entries, 0 to 39999\n",
            "Data columns (total 10 columns):\n",
            " #   Column          Non-Null Count  Dtype  \n",
            "---  ------          --------------  -----  \n",
            " 0   id              40000 non-null  object \n",
            " 1   city            40000 non-null  object \n",
            " 2   cuisine         30717 non-null  object \n",
            " 3   rank            40000 non-null  float64\n",
            " 4   rating          40000 non-null  float64\n",
            " 5   price           26114 non-null  object \n",
            " 6   number_reviews  37457 non-null  float64\n",
            " 7   reviews         40000 non-null  object \n",
            " 8   url             40000 non-null  object \n",
            " 9   ID_TA           40000 non-null  object \n",
            "dtypes: float64(3), object(7)\n",
            "memory usage: 3.1+ MB\n"
          ]
        }
      ]
    },
    {
      "cell_type": "code",
      "metadata": {
        "colab": {
          "base_uri": "https://localhost:8080/",
          "height": 300
        },
        "id": "UzYhm1LF6qtP",
        "outputId": "c871aef5-de56-4b2d-f561-6405db4cf6b0"
      },
      "source": [
        "df.describe()"
      ],
      "execution_count": null,
      "outputs": [
        {
          "output_type": "execute_result",
          "data": {
            "text/html": [
              "\n",
              "  <div id=\"df-b42c2545-735d-4f87-b7cd-04319c023999\">\n",
              "    <div class=\"colab-df-container\">\n",
              "      <div>\n",
              "<style scoped>\n",
              "    .dataframe tbody tr th:only-of-type {\n",
              "        vertical-align: middle;\n",
              "    }\n",
              "\n",
              "    .dataframe tbody tr th {\n",
              "        vertical-align: top;\n",
              "    }\n",
              "\n",
              "    .dataframe thead th {\n",
              "        text-align: right;\n",
              "    }\n",
              "</style>\n",
              "<table border=\"1\" class=\"dataframe\">\n",
              "  <thead>\n",
              "    <tr style=\"text-align: right;\">\n",
              "      <th></th>\n",
              "      <th>rank</th>\n",
              "      <th>rating</th>\n",
              "      <th>number_reviews</th>\n",
              "    </tr>\n",
              "  </thead>\n",
              "  <tbody>\n",
              "    <tr>\n",
              "      <th>count</th>\n",
              "      <td>40000.000000</td>\n",
              "      <td>40000.000000</td>\n",
              "      <td>37457.000000</td>\n",
              "    </tr>\n",
              "    <tr>\n",
              "      <th>mean</th>\n",
              "      <td>3676.028525</td>\n",
              "      <td>3.993037</td>\n",
              "      <td>124.825480</td>\n",
              "    </tr>\n",
              "    <tr>\n",
              "      <th>std</th>\n",
              "      <td>3708.749567</td>\n",
              "      <td>0.668417</td>\n",
              "      <td>295.666352</td>\n",
              "    </tr>\n",
              "    <tr>\n",
              "      <th>min</th>\n",
              "      <td>1.000000</td>\n",
              "      <td>1.000000</td>\n",
              "      <td>2.000000</td>\n",
              "    </tr>\n",
              "    <tr>\n",
              "      <th>25%</th>\n",
              "      <td>973.000000</td>\n",
              "      <td>3.500000</td>\n",
              "      <td>9.000000</td>\n",
              "    </tr>\n",
              "    <tr>\n",
              "      <th>50%</th>\n",
              "      <td>2285.000000</td>\n",
              "      <td>4.000000</td>\n",
              "      <td>33.000000</td>\n",
              "    </tr>\n",
              "    <tr>\n",
              "      <th>75%</th>\n",
              "      <td>5260.000000</td>\n",
              "      <td>4.500000</td>\n",
              "      <td>115.000000</td>\n",
              "    </tr>\n",
              "    <tr>\n",
              "      <th>max</th>\n",
              "      <td>16444.000000</td>\n",
              "      <td>5.000000</td>\n",
              "      <td>9660.000000</td>\n",
              "    </tr>\n",
              "  </tbody>\n",
              "</table>\n",
              "</div>\n",
              "      <button class=\"colab-df-convert\" onclick=\"convertToInteractive('df-b42c2545-735d-4f87-b7cd-04319c023999')\"\n",
              "              title=\"Convert this dataframe to an interactive table.\"\n",
              "              style=\"display:none;\">\n",
              "        \n",
              "  <svg xmlns=\"http://www.w3.org/2000/svg\" height=\"24px\"viewBox=\"0 0 24 24\"\n",
              "       width=\"24px\">\n",
              "    <path d=\"M0 0h24v24H0V0z\" fill=\"none\"/>\n",
              "    <path d=\"M18.56 5.44l.94 2.06.94-2.06 2.06-.94-2.06-.94-.94-2.06-.94 2.06-2.06.94zm-11 1L8.5 8.5l.94-2.06 2.06-.94-2.06-.94L8.5 2.5l-.94 2.06-2.06.94zm10 10l.94 2.06.94-2.06 2.06-.94-2.06-.94-.94-2.06-.94 2.06-2.06.94z\"/><path d=\"M17.41 7.96l-1.37-1.37c-.4-.4-.92-.59-1.43-.59-.52 0-1.04.2-1.43.59L10.3 9.45l-7.72 7.72c-.78.78-.78 2.05 0 2.83L4 21.41c.39.39.9.59 1.41.59.51 0 1.02-.2 1.41-.59l7.78-7.78 2.81-2.81c.8-.78.8-2.07 0-2.86zM5.41 20L4 18.59l7.72-7.72 1.47 1.35L5.41 20z\"/>\n",
              "  </svg>\n",
              "      </button>\n",
              "      \n",
              "  <style>\n",
              "    .colab-df-container {\n",
              "      display:flex;\n",
              "      flex-wrap:wrap;\n",
              "      gap: 12px;\n",
              "    }\n",
              "\n",
              "    .colab-df-convert {\n",
              "      background-color: #E8F0FE;\n",
              "      border: none;\n",
              "      border-radius: 50%;\n",
              "      cursor: pointer;\n",
              "      display: none;\n",
              "      fill: #1967D2;\n",
              "      height: 32px;\n",
              "      padding: 0 0 0 0;\n",
              "      width: 32px;\n",
              "    }\n",
              "\n",
              "    .colab-df-convert:hover {\n",
              "      background-color: #E2EBFA;\n",
              "      box-shadow: 0px 1px 2px rgba(60, 64, 67, 0.3), 0px 1px 3px 1px rgba(60, 64, 67, 0.15);\n",
              "      fill: #174EA6;\n",
              "    }\n",
              "\n",
              "    [theme=dark] .colab-df-convert {\n",
              "      background-color: #3B4455;\n",
              "      fill: #D2E3FC;\n",
              "    }\n",
              "\n",
              "    [theme=dark] .colab-df-convert:hover {\n",
              "      background-color: #434B5C;\n",
              "      box-shadow: 0px 1px 3px 1px rgba(0, 0, 0, 0.15);\n",
              "      filter: drop-shadow(0px 1px 2px rgba(0, 0, 0, 0.3));\n",
              "      fill: #FFFFFF;\n",
              "    }\n",
              "  </style>\n",
              "\n",
              "      <script>\n",
              "        const buttonEl =\n",
              "          document.querySelector('#df-b42c2545-735d-4f87-b7cd-04319c023999 button.colab-df-convert');\n",
              "        buttonEl.style.display =\n",
              "          google.colab.kernel.accessAllowed ? 'block' : 'none';\n",
              "\n",
              "        async function convertToInteractive(key) {\n",
              "          const element = document.querySelector('#df-b42c2545-735d-4f87-b7cd-04319c023999');\n",
              "          const dataTable =\n",
              "            await google.colab.kernel.invokeFunction('convertToInteractive',\n",
              "                                                     [key], {});\n",
              "          if (!dataTable) return;\n",
              "\n",
              "          const docLinkHtml = 'Like what you see? Visit the ' +\n",
              "            '<a target=\"_blank\" href=https://colab.research.google.com/notebooks/data_table.ipynb>data table notebook</a>'\n",
              "            + ' to learn more about interactive tables.';\n",
              "          element.innerHTML = '';\n",
              "          dataTable['output_type'] = 'display_data';\n",
              "          await google.colab.output.renderOutput(dataTable, element);\n",
              "          const docLink = document.createElement('div');\n",
              "          docLink.innerHTML = docLinkHtml;\n",
              "          element.appendChild(docLink);\n",
              "        }\n",
              "      </script>\n",
              "    </div>\n",
              "  </div>\n",
              "  "
            ],
            "text/plain": [
              "               rank        rating  number_reviews\n",
              "count  40000.000000  40000.000000    37457.000000\n",
              "mean    3676.028525      3.993037      124.825480\n",
              "std     3708.749567      0.668417      295.666352\n",
              "min        1.000000      1.000000        2.000000\n",
              "25%      973.000000      3.500000        9.000000\n",
              "50%     2285.000000      4.000000       33.000000\n",
              "75%     5260.000000      4.500000      115.000000\n",
              "max    16444.000000      5.000000     9660.000000"
            ]
          },
          "metadata": {},
          "execution_count": 149
        }
      ]
    },
    {
      "cell_type": "code",
      "metadata": {
        "colab": {
          "base_uri": "https://localhost:8080/"
        },
        "id": "JhkHEL-K9Gax",
        "outputId": "ba233adf-1f26-463c-d596-8f0ab9fc575a"
      },
      "source": [
        "df.nunique(dropna=False)  # уникальносить признаков"
      ],
      "execution_count": null,
      "outputs": [
        {
          "output_type": "execute_result",
          "data": {
            "text/plain": [
              "id                11909\n",
              "city                 31\n",
              "cuisine            9008\n",
              "rank              11936\n",
              "rating                9\n",
              "price                 4\n",
              "number_reviews     1460\n",
              "reviews           33516\n",
              "url               39980\n",
              "ID_TA             39980\n",
              "dtype: int64"
            ]
          },
          "metadata": {},
          "execution_count": 150
        }
      ]
    },
    {
      "cell_type": "markdown",
      "metadata": {
        "id": "i5aIQpYA7ZgU"
      },
      "source": [
        "для корректной работы все данные в датафрейме, который вы будете использовать при обучении модели, должны быть в форматах int или float. Есть и ещё одно жёсткое ограничение: в столбцах не должно быть None-значений. В реальных проектах в индустрии используются разные подходы к работе с None-значениями. Если позволяют условия, то строки, содержащие неполные данные, просто удаляют из датасета. Однако в задачах по машинному обучению эта стратегия не используется никогда, потому что настоящие герои никогда не ищут лёгких путей :) Вместо каждого NaN вам нужно будет вычислить и поместить в ячейку максимально близкое к реальности значение."
      ]
    },
    {
      "cell_type": "markdown",
      "metadata": {
        "id": "w2GQcyfPKhOr"
      },
      "source": [
        "# Преобразование данных и очистка данных"
      ]
    },
    {
      "cell_type": "markdown",
      "metadata": {
        "id": "C3SeqMcC7hkL"
      },
      "source": [
        "✅**На первом этапе** для создания такого датафрейма давайте просто **удалим \n",
        "столбцы, содержащие данные типа object**, **и заполним пропущенные значения** (None или NaN) каким-то одним значением (нулём или средним арифметическим) для всего столбца."
      ]
    },
    {
      "cell_type": "markdown",
      "metadata": {
        "id": "CcqeJeiULlcM"
      },
      "source": [
        "## Преобразования столбца **id**"
      ]
    },
    {
      "cell_type": "code",
      "metadata": {
        "colab": {
          "base_uri": "https://localhost:8080/"
        },
        "id": "v9mJjfmfLlBp",
        "outputId": "77ab0964-c838-4baf-aaf3-2a6b14fb1e0b"
      },
      "source": [
        "# посмотрим, есть ли повторяющиеся рестораны\n",
        "t=df['id'].nunique(dropna=False)\n",
        "l=len(df['id'])\n",
        "l-t"
      ],
      "execution_count": null,
      "outputs": [
        {
          "output_type": "execute_result",
          "data": {
            "text/plain": [
              "28091"
            ]
          },
          "metadata": {},
          "execution_count": 151
        }
      ]
    },
    {
      "cell_type": "code",
      "metadata": {
        "colab": {
          "base_uri": "https://localhost:8080/"
        },
        "id": "j1B6S5HttO0y",
        "outputId": "caac7a50-45dc-489b-b786-18e370b8dcc0"
      },
      "source": [
        "# сгруппируем с одинаковыми id\n",
        "df_id = df[['id']].value_counts()\n",
        "df_id"
      ],
      "execution_count": null,
      "outputs": [
        {
          "output_type": "execute_result",
          "data": {
            "text/plain": [
              "id      \n",
              "id_633      18\n",
              "id_871      18\n",
              "id_227      18\n",
              "id_436      18\n",
              "id_430      17\n",
              "            ..\n",
              "id_15507     1\n",
              "id_15508     1\n",
              "id_8980      1\n",
              "id_15515     1\n",
              "id_16316     1\n",
              "Length: 11909, dtype: int64"
            ]
          },
          "metadata": {},
          "execution_count": 152
        }
      ]
    },
    {
      "cell_type": "code",
      "metadata": {
        "id": "WAHgwL5cy_qP"
      },
      "source": [
        "df_id = df_id.to_frame().reset_index()\n",
        "# добавим столбец с количеством ресторанов в группе\n",
        "df_id.columns = ['id', 'id_group']\n",
        "df = df.merge(df_id, how='left', on=['id'])"
      ],
      "execution_count": null,
      "outputs": []
    },
    {
      "cell_type": "code",
      "metadata": {
        "colab": {
          "base_uri": "https://localhost:8080/"
        },
        "id": "Or2iUIkwtNZ7",
        "outputId": "5c290feb-af09-4549-bb28-6836f8f8f07e"
      },
      "source": [
        "df.head(3)"
      ],
      "execution_count": null,
      "outputs": [
        {
          "output_type": "execute_result",
          "data": {
            "text/html": [
              "\n",
              "  <div id=\"df-34994d87-5f59-4ef7-9c0a-30de317c640f\">\n",
              "    <div class=\"colab-df-container\">\n",
              "      <div>\n",
              "<style scoped>\n",
              "    .dataframe tbody tr th:only-of-type {\n",
              "        vertical-align: middle;\n",
              "    }\n",
              "\n",
              "    .dataframe tbody tr th {\n",
              "        vertical-align: top;\n",
              "    }\n",
              "\n",
              "    .dataframe thead th {\n",
              "        text-align: right;\n",
              "    }\n",
              "</style>\n",
              "<table border=\"1\" class=\"dataframe\">\n",
              "  <thead>\n",
              "    <tr style=\"text-align: right;\">\n",
              "      <th></th>\n",
              "      <th>id</th>\n",
              "      <th>city</th>\n",
              "      <th>cuisine</th>\n",
              "      <th>rank</th>\n",
              "      <th>rating</th>\n",
              "      <th>price</th>\n",
              "      <th>number_reviews</th>\n",
              "      <th>reviews</th>\n",
              "      <th>url</th>\n",
              "      <th>ID_TA</th>\n",
              "      <th>id_group</th>\n",
              "    </tr>\n",
              "  </thead>\n",
              "  <tbody>\n",
              "    <tr>\n",
              "      <th>0</th>\n",
              "      <td>id_5569</td>\n",
              "      <td>Paris</td>\n",
              "      <td>['European', 'French', 'International']</td>\n",
              "      <td>5570.0</td>\n",
              "      <td>3.5</td>\n",
              "      <td>$$ - $$$</td>\n",
              "      <td>194.0</td>\n",
              "      <td>[['Good food at your doorstep', 'A good hotel ...</td>\n",
              "      <td>/Restaurant_Review-g187147-d1912643-Reviews-R_...</td>\n",
              "      <td>d1912643</td>\n",
              "      <td>3</td>\n",
              "    </tr>\n",
              "    <tr>\n",
              "      <th>1</th>\n",
              "      <td>id_1535</td>\n",
              "      <td>Stockholm</td>\n",
              "      <td>NaN</td>\n",
              "      <td>1537.0</td>\n",
              "      <td>4.0</td>\n",
              "      <td>NaN</td>\n",
              "      <td>10.0</td>\n",
              "      <td>[['Unique cuisine', 'Delicious Nepalese food']...</td>\n",
              "      <td>/Restaurant_Review-g189852-d7992032-Reviews-Bu...</td>\n",
              "      <td>d7992032</td>\n",
              "      <td>10</td>\n",
              "    </tr>\n",
              "    <tr>\n",
              "      <th>2</th>\n",
              "      <td>id_352</td>\n",
              "      <td>London</td>\n",
              "      <td>['Japanese', 'Sushi', 'Asian', 'Grill', 'Veget...</td>\n",
              "      <td>353.0</td>\n",
              "      <td>4.5</td>\n",
              "      <td>$$$$</td>\n",
              "      <td>688.0</td>\n",
              "      <td>[['Catch up with friends', 'Not exceptional'],...</td>\n",
              "      <td>/Restaurant_Review-g186338-d8632781-Reviews-RO...</td>\n",
              "      <td>d8632781</td>\n",
              "      <td>8</td>\n",
              "    </tr>\n",
              "  </tbody>\n",
              "</table>\n",
              "</div>\n",
              "      <button class=\"colab-df-convert\" onclick=\"convertToInteractive('df-34994d87-5f59-4ef7-9c0a-30de317c640f')\"\n",
              "              title=\"Convert this dataframe to an interactive table.\"\n",
              "              style=\"display:none;\">\n",
              "        \n",
              "  <svg xmlns=\"http://www.w3.org/2000/svg\" height=\"24px\"viewBox=\"0 0 24 24\"\n",
              "       width=\"24px\">\n",
              "    <path d=\"M0 0h24v24H0V0z\" fill=\"none\"/>\n",
              "    <path d=\"M18.56 5.44l.94 2.06.94-2.06 2.06-.94-2.06-.94-.94-2.06-.94 2.06-2.06.94zm-11 1L8.5 8.5l.94-2.06 2.06-.94-2.06-.94L8.5 2.5l-.94 2.06-2.06.94zm10 10l.94 2.06.94-2.06 2.06-.94-2.06-.94-.94-2.06-.94 2.06-2.06.94z\"/><path d=\"M17.41 7.96l-1.37-1.37c-.4-.4-.92-.59-1.43-.59-.52 0-1.04.2-1.43.59L10.3 9.45l-7.72 7.72c-.78.78-.78 2.05 0 2.83L4 21.41c.39.39.9.59 1.41.59.51 0 1.02-.2 1.41-.59l7.78-7.78 2.81-2.81c.8-.78.8-2.07 0-2.86zM5.41 20L4 18.59l7.72-7.72 1.47 1.35L5.41 20z\"/>\n",
              "  </svg>\n",
              "      </button>\n",
              "      \n",
              "  <style>\n",
              "    .colab-df-container {\n",
              "      display:flex;\n",
              "      flex-wrap:wrap;\n",
              "      gap: 12px;\n",
              "    }\n",
              "\n",
              "    .colab-df-convert {\n",
              "      background-color: #E8F0FE;\n",
              "      border: none;\n",
              "      border-radius: 50%;\n",
              "      cursor: pointer;\n",
              "      display: none;\n",
              "      fill: #1967D2;\n",
              "      height: 32px;\n",
              "      padding: 0 0 0 0;\n",
              "      width: 32px;\n",
              "    }\n",
              "\n",
              "    .colab-df-convert:hover {\n",
              "      background-color: #E2EBFA;\n",
              "      box-shadow: 0px 1px 2px rgba(60, 64, 67, 0.3), 0px 1px 3px 1px rgba(60, 64, 67, 0.15);\n",
              "      fill: #174EA6;\n",
              "    }\n",
              "\n",
              "    [theme=dark] .colab-df-convert {\n",
              "      background-color: #3B4455;\n",
              "      fill: #D2E3FC;\n",
              "    }\n",
              "\n",
              "    [theme=dark] .colab-df-convert:hover {\n",
              "      background-color: #434B5C;\n",
              "      box-shadow: 0px 1px 3px 1px rgba(0, 0, 0, 0.15);\n",
              "      filter: drop-shadow(0px 1px 2px rgba(0, 0, 0, 0.3));\n",
              "      fill: #FFFFFF;\n",
              "    }\n",
              "  </style>\n",
              "\n",
              "      <script>\n",
              "        const buttonEl =\n",
              "          document.querySelector('#df-34994d87-5f59-4ef7-9c0a-30de317c640f button.colab-df-convert');\n",
              "        buttonEl.style.display =\n",
              "          google.colab.kernel.accessAllowed ? 'block' : 'none';\n",
              "\n",
              "        async function convertToInteractive(key) {\n",
              "          const element = document.querySelector('#df-34994d87-5f59-4ef7-9c0a-30de317c640f');\n",
              "          const dataTable =\n",
              "            await google.colab.kernel.invokeFunction('convertToInteractive',\n",
              "                                                     [key], {});\n",
              "          if (!dataTable) return;\n",
              "\n",
              "          const docLinkHtml = 'Like what you see? Visit the ' +\n",
              "            '<a target=\"_blank\" href=https://colab.research.google.com/notebooks/data_table.ipynb>data table notebook</a>'\n",
              "            + ' to learn more about interactive tables.';\n",
              "          element.innerHTML = '';\n",
              "          dataTable['output_type'] = 'display_data';\n",
              "          await google.colab.output.renderOutput(dataTable, element);\n",
              "          const docLink = document.createElement('div');\n",
              "          docLink.innerHTML = docLinkHtml;\n",
              "          element.appendChild(docLink);\n",
              "        }\n",
              "      </script>\n",
              "    </div>\n",
              "  </div>\n",
              "  "
            ],
            "text/plain": [
              "        id       city  ...     ID_TA  id_group\n",
              "0  id_5569      Paris  ...  d1912643         3\n",
              "1  id_1535  Stockholm  ...  d7992032        10\n",
              "2   id_352     London  ...  d8632781         8\n",
              "\n",
              "[3 rows x 11 columns]"
            ]
          },
          "metadata": {},
          "execution_count": 154
        }
      ]
    },
    {
      "cell_type": "code",
      "metadata": {
        "id": "ScQo0hFV0neB"
      },
      "source": [
        ""
      ],
      "execution_count": null,
      "outputs": []
    },
    {
      "cell_type": "markdown",
      "metadata": {
        "id": "j18TFVImTaK0"
      },
      "source": [
        "## Преобразования столбца **city**"
      ]
    },
    {
      "cell_type": "code",
      "metadata": {
        "colab": {
          "base_uri": "https://localhost:8080/"
        },
        "id": "mCtRBSERTWzo",
        "outputId": "9b321b9f-82de-47b2-d9f3-2a21d8f3e2b6"
      },
      "source": [
        "# посмотрим сколько пропусков в данном столбце\n",
        "t=df['city'].isna()\n",
        "t.sum()"
      ],
      "execution_count": null,
      "outputs": [
        {
          "output_type": "execute_result",
          "data": {
            "text/plain": [
              "0"
            ]
          },
          "metadata": {},
          "execution_count": 155
        }
      ]
    },
    {
      "cell_type": "code",
      "source": [
        "len(df['city'].unique())"
      ],
      "metadata": {
        "colab": {
          "base_uri": "https://localhost:8080/"
        },
        "id": "DqhRpE9GUMUx",
        "outputId": "41edf84d-4d2c-4528-a263-51023593b26f"
      },
      "execution_count": null,
      "outputs": [
        {
          "output_type": "execute_result",
          "data": {
            "text/plain": [
              "31"
            ]
          },
          "metadata": {},
          "execution_count": 156
        }
      ]
    },
    {
      "cell_type": "markdown",
      "metadata": {
        "id": "7GrLupDlMz2R"
      },
      "source": [
        "## Преобразования столбца **cuisine**"
      ]
    },
    {
      "cell_type": "code",
      "metadata": {
        "colab": {
          "base_uri": "https://localhost:8080/"
        },
        "id": "NReNUsmOMCbI",
        "outputId": "9035d052-a0a4-41de-df89-790ac00475fb"
      },
      "source": [
        "# посмотрим сколько пропусков в данном столбце\n",
        "t=df['cuisine'].isna()\n",
        "t.sum()"
      ],
      "execution_count": null,
      "outputs": [
        {
          "output_type": "execute_result",
          "data": {
            "text/plain": [
              "9283"
            ]
          },
          "metadata": {},
          "execution_count": 157
        }
      ]
    },
    {
      "cell_type": "code",
      "metadata": {
        "colab": {
          "base_uri": "https://localhost:8080/"
        },
        "id": "uwZmaNq5WBc-",
        "outputId": "6f151051-e56c-4667-b94b-17a89d5fe388"
      },
      "source": [
        "df['cuisine']"
      ],
      "execution_count": null,
      "outputs": [
        {
          "output_type": "execute_result",
          "data": {
            "text/plain": [
              "0                  ['European', 'French', 'International']\n",
              "1                                                      NaN\n",
              "2        ['Japanese', 'Sushi', 'Asian', 'Grill', 'Veget...\n",
              "3                                                      NaN\n",
              "4        ['German', 'Central European', 'Vegetarian Fri...\n",
              "                               ...                        \n",
              "39995    ['Italian', 'Vegetarian Friendly', 'Vegan Opti...\n",
              "39996    ['French', 'American', 'Bar', 'European', 'Veg...\n",
              "39997                                ['Japanese', 'Sushi']\n",
              "39998    ['Polish', 'European', 'Eastern European', 'Ce...\n",
              "39999                                          ['Spanish']\n",
              "Name: cuisine, Length: 40000, dtype: object"
            ]
          },
          "metadata": {},
          "execution_count": 158
        }
      ]
    },
    {
      "cell_type": "code",
      "metadata": {
        "id": "utcvUFyIWeBM"
      },
      "source": [
        "# видим что данные по cuisine записаны в виде списков"
      ],
      "execution_count": null,
      "outputs": []
    },
    {
      "cell_type": "code",
      "metadata": {
        "id": "PBFNDe8lWosS"
      },
      "source": [
        "# заполним пропуски новым значением Unknown, так как предугодать в данном случчае очень сложно\n",
        "df['cuisine']=df['cuisine'].fillna(\"['unknown']\") "
      ],
      "execution_count": null,
      "outputs": []
    },
    {
      "cell_type": "code",
      "metadata": {
        "id": "XQggP4ayXnYZ"
      },
      "source": [
        "# преобразуем строку в список \n",
        "df['cuisine'] = df['cuisine'].apply(literal_eval) "
      ],
      "execution_count": null,
      "outputs": []
    },
    {
      "cell_type": "code",
      "source": [
        "df['cuisine'].explode().value_counts()"
      ],
      "metadata": {
        "colab": {
          "base_uri": "https://localhost:8080/"
        },
        "id": "Pz7jS_H0VaQY",
        "outputId": "df31d5f6-3034-4203-fc08-e4f2f6172a4e"
      },
      "execution_count": null,
      "outputs": [
        {
          "output_type": "execute_result",
          "data": {
            "text/plain": [
              "Vegetarian Friendly    11189\n",
              "European               10060\n",
              "unknown                 9283\n",
              "Mediterranean           6277\n",
              "Italian                 5964\n",
              "                       ...  \n",
              "Burmese                    1\n",
              "Latvian                    1\n",
              "Xinjiang                   1\n",
              "Salvadoran                 1\n",
              "Yunnan                     1\n",
              "Name: cuisine, Length: 126, dtype: int64"
            ]
          },
          "metadata": {},
          "execution_count": 162
        }
      ]
    },
    {
      "cell_type": "markdown",
      "source": [
        "создадим новый признак: количество видов кухонь в ресторане."
      ],
      "metadata": {
        "id": "xYef1xq38tt3"
      }
    },
    {
      "cell_type": "code",
      "source": [
        "cuisines_len = []\n",
        "for x in df[\"cuisine\"]:\n",
        "    cuisines_len.append(len(x))\n",
        "\n",
        "df[\"number_of_cuisines\"] = cuisines_len"
      ],
      "metadata": {
        "id": "NsSKX-z38tfP"
      },
      "execution_count": null,
      "outputs": []
    },
    {
      "cell_type": "code",
      "source": [
        "df.head(2)"
      ],
      "metadata": {
        "colab": {
          "base_uri": "https://localhost:8080/"
        },
        "id": "nQrdutcR-4BQ",
        "outputId": "426a4ef8-11f6-4a80-fc35-11e5682fa6f4"
      },
      "execution_count": null,
      "outputs": [
        {
          "output_type": "execute_result",
          "data": {
            "text/html": [
              "\n",
              "  <div id=\"df-92b9182d-c9ac-4cab-b1aa-90dfe1ce7b4c\">\n",
              "    <div class=\"colab-df-container\">\n",
              "      <div>\n",
              "<style scoped>\n",
              "    .dataframe tbody tr th:only-of-type {\n",
              "        vertical-align: middle;\n",
              "    }\n",
              "\n",
              "    .dataframe tbody tr th {\n",
              "        vertical-align: top;\n",
              "    }\n",
              "\n",
              "    .dataframe thead th {\n",
              "        text-align: right;\n",
              "    }\n",
              "</style>\n",
              "<table border=\"1\" class=\"dataframe\">\n",
              "  <thead>\n",
              "    <tr style=\"text-align: right;\">\n",
              "      <th></th>\n",
              "      <th>id</th>\n",
              "      <th>city</th>\n",
              "      <th>cuisine</th>\n",
              "      <th>rank</th>\n",
              "      <th>rating</th>\n",
              "      <th>price</th>\n",
              "      <th>number_reviews</th>\n",
              "      <th>reviews</th>\n",
              "      <th>url</th>\n",
              "      <th>ID_TA</th>\n",
              "      <th>id_group</th>\n",
              "      <th>number_of_cuisines</th>\n",
              "    </tr>\n",
              "  </thead>\n",
              "  <tbody>\n",
              "    <tr>\n",
              "      <th>0</th>\n",
              "      <td>id_5569</td>\n",
              "      <td>Paris</td>\n",
              "      <td>[European, French, International]</td>\n",
              "      <td>5570.0</td>\n",
              "      <td>3.5</td>\n",
              "      <td>$$ - $$$</td>\n",
              "      <td>194.0</td>\n",
              "      <td>[['Good food at your doorstep', 'A good hotel ...</td>\n",
              "      <td>/Restaurant_Review-g187147-d1912643-Reviews-R_...</td>\n",
              "      <td>d1912643</td>\n",
              "      <td>3</td>\n",
              "      <td>3</td>\n",
              "    </tr>\n",
              "    <tr>\n",
              "      <th>1</th>\n",
              "      <td>id_1535</td>\n",
              "      <td>Stockholm</td>\n",
              "      <td>[unknown]</td>\n",
              "      <td>1537.0</td>\n",
              "      <td>4.0</td>\n",
              "      <td>NaN</td>\n",
              "      <td>10.0</td>\n",
              "      <td>[['Unique cuisine', 'Delicious Nepalese food']...</td>\n",
              "      <td>/Restaurant_Review-g189852-d7992032-Reviews-Bu...</td>\n",
              "      <td>d7992032</td>\n",
              "      <td>10</td>\n",
              "      <td>1</td>\n",
              "    </tr>\n",
              "  </tbody>\n",
              "</table>\n",
              "</div>\n",
              "      <button class=\"colab-df-convert\" onclick=\"convertToInteractive('df-92b9182d-c9ac-4cab-b1aa-90dfe1ce7b4c')\"\n",
              "              title=\"Convert this dataframe to an interactive table.\"\n",
              "              style=\"display:none;\">\n",
              "        \n",
              "  <svg xmlns=\"http://www.w3.org/2000/svg\" height=\"24px\"viewBox=\"0 0 24 24\"\n",
              "       width=\"24px\">\n",
              "    <path d=\"M0 0h24v24H0V0z\" fill=\"none\"/>\n",
              "    <path d=\"M18.56 5.44l.94 2.06.94-2.06 2.06-.94-2.06-.94-.94-2.06-.94 2.06-2.06.94zm-11 1L8.5 8.5l.94-2.06 2.06-.94-2.06-.94L8.5 2.5l-.94 2.06-2.06.94zm10 10l.94 2.06.94-2.06 2.06-.94-2.06-.94-.94-2.06-.94 2.06-2.06.94z\"/><path d=\"M17.41 7.96l-1.37-1.37c-.4-.4-.92-.59-1.43-.59-.52 0-1.04.2-1.43.59L10.3 9.45l-7.72 7.72c-.78.78-.78 2.05 0 2.83L4 21.41c.39.39.9.59 1.41.59.51 0 1.02-.2 1.41-.59l7.78-7.78 2.81-2.81c.8-.78.8-2.07 0-2.86zM5.41 20L4 18.59l7.72-7.72 1.47 1.35L5.41 20z\"/>\n",
              "  </svg>\n",
              "      </button>\n",
              "      \n",
              "  <style>\n",
              "    .colab-df-container {\n",
              "      display:flex;\n",
              "      flex-wrap:wrap;\n",
              "      gap: 12px;\n",
              "    }\n",
              "\n",
              "    .colab-df-convert {\n",
              "      background-color: #E8F0FE;\n",
              "      border: none;\n",
              "      border-radius: 50%;\n",
              "      cursor: pointer;\n",
              "      display: none;\n",
              "      fill: #1967D2;\n",
              "      height: 32px;\n",
              "      padding: 0 0 0 0;\n",
              "      width: 32px;\n",
              "    }\n",
              "\n",
              "    .colab-df-convert:hover {\n",
              "      background-color: #E2EBFA;\n",
              "      box-shadow: 0px 1px 2px rgba(60, 64, 67, 0.3), 0px 1px 3px 1px rgba(60, 64, 67, 0.15);\n",
              "      fill: #174EA6;\n",
              "    }\n",
              "\n",
              "    [theme=dark] .colab-df-convert {\n",
              "      background-color: #3B4455;\n",
              "      fill: #D2E3FC;\n",
              "    }\n",
              "\n",
              "    [theme=dark] .colab-df-convert:hover {\n",
              "      background-color: #434B5C;\n",
              "      box-shadow: 0px 1px 3px 1px rgba(0, 0, 0, 0.15);\n",
              "      filter: drop-shadow(0px 1px 2px rgba(0, 0, 0, 0.3));\n",
              "      fill: #FFFFFF;\n",
              "    }\n",
              "  </style>\n",
              "\n",
              "      <script>\n",
              "        const buttonEl =\n",
              "          document.querySelector('#df-92b9182d-c9ac-4cab-b1aa-90dfe1ce7b4c button.colab-df-convert');\n",
              "        buttonEl.style.display =\n",
              "          google.colab.kernel.accessAllowed ? 'block' : 'none';\n",
              "\n",
              "        async function convertToInteractive(key) {\n",
              "          const element = document.querySelector('#df-92b9182d-c9ac-4cab-b1aa-90dfe1ce7b4c');\n",
              "          const dataTable =\n",
              "            await google.colab.kernel.invokeFunction('convertToInteractive',\n",
              "                                                     [key], {});\n",
              "          if (!dataTable) return;\n",
              "\n",
              "          const docLinkHtml = 'Like what you see? Visit the ' +\n",
              "            '<a target=\"_blank\" href=https://colab.research.google.com/notebooks/data_table.ipynb>data table notebook</a>'\n",
              "            + ' to learn more about interactive tables.';\n",
              "          element.innerHTML = '';\n",
              "          dataTable['output_type'] = 'display_data';\n",
              "          await google.colab.output.renderOutput(dataTable, element);\n",
              "          const docLink = document.createElement('div');\n",
              "          docLink.innerHTML = docLinkHtml;\n",
              "          element.appendChild(docLink);\n",
              "        }\n",
              "      </script>\n",
              "    </div>\n",
              "  </div>\n",
              "  "
            ],
            "text/plain": [
              "        id       city  ... id_group  number_of_cuisines\n",
              "0  id_5569      Paris  ...        3                   3\n",
              "1  id_1535  Stockholm  ...       10                   1\n",
              "\n",
              "[2 rows x 12 columns]"
            ]
          },
          "metadata": {},
          "execution_count": 164
        }
      ]
    },
    {
      "cell_type": "code",
      "source": [
        "# Среднее количество видов кухонь в ресторане\n",
        "df['number_of_cuisines'].mean()"
      ],
      "metadata": {
        "colab": {
          "base_uri": "https://localhost:8080/"
        },
        "id": "Z3yhvgfX1Wdv",
        "outputId": "c80ced2b-22d8-48f4-9c83-e1e5305f115d"
      },
      "execution_count": null,
      "outputs": [
        {
          "output_type": "execute_result",
          "data": {
            "text/plain": [
              "2.6224"
            ]
          },
          "metadata": {},
          "execution_count": 165
        }
      ]
    },
    {
      "cell_type": "markdown",
      "metadata": {
        "id": "atWXsA3TOTPI"
      },
      "source": [
        "## Преобразование столбца **rank**"
      ]
    },
    {
      "cell_type": "code",
      "metadata": {
        "id": "99gHOjN3NZ5A",
        "colab": {
          "base_uri": "https://localhost:8080/"
        },
        "outputId": "b837cdd8-70b5-4d97-d4d2-1379afa7a2b9"
      },
      "source": [
        "# посмотрим сколько пропусков в данном столбце\n",
        "t=df['rank'].isna()\n",
        "t.sum()"
      ],
      "execution_count": null,
      "outputs": [
        {
          "output_type": "execute_result",
          "data": {
            "text/plain": [
              "0"
            ]
          },
          "metadata": {},
          "execution_count": 166
        }
      ]
    },
    {
      "cell_type": "code",
      "source": [
        "df.groupby([\"city\"])[\"rank\"].max()"
      ],
      "metadata": {
        "colab": {
          "base_uri": "https://localhost:8080/"
        },
        "id": "KHAC6OCmL_az",
        "outputId": "6487d6ea-f4a6-4bb4-823f-b1af2fecc14b"
      },
      "execution_count": null,
      "outputs": [
        {
          "output_type": "execute_result",
          "data": {
            "text/plain": [
              "city\n",
              "Amsterdam      3249.0\n",
              "Athens         1787.0\n",
              "Barcelona      7796.0\n",
              "Berlin         6372.0\n",
              "Bratislava      889.0\n",
              "Brussels       3004.0\n",
              "Budapest       2438.0\n",
              "Copenhagen     1964.0\n",
              "Dublin         1960.0\n",
              "Edinburgh      1766.0\n",
              "Geneva         1413.0\n",
              "Hamburg        2736.0\n",
              "Helsinki       1141.0\n",
              "Krakow         1244.0\n",
              "Lisbon         3717.0\n",
              "Ljubljana       468.0\n",
              "London        16444.0\n",
              "Luxembourg      621.0\n",
              "Lyon           2666.0\n",
              "Madrid         8809.0\n",
              "Milan          6275.0\n",
              "Munich         2763.0\n",
              "Oporto         1484.0\n",
              "Oslo           1137.0\n",
              "Paris         13986.0\n",
              "Prague         4188.0\n",
              "Rome           5946.0\n",
              "Stockholm      2464.0\n",
              "Vienna         3444.0\n",
              "Warsaw         2141.0\n",
              "Zurich         1590.0\n",
              "Name: rank, dtype: float64"
            ]
          },
          "metadata": {},
          "execution_count": 167
        }
      ]
    },
    {
      "cell_type": "markdown",
      "metadata": {
        "id": "5tcyb-29URPH"
      },
      "source": [
        "## Преобразование столбца **rating**"
      ]
    },
    {
      "cell_type": "code",
      "metadata": {
        "colab": {
          "base_uri": "https://localhost:8080/"
        },
        "id": "_nlMl5ifUbDQ",
        "outputId": "9e5114dd-b9d1-449b-9e41-7bf9d7623185"
      },
      "source": [
        "# посмотрим сколько пропусков в данном столбце\n",
        "t=df['rating'].isna()\n",
        "t.sum()"
      ],
      "execution_count": null,
      "outputs": [
        {
          "output_type": "execute_result",
          "data": {
            "text/plain": [
              "0"
            ]
          },
          "metadata": {},
          "execution_count": 168
        }
      ]
    },
    {
      "cell_type": "markdown",
      "source": [
        "добавим столбец средний рейтинг в городе ресторана"
      ],
      "metadata": {
        "id": "Ln7srAVxIkar"
      }
    },
    {
      "cell_type": "code",
      "source": [
        "mean_rating = []\n",
        "counter = df.groupby([\"city\"]).rating.mean()\n",
        "\n",
        "for i in df[\"city\"]:\n",
        "    mean_rating.append(counter.get(i))\n",
        "\n",
        "df[\"mean_rating_in_city\"] = mean_rating"
      ],
      "metadata": {
        "id": "smRP910rIrYA"
      },
      "execution_count": null,
      "outputs": []
    },
    {
      "cell_type": "markdown",
      "metadata": {
        "id": "O8S2IqpxJOOR"
      },
      "source": [
        "## Преобразования столбца **Price**"
      ]
    },
    {
      "cell_type": "code",
      "source": [
        "len(df)"
      ],
      "metadata": {
        "colab": {
          "base_uri": "https://localhost:8080/"
        },
        "id": "IPp8K046hEoV",
        "outputId": "c0a2b49a-ddf8-4ee3-8cef-acc3c8b2dc34"
      },
      "execution_count": null,
      "outputs": [
        {
          "output_type": "execute_result",
          "data": {
            "text/plain": [
              "40000"
            ]
          },
          "metadata": {},
          "execution_count": 170
        }
      ]
    },
    {
      "cell_type": "code",
      "metadata": {
        "colab": {
          "base_uri": "https://localhost:8080/"
        },
        "id": "kVCsxrhwNSsU",
        "outputId": "c4e16ed5-8177-460c-a73e-3d330ed47395"
      },
      "source": [
        "# посмотрим сколько пропусков в данном столбце\n",
        "t=df['price'].isna()\n",
        "t.sum()"
      ],
      "execution_count": null,
      "outputs": [
        {
          "output_type": "execute_result",
          "data": {
            "text/plain": [
              "13886"
            ]
          },
          "metadata": {},
          "execution_count": 171
        }
      ]
    },
    {
      "cell_type": "code",
      "source": [
        "df['price'].unique()"
      ],
      "metadata": {
        "colab": {
          "base_uri": "https://localhost:8080/"
        },
        "id": "tOHN_4nZQcro",
        "outputId": "9e2e9e3d-83fd-48b8-f42f-be3f00cf46a3"
      },
      "execution_count": null,
      "outputs": [
        {
          "output_type": "execute_result",
          "data": {
            "text/plain": [
              "array(['$$ - $$$', nan, '$$$$', '$'], dtype=object)"
            ]
          },
          "metadata": {},
          "execution_count": 172
        }
      ]
    },
    {
      "cell_type": "code",
      "source": [
        "# Посмотрим сколько ресторанов относится к среднему ценовому сегменту\n",
        "(df['price']=='$$ - $$$').value_counts()"
      ],
      "metadata": {
        "colab": {
          "base_uri": "https://localhost:8080/"
        },
        "id": "6XHeAXhHTob0",
        "outputId": "15fe2205-fa36-4dbc-85cc-478dffe25426"
      },
      "execution_count": null,
      "outputs": [
        {
          "output_type": "execute_result",
          "data": {
            "text/plain": [
              "False    21588\n",
              "True     18412\n",
              "Name: price, dtype: int64"
            ]
          },
          "metadata": {},
          "execution_count": 173
        }
      ]
    },
    {
      "cell_type": "code",
      "metadata": {
        "id": "bfZrVgm6J26t"
      },
      "source": [
        "# Заменим пропуски из столбца price на их моду:\n",
        "df['price'] = df['price'].fillna(df['price'].mode()[0])"
      ],
      "execution_count": null,
      "outputs": []
    },
    {
      "cell_type": "code",
      "metadata": {
        "id": "kz4-ehn19-6v"
      },
      "source": [
        "# Функция для замены символов в столбце price на целые числа:\n",
        "def price_level(x):\n",
        "    if x == \"$\":\n",
        "        return 1\n",
        "    elif x == \"$$ - $$$\":\n",
        "        return 2\n",
        "    else:\n",
        "        return 3"
      ],
      "execution_count": null,
      "outputs": []
    },
    {
      "cell_type": "code",
      "metadata": {
        "id": "SLh0v_NGBUMg"
      },
      "source": [
        "# заменим буквы в рейтинге цен на цифры от 1(дешевый) до 3 (дорогой):\n",
        "df['price'] = df['price'].apply(price_level)"
      ],
      "execution_count": null,
      "outputs": []
    },
    {
      "cell_type": "code",
      "metadata": {
        "id": "lW-ExqTq73B_"
      },
      "source": [
        ""
      ],
      "execution_count": null,
      "outputs": []
    },
    {
      "cell_type": "markdown",
      "metadata": {
        "id": "BOoqy6goLEAS"
      },
      "source": [
        "## Преобразования столбца **number_reviews**"
      ]
    },
    {
      "cell_type": "code",
      "metadata": {
        "colab": {
          "base_uri": "https://localhost:8080/"
        },
        "id": "0nBMDALfNI_4",
        "outputId": "218a2afd-e3cb-4402-d7aa-478c89636af0"
      },
      "source": [
        "# посмотрим сколько пропусков в данном столбце\n",
        "t=df['number_reviews'].isna()\n",
        "t.sum()"
      ],
      "execution_count": null,
      "outputs": [
        {
          "output_type": "execute_result",
          "data": {
            "text/plain": [
              "2543"
            ]
          },
          "metadata": {},
          "execution_count": 177
        }
      ]
    },
    {
      "cell_type": "code",
      "source": [
        "print(\"Среднее:\", df[\"number_reviews\"].mean())\n",
        "print(\"Медиана:\", df[\"number_reviews\"].median())\n",
        "print(\"Максимум:\", df[\"number_reviews\"].max())\n",
        "print(\"Минимум:\", df[\"number_reviews\"].min())\n",
        "print(\"Уникальных значений:\", df[\"number_reviews\"].nunique())"
      ],
      "metadata": {
        "colab": {
          "base_uri": "https://localhost:8080/"
        },
        "id": "H0hfs2msiHdf",
        "outputId": "f17bb61e-bcc0-4270-f25e-7569d108e91f"
      },
      "execution_count": null,
      "outputs": [
        {
          "output_type": "stream",
          "name": "stdout",
          "text": [
            "Среднее: 124.82547988359985\n",
            "Медиана: 33.0\n",
            "Максимум: 9660.0\n",
            "Минимум: 2.0\n",
            "Уникальных значений: 1459\n"
          ]
        }
      ]
    },
    {
      "cell_type": "code",
      "source": [
        "df[\"number_reviews\"].hist(bins=70) #видим, что присутствуют выбросы.  Форма распределения смещена вправо."
      ],
      "metadata": {
        "colab": {
          "base_uri": "https://localhost:8080/"
        },
        "id": "0zh1gjU3i2jK",
        "outputId": "cb5006a5-df11-432e-d252-19b0528298f1"
      },
      "execution_count": null,
      "outputs": [
        {
          "output_type": "execute_result",
          "data": {
            "text/plain": [
              "<matplotlib.axes._subplots.AxesSubplot at 0x7efcf1ca1f90>"
            ]
          },
          "metadata": {},
          "execution_count": 179
        },
        {
          "output_type": "display_data",
          "data": {
            "image/png": "[encoded data removed]",
            "text/plain": [
              "<Figure size 720x720 with 1 Axes>"
            ]
          },
          "metadata": {
            "needs_background": "light"
          }
        }
      ]
    },
    {
      "cell_type": "code",
      "metadata": {
        "id": "a5xML3jJH2cK"
      },
      "source": [
        "# убираем пропуски из столбца с отзывами, заполняя их модой по городам  \n",
        "df['number_reviews'] = df.groupby('city')['number_reviews'].transform(lambda x: x.fillna(x.mode()[0]))"
      ],
      "execution_count": null,
      "outputs": []
    },
    {
      "cell_type": "code",
      "metadata": {
        "colab": {
          "base_uri": "https://localhost:8080/"
        },
        "id": "jMDsxF4P8jQi",
        "outputId": "5002e842-3037-4317-cd4f-34e29d4e6b1d"
      },
      "source": [
        "df.head(4)"
      ],
      "execution_count": null,
      "outputs": [
        {
          "output_type": "execute_result",
          "data": {
            "text/html": [
              "\n",
              "  <div id=\"df-459fae5c-a303-478d-af0f-30afbea0aec4\">\n",
              "    <div class=\"colab-df-container\">\n",
              "      <div>\n",
              "<style scoped>\n",
              "    .dataframe tbody tr th:only-of-type {\n",
              "        vertical-align: middle;\n",
              "    }\n",
              "\n",
              "    .dataframe tbody tr th {\n",
              "        vertical-align: top;\n",
              "    }\n",
              "\n",
              "    .dataframe thead th {\n",
              "        text-align: right;\n",
              "    }\n",
              "</style>\n",
              "<table border=\"1\" class=\"dataframe\">\n",
              "  <thead>\n",
              "    <tr style=\"text-align: right;\">\n",
              "      <th></th>\n",
              "      <th>id</th>\n",
              "      <th>city</th>\n",
              "      <th>cuisine</th>\n",
              "      <th>rank</th>\n",
              "      <th>rating</th>\n",
              "      <th>price</th>\n",
              "      <th>number_reviews</th>\n",
              "      <th>reviews</th>\n",
              "      <th>url</th>\n",
              "      <th>ID_TA</th>\n",
              "      <th>id_group</th>\n",
              "      <th>number_of_cuisines</th>\n",
              "      <th>mean_rating_in_city</th>\n",
              "    </tr>\n",
              "  </thead>\n",
              "  <tbody>\n",
              "    <tr>\n",
              "      <th>0</th>\n",
              "      <td>id_5569</td>\n",
              "      <td>Paris</td>\n",
              "      <td>[European, French, International]</td>\n",
              "      <td>5570.0</td>\n",
              "      <td>3.5</td>\n",
              "      <td>2</td>\n",
              "      <td>194.0</td>\n",
              "      <td>[['Good food at your doorstep', 'A good hotel ...</td>\n",
              "      <td>/Restaurant_Review-g187147-d1912643-Reviews-R_...</td>\n",
              "      <td>d1912643</td>\n",
              "      <td>3</td>\n",
              "      <td>3</td>\n",
              "      <td>3.942414</td>\n",
              "    </tr>\n",
              "    <tr>\n",
              "      <th>1</th>\n",
              "      <td>id_1535</td>\n",
              "      <td>Stockholm</td>\n",
              "      <td>[unknown]</td>\n",
              "      <td>1537.0</td>\n",
              "      <td>4.0</td>\n",
              "      <td>2</td>\n",
              "      <td>10.0</td>\n",
              "      <td>[['Unique cuisine', 'Delicious Nepalese food']...</td>\n",
              "      <td>/Restaurant_Review-g189852-d7992032-Reviews-Bu...</td>\n",
              "      <td>d7992032</td>\n",
              "      <td>10</td>\n",
              "      <td>1</td>\n",
              "      <td>3.870122</td>\n",
              "    </tr>\n",
              "    <tr>\n",
              "      <th>2</th>\n",
              "      <td>id_352</td>\n",
              "      <td>London</td>\n",
              "      <td>[Japanese, Sushi, Asian, Grill, Vegetarian Fri...</td>\n",
              "      <td>353.0</td>\n",
              "      <td>4.5</td>\n",
              "      <td>3</td>\n",
              "      <td>688.0</td>\n",
              "      <td>[['Catch up with friends', 'Not exceptional'],...</td>\n",
              "      <td>/Restaurant_Review-g186338-d8632781-Reviews-RO...</td>\n",
              "      <td>d8632781</td>\n",
              "      <td>8</td>\n",
              "      <td>7</td>\n",
              "      <td>3.955098</td>\n",
              "    </tr>\n",
              "    <tr>\n",
              "      <th>3</th>\n",
              "      <td>id_3456</td>\n",
              "      <td>Berlin</td>\n",
              "      <td>[unknown]</td>\n",
              "      <td>3458.0</td>\n",
              "      <td>5.0</td>\n",
              "      <td>2</td>\n",
              "      <td>3.0</td>\n",
              "      <td>[[], []]</td>\n",
              "      <td>/Restaurant_Review-g187323-d1358776-Reviews-Es...</td>\n",
              "      <td>d1358776</td>\n",
              "      <td>4</td>\n",
              "      <td>1</td>\n",
              "      <td>4.124594</td>\n",
              "    </tr>\n",
              "  </tbody>\n",
              "</table>\n",
              "</div>\n",
              "      <button class=\"colab-df-convert\" onclick=\"convertToInteractive('df-459fae5c-a303-478d-af0f-30afbea0aec4')\"\n",
              "              title=\"Convert this dataframe to an interactive table.\"\n",
              "              style=\"display:none;\">\n",
              "        \n",
              "  <svg xmlns=\"http://www.w3.org/2000/svg\" height=\"24px\"viewBox=\"0 0 24 24\"\n",
              "       width=\"24px\">\n",
              "    <path d=\"M0 0h24v24H0V0z\" fill=\"none\"/>\n",
              "    <path d=\"M18.56 5.44l.94 2.06.94-2.06 2.06-.94-2.06-.94-.94-2.06-.94 2.06-2.06.94zm-11 1L8.5 8.5l.94-2.06 2.06-.94-2.06-.94L8.5 2.5l-.94 2.06-2.06.94zm10 10l.94 2.06.94-2.06 2.06-.94-2.06-.94-.94-2.06-.94 2.06-2.06.94z\"/><path d=\"M17.41 7.96l-1.37-1.37c-.4-.4-.92-.59-1.43-.59-.52 0-1.04.2-1.43.59L10.3 9.45l-7.72 7.72c-.78.78-.78 2.05 0 2.83L4 21.41c.39.39.9.59 1.41.59.51 0 1.02-.2 1.41-.59l7.78-7.78 2.81-2.81c.8-.78.8-2.07 0-2.86zM5.41 20L4 18.59l7.72-7.72 1.47 1.35L5.41 20z\"/>\n",
              "  </svg>\n",
              "      </button>\n",
              "      \n",
              "  <style>\n",
              "    .colab-df-container {\n",
              "      display:flex;\n",
              "      flex-wrap:wrap;\n",
              "      gap: 12px;\n",
              "    }\n",
              "\n",
              "    .colab-df-convert {\n",
              "      background-color: #E8F0FE;\n",
              "      border: none;\n",
              "      border-radius: 50%;\n",
              "      cursor: pointer;\n",
              "      display: none;\n",
              "      fill: #1967D2;\n",
              "      height: 32px;\n",
              "      padding: 0 0 0 0;\n",
              "      width: 32px;\n",
              "    }\n",
              "\n",
              "    .colab-df-convert:hover {\n",
              "      background-color: #E2EBFA;\n",
              "      box-shadow: 0px 1px 2px rgba(60, 64, 67, 0.3), 0px 1px 3px 1px rgba(60, 64, 67, 0.15);\n",
              "      fill: #174EA6;\n",
              "    }\n",
              "\n",
              "    [theme=dark] .colab-df-convert {\n",
              "      background-color: #3B4455;\n",
              "      fill: #D2E3FC;\n",
              "    }\n",
              "\n",
              "    [theme=dark] .colab-df-convert:hover {\n",
              "      background-color: #434B5C;\n",
              "      box-shadow: 0px 1px 3px 1px rgba(0, 0, 0, 0.15);\n",
              "      filter: drop-shadow(0px 1px 2px rgba(0, 0, 0, 0.3));\n",
              "      fill: #FFFFFF;\n",
              "    }\n",
              "  </style>\n",
              "\n",
              "      <script>\n",
              "        const buttonEl =\n",
              "          document.querySelector('#df-459fae5c-a303-478d-af0f-30afbea0aec4 button.colab-df-convert');\n",
              "        buttonEl.style.display =\n",
              "          google.colab.kernel.accessAllowed ? 'block' : 'none';\n",
              "\n",
              "        async function convertToInteractive(key) {\n",
              "          const element = document.querySelector('#df-459fae5c-a303-478d-af0f-30afbea0aec4');\n",
              "          const dataTable =\n",
              "            await google.colab.kernel.invokeFunction('convertToInteractive',\n",
              "                                                     [key], {});\n",
              "          if (!dataTable) return;\n",
              "\n",
              "          const docLinkHtml = 'Like what you see? Visit the ' +\n",
              "            '<a target=\"_blank\" href=https://colab.research.google.com/notebooks/data_table.ipynb>data table notebook</a>'\n",
              "            + ' to learn more about interactive tables.';\n",
              "          element.innerHTML = '';\n",
              "          dataTable['output_type'] = 'display_data';\n",
              "          await google.colab.output.renderOutput(dataTable, element);\n",
              "          const docLink = document.createElement('div');\n",
              "          docLink.innerHTML = docLinkHtml;\n",
              "          element.appendChild(docLink);\n",
              "        }\n",
              "      </script>\n",
              "    </div>\n",
              "  </div>\n",
              "  "
            ],
            "text/plain": [
              "        id       city  ... number_of_cuisines  mean_rating_in_city\n",
              "0  id_5569      Paris  ...                  3             3.942414\n",
              "1  id_1535  Stockholm  ...                  1             3.870122\n",
              "2   id_352     London  ...                  7             3.955098\n",
              "3  id_3456     Berlin  ...                  1             4.124594\n",
              "\n",
              "[4 rows x 13 columns]"
            ]
          },
          "metadata": {},
          "execution_count": 181
        }
      ]
    },
    {
      "cell_type": "markdown",
      "metadata": {
        "id": "KKoWKulhU6zk"
      },
      "source": [
        "## Преобразования столбца **url**"
      ]
    },
    {
      "cell_type": "code",
      "metadata": {
        "id": "dUcrhEUBBVC_",
        "colab": {
          "base_uri": "https://localhost:8080/"
        },
        "outputId": "831b23f3-2c5d-407e-a148-e40fd4a2a32a"
      },
      "source": [
        "# посмотрим сколько пропусков в данном столбце\n",
        "t=df['url'].isna()\n",
        "t.sum()"
      ],
      "execution_count": null,
      "outputs": [
        {
          "output_type": "execute_result",
          "data": {
            "text/plain": [
              "0"
            ]
          },
          "metadata": {},
          "execution_count": 182
        }
      ]
    },
    {
      "cell_type": "markdown",
      "metadata": {
        "id": "SUWn4nKhU-ui"
      },
      "source": [
        "## Преобразования столбца **ID_TA**"
      ]
    },
    {
      "cell_type": "code",
      "metadata": {
        "id": "GCGpyCoVBUB1",
        "colab": {
          "base_uri": "https://localhost:8080/"
        },
        "outputId": "4c065863-55a6-4b46-e296-262e89cab1e7"
      },
      "source": [
        "# посмотрим сколько пропусков в данном столбце\n",
        "t=df['ID_TA'].isna()\n",
        "t.sum()"
      ],
      "execution_count": null,
      "outputs": [
        {
          "output_type": "execute_result",
          "data": {
            "text/plain": [
              "0"
            ]
          },
          "metadata": {},
          "execution_count": 183
        }
      ]
    },
    {
      "cell_type": "markdown",
      "metadata": {
        "id": "OYVZkAWRUzD0"
      },
      "source": [
        "## Преобразования столбца **reviews**"
      ]
    },
    {
      "cell_type": "code",
      "metadata": {
        "id": "3D92TQqqBVNc",
        "colab": {
          "base_uri": "https://localhost:8080/"
        },
        "outputId": "a18b4f75-3114-4e43-8008-7e6474706db3"
      },
      "source": [
        "# посмотрим сколько пропусков в данном столбце\n",
        "t=df['reviews'].isna()\n",
        "t.sum()"
      ],
      "execution_count": null,
      "outputs": [
        {
          "output_type": "execute_result",
          "data": {
            "text/plain": [
              "0"
            ]
          },
          "metadata": {},
          "execution_count": 184
        }
      ]
    },
    {
      "cell_type": "code",
      "source": [
        "df['reviews'][1]"
      ],
      "metadata": {
        "colab": {
          "base_uri": "https://localhost:8080/",
          "height": 35
        },
        "id": "nu_-7PBMXGLC",
        "outputId": "54ec9794-a043-43e1-85c0-43040b6d6355"
      },
      "execution_count": null,
      "outputs": [
        {
          "output_type": "execute_result",
          "data": {
            "application/vnd.google.colaboratory.intrinsic+json": {
              "type": "string"
            },
            "text/plain": [
              "\"[['Unique cuisine', 'Delicious Nepalese food'], ['07/06/2017', '06/19/2016']]\""
            ]
          },
          "metadata": {},
          "execution_count": 185
        }
      ]
    },
    {
      "cell_type": "markdown",
      "source": [
        "видим, что у нас есть 2 отзыва т.е текст и 2 их даты отзыва.\n",
        "Это очень неудобно.\n",
        "1)отделим дату."
      ],
      "metadata": {
        "id": "XA6DtbXcaWJ1"
      }
    },
    {
      "cell_type": "code",
      "source": [
        "# Функция для заполнения столбцов с датами отзывов:\n",
        "def revdata(row):\n",
        "    if len(row['reviews_date']) == 2:\n",
        "        return row['reviews_date'][0], row['reviews_date'][1]\n",
        "    elif len(row['reviews_date']) == 1:\n",
        "        return row['reviews_date'][0], np.nan\n",
        "    else:\n",
        "        return np.nan,np.nan"
      ],
      "metadata": {
        "id": "Eqd9yehcdQrR"
      },
      "execution_count": null,
      "outputs": []
    },
    {
      "cell_type": "code",
      "source": [
        "rev_data = re.compile('\\'\\d+\\/\\d+\\/\\d+\\'?')\n",
        "df['reviews_date'] = df['reviews'].apply(rev_data.findall)\n",
        "df['reviews_date'] = df['reviews_date'].apply(lambda x: sorted([pd.to_datetime(i).date() for i in x]))"
      ],
      "metadata": {
        "id": "dVxvzjvbas5I"
      },
      "execution_count": null,
      "outputs": []
    },
    {
      "cell_type": "markdown",
      "source": [
        "добавим два столбца (даты двух отзывов), используя функцию revdata:"
      ],
      "metadata": {
        "id": "zNRpec6VFCDZ"
      }
    },
    {
      "cell_type": "code",
      "source": [
        "df[['rev_date_1', 'rev_date_2']] = df[['reviews_date']].apply(revdata, axis=1, result_type='expand')"
      ],
      "metadata": {
        "id": "lNFOx3FOcH4h"
      },
      "execution_count": null,
      "outputs": []
    },
    {
      "cell_type": "code",
      "source": [
        "df.head(2)"
      ],
      "metadata": {
        "colab": {
          "base_uri": "https://localhost:8080/",
          "height": 332
        },
        "id": "Qm9OGpjpoJGk",
        "outputId": "1e288c80-604e-4b88-901c-3fab641e0664"
      },
      "execution_count": null,
      "outputs": [
        {
          "output_type": "execute_result",
          "data": {
            "text/html": [
              "\n",
              "  <div id=\"df-c4c36d94-ee16-4651-8ce9-911e9fa3a3f3\">\n",
              "    <div class=\"colab-df-container\">\n",
              "      <div>\n",
              "<style scoped>\n",
              "    .dataframe tbody tr th:only-of-type {\n",
              "        vertical-align: middle;\n",
              "    }\n",
              "\n",
              "    .dataframe tbody tr th {\n",
              "        vertical-align: top;\n",
              "    }\n",
              "\n",
              "    .dataframe thead th {\n",
              "        text-align: right;\n",
              "    }\n",
              "</style>\n",
              "<table border=\"1\" class=\"dataframe\">\n",
              "  <thead>\n",
              "    <tr style=\"text-align: right;\">\n",
              "      <th></th>\n",
              "      <th>id</th>\n",
              "      <th>city</th>\n",
              "      <th>cuisine</th>\n",
              "      <th>rank</th>\n",
              "      <th>rating</th>\n",
              "      <th>price</th>\n",
              "      <th>number_reviews</th>\n",
              "      <th>reviews</th>\n",
              "      <th>url</th>\n",
              "      <th>ID_TA</th>\n",
              "      <th>id_group</th>\n",
              "      <th>number_of_cuisines</th>\n",
              "      <th>mean_rating_in_city</th>\n",
              "      <th>reviews_date</th>\n",
              "      <th>rev_date_1</th>\n",
              "      <th>rev_date_2</th>\n",
              "    </tr>\n",
              "  </thead>\n",
              "  <tbody>\n",
              "    <tr>\n",
              "      <th>0</th>\n",
              "      <td>id_5569</td>\n",
              "      <td>Paris</td>\n",
              "      <td>[European, French, International]</td>\n",
              "      <td>5570.0</td>\n",
              "      <td>3.5</td>\n",
              "      <td>2</td>\n",
              "      <td>194.0</td>\n",
              "      <td>[['Good food at your doorstep', 'A good hotel ...</td>\n",
              "      <td>/Restaurant_Review-g187147-d1912643-Reviews-R_...</td>\n",
              "      <td>d1912643</td>\n",
              "      <td>3</td>\n",
              "      <td>3</td>\n",
              "      <td>3.942414</td>\n",
              "      <td>[2017-11-20, 2017-12-31]</td>\n",
              "      <td>2017-11-20</td>\n",
              "      <td>2017-12-31</td>\n",
              "    </tr>\n",
              "    <tr>\n",
              "      <th>1</th>\n",
              "      <td>id_1535</td>\n",
              "      <td>Stockholm</td>\n",
              "      <td>[unknown]</td>\n",
              "      <td>1537.0</td>\n",
              "      <td>4.0</td>\n",
              "      <td>2</td>\n",
              "      <td>10.0</td>\n",
              "      <td>[['Unique cuisine', 'Delicious Nepalese food']...</td>\n",
              "      <td>/Restaurant_Review-g189852-d7992032-Reviews-Bu...</td>\n",
              "      <td>d7992032</td>\n",
              "      <td>10</td>\n",
              "      <td>1</td>\n",
              "      <td>3.870122</td>\n",
              "      <td>[2016-06-19, 2017-07-06]</td>\n",
              "      <td>2016-06-19</td>\n",
              "      <td>2017-07-06</td>\n",
              "    </tr>\n",
              "  </tbody>\n",
              "</table>\n",
              "</div>\n",
              "      <button class=\"colab-df-convert\" onclick=\"convertToInteractive('df-c4c36d94-ee16-4651-8ce9-911e9fa3a3f3')\"\n",
              "              title=\"Convert this dataframe to an interactive table.\"\n",
              "              style=\"display:none;\">\n",
              "        \n",
              "  <svg xmlns=\"http://www.w3.org/2000/svg\" height=\"24px\"viewBox=\"0 0 24 24\"\n",
              "       width=\"24px\">\n",
              "    <path d=\"M0 0h24v24H0V0z\" fill=\"none\"/>\n",
              "    <path d=\"M18.56 5.44l.94 2.06.94-2.06 2.06-.94-2.06-.94-.94-2.06-.94 2.06-2.06.94zm-11 1L8.5 8.5l.94-2.06 2.06-.94-2.06-.94L8.5 2.5l-.94 2.06-2.06.94zm10 10l.94 2.06.94-2.06 2.06-.94-2.06-.94-.94-2.06-.94 2.06-2.06.94z\"/><path d=\"M17.41 7.96l-1.37-1.37c-.4-.4-.92-.59-1.43-.59-.52 0-1.04.2-1.43.59L10.3 9.45l-7.72 7.72c-.78.78-.78 2.05 0 2.83L4 21.41c.39.39.9.59 1.41.59.51 0 1.02-.2 1.41-.59l7.78-7.78 2.81-2.81c.8-.78.8-2.07 0-2.86zM5.41 20L4 18.59l7.72-7.72 1.47 1.35L5.41 20z\"/>\n",
              "  </svg>\n",
              "      </button>\n",
              "      \n",
              "  <style>\n",
              "    .colab-df-container {\n",
              "      display:flex;\n",
              "      flex-wrap:wrap;\n",
              "      gap: 12px;\n",
              "    }\n",
              "\n",
              "    .colab-df-convert {\n",
              "      background-color: #E8F0FE;\n",
              "      border: none;\n",
              "      border-radius: 50%;\n",
              "      cursor: pointer;\n",
              "      display: none;\n",
              "      fill: #1967D2;\n",
              "      height: 32px;\n",
              "      padding: 0 0 0 0;\n",
              "      width: 32px;\n",
              "    }\n",
              "\n",
              "    .colab-df-convert:hover {\n",
              "      background-color: #E2EBFA;\n",
              "      box-shadow: 0px 1px 2px rgba(60, 64, 67, 0.3), 0px 1px 3px 1px rgba(60, 64, 67, 0.15);\n",
              "      fill: #174EA6;\n",
              "    }\n",
              "\n",
              "    [theme=dark] .colab-df-convert {\n",
              "      background-color: #3B4455;\n",
              "      fill: #D2E3FC;\n",
              "    }\n",
              "\n",
              "    [theme=dark] .colab-df-convert:hover {\n",
              "      background-color: #434B5C;\n",
              "      box-shadow: 0px 1px 3px 1px rgba(0, 0, 0, 0.15);\n",
              "      filter: drop-shadow(0px 1px 2px rgba(0, 0, 0, 0.3));\n",
              "      fill: #FFFFFF;\n",
              "    }\n",
              "  </style>\n",
              "\n",
              "      <script>\n",
              "        const buttonEl =\n",
              "          document.querySelector('#df-c4c36d94-ee16-4651-8ce9-911e9fa3a3f3 button.colab-df-convert');\n",
              "        buttonEl.style.display =\n",
              "          google.colab.kernel.accessAllowed ? 'block' : 'none';\n",
              "\n",
              "        async function convertToInteractive(key) {\n",
              "          const element = document.querySelector('#df-c4c36d94-ee16-4651-8ce9-911e9fa3a3f3');\n",
              "          const dataTable =\n",
              "            await google.colab.kernel.invokeFunction('convertToInteractive',\n",
              "                                                     [key], {});\n",
              "          if (!dataTable) return;\n",
              "\n",
              "          const docLinkHtml = 'Like what you see? Visit the ' +\n",
              "            '<a target=\"_blank\" href=https://colab.research.google.com/notebooks/data_table.ipynb>data table notebook</a>'\n",
              "            + ' to learn more about interactive tables.';\n",
              "          element.innerHTML = '';\n",
              "          dataTable['output_type'] = 'display_data';\n",
              "          await google.colab.output.renderOutput(dataTable, element);\n",
              "          const docLink = document.createElement('div');\n",
              "          docLink.innerHTML = docLinkHtml;\n",
              "          element.appendChild(docLink);\n",
              "        }\n",
              "      </script>\n",
              "    </div>\n",
              "  </div>\n",
              "  "
            ],
            "text/plain": [
              "        id       city  ...  rev_date_1  rev_date_2\n",
              "0  id_5569      Paris  ...  2017-11-20  2017-12-31\n",
              "1  id_1535  Stockholm  ...  2016-06-19  2017-07-06\n",
              "\n",
              "[2 rows x 16 columns]"
            ]
          },
          "metadata": {},
          "execution_count": 189
        }
      ]
    },
    {
      "cell_type": "code",
      "source": [
        "# Заполним пропуски модой по группам ресторанов:\n",
        "df['rev_date_1'] = df.groupby('id_group')['rev_date_1'].\\\n",
        "    transform(lambda x: x.fillna(x.mode()[0]))   \n",
        "\n",
        "df['rev_date_2'] = df.groupby('id_group')['rev_date_2'].\\\n",
        "    transform(lambda x: x.fillna(x.mode()[0]))"
      ],
      "metadata": {
        "id": "i4nVDQwRqftd"
      },
      "execution_count": null,
      "outputs": []
    },
    {
      "cell_type": "code",
      "source": [
        "# Добавим столбец разницы дней между первым и вторым отзывом:\n",
        "df['date_delta'] = df['rev_date_2'] - df['rev_date_1']\n",
        "df['date_delta'] = df['date_delta'].dt.days"
      ],
      "metadata": {
        "id": "A893OkOcqfWk"
      },
      "execution_count": null,
      "outputs": []
    },
    {
      "cell_type": "code",
      "source": [
        "df['date_delta'].max()"
      ],
      "metadata": {
        "colab": {
          "base_uri": "https://localhost:8080/"
        },
        "id": "YztJYJYy3N96",
        "outputId": "225735ab-f90a-453c-9ed1-effd43f74d23"
      },
      "execution_count": null,
      "outputs": [
        {
          "output_type": "execute_result",
          "data": {
            "text/plain": [
              "5009"
            ]
          },
          "metadata": {},
          "execution_count": 192
        }
      ]
    },
    {
      "cell_type": "markdown",
      "source": [
        "добавим столбец медиана количества отзывов в городе ремторана"
      ],
      "metadata": {
        "id": "zVr4INaBHY0m"
      }
    },
    {
      "cell_type": "code",
      "source": [
        "median_reviews = []\n",
        "counter = df.groupby([\"city\"]).number_reviews.median()\n",
        "\n",
        "for i in df[\"city\"]:\n",
        "    median_reviews.append(int(counter.get(i)))\n",
        "\n",
        "df[\"median_number_of_reviews\"] = median_reviews"
      ],
      "metadata": {
        "id": "9pzeg0KWHYb3"
      },
      "execution_count": null,
      "outputs": []
    },
    {
      "cell_type": "code",
      "source": [
        "# Функция для определения полярности отзыва:\n",
        "def polar(review):\n",
        "    return TextBlob(review).sentiment.polarity"
      ],
      "metadata": {
        "id": "VJ5ua406sW-A"
      },
      "execution_count": null,
      "outputs": []
    },
    {
      "cell_type": "code",
      "source": [
        "# добавbv столбец с полярностью отзывов\n",
        "df['sentiment_polarity'] = df['reviews'].apply(polar)\n",
        "df.head(4) "
      ],
      "metadata": {
        "colab": {
          "base_uri": "https://localhost:8080/",
          "height": 464
        },
        "id": "y0es_TH3rs9S",
        "outputId": "bc02698b-21da-4987-984a-a5a4485f40b8"
      },
      "execution_count": null,
      "outputs": [
        {
          "output_type": "execute_result",
          "data": {
            "text/html": [
              "\n",
              "  <div id=\"df-9d72b12d-4793-4f06-83c3-d5e3d224eb30\">\n",
              "    <div class=\"colab-df-container\">\n",
              "      <div>\n",
              "<style scoped>\n",
              "    .dataframe tbody tr th:only-of-type {\n",
              "        vertical-align: middle;\n",
              "    }\n",
              "\n",
              "    .dataframe tbody tr th {\n",
              "        vertical-align: top;\n",
              "    }\n",
              "\n",
              "    .dataframe thead th {\n",
              "        text-align: right;\n",
              "    }\n",
              "</style>\n",
              "<table border=\"1\" class=\"dataframe\">\n",
              "  <thead>\n",
              "    <tr style=\"text-align: right;\">\n",
              "      <th></th>\n",
              "      <th>id</th>\n",
              "      <th>city</th>\n",
              "      <th>cuisine</th>\n",
              "      <th>rank</th>\n",
              "      <th>rating</th>\n",
              "      <th>price</th>\n",
              "      <th>number_reviews</th>\n",
              "      <th>reviews</th>\n",
              "      <th>url</th>\n",
              "      <th>ID_TA</th>\n",
              "      <th>id_group</th>\n",
              "      <th>number_of_cuisines</th>\n",
              "      <th>mean_rating_in_city</th>\n",
              "      <th>reviews_date</th>\n",
              "      <th>rev_date_1</th>\n",
              "      <th>rev_date_2</th>\n",
              "      <th>date_delta</th>\n",
              "      <th>median_number_of_reviews</th>\n",
              "      <th>sentiment_polarity</th>\n",
              "    </tr>\n",
              "  </thead>\n",
              "  <tbody>\n",
              "    <tr>\n",
              "      <th>0</th>\n",
              "      <td>id_5569</td>\n",
              "      <td>Paris</td>\n",
              "      <td>[European, French, International]</td>\n",
              "      <td>5570.0</td>\n",
              "      <td>3.5</td>\n",
              "      <td>2</td>\n",
              "      <td>194.0</td>\n",
              "      <td>[['Good food at your doorstep', 'A good hotel ...</td>\n",
              "      <td>/Restaurant_Review-g187147-d1912643-Reviews-R_...</td>\n",
              "      <td>d1912643</td>\n",
              "      <td>3</td>\n",
              "      <td>3</td>\n",
              "      <td>3.942414</td>\n",
              "      <td>[2017-11-20, 2017-12-31]</td>\n",
              "      <td>2017-11-20</td>\n",
              "      <td>2017-12-31</td>\n",
              "      <td>41</td>\n",
              "      <td>41</td>\n",
              "      <td>0.700000</td>\n",
              "    </tr>\n",
              "    <tr>\n",
              "      <th>1</th>\n",
              "      <td>id_1535</td>\n",
              "      <td>Stockholm</td>\n",
              "      <td>[unknown]</td>\n",
              "      <td>1537.0</td>\n",
              "      <td>4.0</td>\n",
              "      <td>2</td>\n",
              "      <td>10.0</td>\n",
              "      <td>[['Unique cuisine', 'Delicious Nepalese food']...</td>\n",
              "      <td>/Restaurant_Review-g189852-d7992032-Reviews-Bu...</td>\n",
              "      <td>d7992032</td>\n",
              "      <td>10</td>\n",
              "      <td>1</td>\n",
              "      <td>3.870122</td>\n",
              "      <td>[2016-06-19, 2017-07-06]</td>\n",
              "      <td>2016-06-19</td>\n",
              "      <td>2017-07-06</td>\n",
              "      <td>382</td>\n",
              "      <td>16</td>\n",
              "      <td>0.687500</td>\n",
              "    </tr>\n",
              "    <tr>\n",
              "      <th>2</th>\n",
              "      <td>id_352</td>\n",
              "      <td>London</td>\n",
              "      <td>[Japanese, Sushi, Asian, Grill, Vegetarian Fri...</td>\n",
              "      <td>353.0</td>\n",
              "      <td>4.5</td>\n",
              "      <td>3</td>\n",
              "      <td>688.0</td>\n",
              "      <td>[['Catch up with friends', 'Not exceptional'],...</td>\n",
              "      <td>/Restaurant_Review-g186338-d8632781-Reviews-RO...</td>\n",
              "      <td>d8632781</td>\n",
              "      <td>8</td>\n",
              "      <td>7</td>\n",
              "      <td>3.955098</td>\n",
              "      <td>[2018-01-06, 2018-01-08]</td>\n",
              "      <td>2018-01-06</td>\n",
              "      <td>2018-01-08</td>\n",
              "      <td>2</td>\n",
              "      <td>31</td>\n",
              "      <td>-0.333333</td>\n",
              "    </tr>\n",
              "    <tr>\n",
              "      <th>3</th>\n",
              "      <td>id_3456</td>\n",
              "      <td>Berlin</td>\n",
              "      <td>[unknown]</td>\n",
              "      <td>3458.0</td>\n",
              "      <td>5.0</td>\n",
              "      <td>2</td>\n",
              "      <td>3.0</td>\n",
              "      <td>[[], []]</td>\n",
              "      <td>/Restaurant_Review-g187323-d1358776-Reviews-Es...</td>\n",
              "      <td>d1358776</td>\n",
              "      <td>4</td>\n",
              "      <td>1</td>\n",
              "      <td>4.124594</td>\n",
              "      <td>[]</td>\n",
              "      <td>2017-11-05</td>\n",
              "      <td>2018-01-07</td>\n",
              "      <td>63</td>\n",
              "      <td>14</td>\n",
              "      <td>0.000000</td>\n",
              "    </tr>\n",
              "  </tbody>\n",
              "</table>\n",
              "</div>\n",
              "      <button class=\"colab-df-convert\" onclick=\"convertToInteractive('df-9d72b12d-4793-4f06-83c3-d5e3d224eb30')\"\n",
              "              title=\"Convert this dataframe to an interactive table.\"\n",
              "              style=\"display:none;\">\n",
              "        \n",
              "  <svg xmlns=\"http://www.w3.org/2000/svg\" height=\"24px\"viewBox=\"0 0 24 24\"\n",
              "       width=\"24px\">\n",
              "    <path d=\"M0 0h24v24H0V0z\" fill=\"none\"/>\n",
              "    <path d=\"M18.56 5.44l.94 2.06.94-2.06 2.06-.94-2.06-.94-.94-2.06-.94 2.06-2.06.94zm-11 1L8.5 8.5l.94-2.06 2.06-.94-2.06-.94L8.5 2.5l-.94 2.06-2.06.94zm10 10l.94 2.06.94-2.06 2.06-.94-2.06-.94-.94-2.06-.94 2.06-2.06.94z\"/><path d=\"M17.41 7.96l-1.37-1.37c-.4-.4-.92-.59-1.43-.59-.52 0-1.04.2-1.43.59L10.3 9.45l-7.72 7.72c-.78.78-.78 2.05 0 2.83L4 21.41c.39.39.9.59 1.41.59.51 0 1.02-.2 1.41-.59l7.78-7.78 2.81-2.81c.8-.78.8-2.07 0-2.86zM5.41 20L4 18.59l7.72-7.72 1.47 1.35L5.41 20z\"/>\n",
              "  </svg>\n",
              "      </button>\n",
              "      \n",
              "  <style>\n",
              "    .colab-df-container {\n",
              "      display:flex;\n",
              "      flex-wrap:wrap;\n",
              "      gap: 12px;\n",
              "    }\n",
              "\n",
              "    .colab-df-convert {\n",
              "      background-color: #E8F0FE;\n",
              "      border: none;\n",
              "      border-radius: 50%;\n",
              "      cursor: pointer;\n",
              "      display: none;\n",
              "      fill: #1967D2;\n",
              "      height: 32px;\n",
              "      padding: 0 0 0 0;\n",
              "      width: 32px;\n",
              "    }\n",
              "\n",
              "    .colab-df-convert:hover {\n",
              "      background-color: #E2EBFA;\n",
              "      box-shadow: 0px 1px 2px rgba(60, 64, 67, 0.3), 0px 1px 3px 1px rgba(60, 64, 67, 0.15);\n",
              "      fill: #174EA6;\n",
              "    }\n",
              "\n",
              "    [theme=dark] .colab-df-convert {\n",
              "      background-color: #3B4455;\n",
              "      fill: #D2E3FC;\n",
              "    }\n",
              "\n",
              "    [theme=dark] .colab-df-convert:hover {\n",
              "      background-color: #434B5C;\n",
              "      box-shadow: 0px 1px 3px 1px rgba(0, 0, 0, 0.15);\n",
              "      filter: drop-shadow(0px 1px 2px rgba(0, 0, 0, 0.3));\n",
              "      fill: #FFFFFF;\n",
              "    }\n",
              "  </style>\n",
              "\n",
              "      <script>\n",
              "        const buttonEl =\n",
              "          document.querySelector('#df-9d72b12d-4793-4f06-83c3-d5e3d224eb30 button.colab-df-convert');\n",
              "        buttonEl.style.display =\n",
              "          google.colab.kernel.accessAllowed ? 'block' : 'none';\n",
              "\n",
              "        async function convertToInteractive(key) {\n",
              "          const element = document.querySelector('#df-9d72b12d-4793-4f06-83c3-d5e3d224eb30');\n",
              "          const dataTable =\n",
              "            await google.colab.kernel.invokeFunction('convertToInteractive',\n",
              "                                                     [key], {});\n",
              "          if (!dataTable) return;\n",
              "\n",
              "          const docLinkHtml = 'Like what you see? Visit the ' +\n",
              "            '<a target=\"_blank\" href=https://colab.research.google.com/notebooks/data_table.ipynb>data table notebook</a>'\n",
              "            + ' to learn more about interactive tables.';\n",
              "          element.innerHTML = '';\n",
              "          dataTable['output_type'] = 'display_data';\n",
              "          await google.colab.output.renderOutput(dataTable, element);\n",
              "          const docLink = document.createElement('div');\n",
              "          docLink.innerHTML = docLinkHtml;\n",
              "          element.appendChild(docLink);\n",
              "        }\n",
              "      </script>\n",
              "    </div>\n",
              "  </div>\n",
              "  "
            ],
            "text/plain": [
              "        id       city  ... median_number_of_reviews  sentiment_polarity\n",
              "0  id_5569      Paris  ...                       41            0.700000\n",
              "1  id_1535  Stockholm  ...                       16            0.687500\n",
              "2   id_352     London  ...                       31           -0.333333\n",
              "3  id_3456     Berlin  ...                       14            0.000000\n",
              "\n",
              "[4 rows x 19 columns]"
            ]
          },
          "metadata": {},
          "execution_count": 195
        }
      ]
    },
    {
      "cell_type": "code",
      "source": [
        "# построим среднюю полярность для каждого балла рейтинга:\n",
        "sns.barplot(x='rating', y='sentiment_polarity', data=df) "
      ],
      "metadata": {
        "colab": {
          "base_uri": "https://localhost:8080/",
          "height": 624
        },
        "id": "K2C7Jn_Vsuik",
        "outputId": "9ce7f497-a91c-4e81-fed0-ea45e5063725"
      },
      "execution_count": null,
      "outputs": [
        {
          "output_type": "execute_result",
          "data": {
            "text/plain": [
              "<matplotlib.axes._subplots.AxesSubplot at 0x7efcf6418bd0>"
            ]
          },
          "metadata": {},
          "execution_count": 196
        },
        {
          "output_type": "display_data",
          "data": {
            "image/png": "[encoded data removed]",
            "text/plain": [
              "<Figure size 720x720 with 1 Axes>"
            ]
          },
          "metadata": {
            "needs_background": "light"
          }
        }
      ]
    },
    {
      "cell_type": "code",
      "source": [
        "# Посмотрим распределение целевой переменной относительно признака:\n",
        "df['rank'][df['rating'] == 5].hist(bins=50)"
      ],
      "metadata": {
        "colab": {
          "base_uri": "https://localhost:8080/",
          "height": 610
        },
        "id": "bDb-UG3hs-z4",
        "outputId": "6e411db1-fff3-4772-8180-5bc177c20ead"
      },
      "execution_count": null,
      "outputs": [
        {
          "output_type": "execute_result",
          "data": {
            "text/plain": [
              "<matplotlib.axes._subplots.AxesSubplot at 0x7efcf270f210>"
            ]
          },
          "metadata": {},
          "execution_count": 197
        },
        {
          "output_type": "display_data",
          "data": {
            "image/png": "[encoded data removed]",
            "text/plain": [
              "<Figure size 720x720 with 1 Axes>"
            ]
          },
          "metadata": {
            "needs_background": "light"
          }
        }
      ]
    },
    {
      "cell_type": "markdown",
      "source": [
        "Распределение похоже на нормальное, но попробуем его улучшить с помощью новых признаков. Для этого создадим столбец с количеством ресторанов в каждом городе"
      ],
      "metadata": {
        "id": "3aXX6q0vtNza"
      }
    },
    {
      "cell_type": "markdown",
      "source": [
        "создадим новый столбец количество ресторанов в городе ресторана number_of_restaurants"
      ],
      "metadata": {
        "id": "IGC17gDtDDBW"
      }
    },
    {
      "cell_type": "code",
      "source": [
        "df1=df[['city']].value_counts() # группируем данные по гороодам, считаем кол-во ресторанов в каждом городе\n",
        "df1 = df1.to_frame().reset_index() # преобразуем в ДФ\n",
        "df1.columns=['city', 'number_of_restaurants'] # прописываем названия столбцов\n",
        "df = df.merge(df1, how='left', on=['city']) #  добавляем столбец с количеством ресторанов в городе в основной ДФ\n",
        "df.sample()"
      ],
      "metadata": {
        "colab": {
          "base_uri": "https://localhost:8080/",
          "height": 232
        },
        "id": "TqgaYCqztQs6",
        "outputId": "7e0c779f-2d45-4356-fbd6-371f3a231abb"
      },
      "execution_count": null,
      "outputs": [
        {
          "output_type": "execute_result",
          "data": {
            "text/html": [
              "\n",
              "  <div id=\"df-8ea6bf42-2c13-48d0-824b-fc16c9b998d8\">\n",
              "    <div class=\"colab-df-container\">\n",
              "      <div>\n",
              "<style scoped>\n",
              "    .dataframe tbody tr th:only-of-type {\n",
              "        vertical-align: middle;\n",
              "    }\n",
              "\n",
              "    .dataframe tbody tr th {\n",
              "        vertical-align: top;\n",
              "    }\n",
              "\n",
              "    .dataframe thead th {\n",
              "        text-align: right;\n",
              "    }\n",
              "</style>\n",
              "<table border=\"1\" class=\"dataframe\">\n",
              "  <thead>\n",
              "    <tr style=\"text-align: right;\">\n",
              "      <th></th>\n",
              "      <th>id</th>\n",
              "      <th>city</th>\n",
              "      <th>cuisine</th>\n",
              "      <th>rank</th>\n",
              "      <th>rating</th>\n",
              "      <th>price</th>\n",
              "      <th>number_reviews</th>\n",
              "      <th>reviews</th>\n",
              "      <th>url</th>\n",
              "      <th>ID_TA</th>\n",
              "      <th>id_group</th>\n",
              "      <th>number_of_cuisines</th>\n",
              "      <th>mean_rating_in_city</th>\n",
              "      <th>reviews_date</th>\n",
              "      <th>rev_date_1</th>\n",
              "      <th>rev_date_2</th>\n",
              "      <th>date_delta</th>\n",
              "      <th>median_number_of_reviews</th>\n",
              "      <th>sentiment_polarity</th>\n",
              "      <th>number_of_restaurants</th>\n",
              "    </tr>\n",
              "  </thead>\n",
              "  <tbody>\n",
              "    <tr>\n",
              "      <th>22031</th>\n",
              "      <td>id_1320</td>\n",
              "      <td>Vienna</td>\n",
              "      <td>[Austrian, Central European, European]</td>\n",
              "      <td>1321.0</td>\n",
              "      <td>4.0</td>\n",
              "      <td>2</td>\n",
              "      <td>29.0</td>\n",
              "      <td>[['Great bar', 'Cool spot for coctails'], ['09...</td>\n",
              "      <td>/Restaurant_Review-g190454-d7653478-Reviews-If...</td>\n",
              "      <td>d7653478</td>\n",
              "      <td>11</td>\n",
              "      <td>3</td>\n",
              "      <td>4.078045</td>\n",
              "      <td>[2017-04-30, 2017-09-16]</td>\n",
              "      <td>2017-04-30</td>\n",
              "      <td>2017-09-16</td>\n",
              "      <td>139</td>\n",
              "      <td>18</td>\n",
              "      <td>0.575</td>\n",
              "      <td>1166</td>\n",
              "    </tr>\n",
              "  </tbody>\n",
              "</table>\n",
              "</div>\n",
              "      <button class=\"colab-df-convert\" onclick=\"convertToInteractive('df-8ea6bf42-2c13-48d0-824b-fc16c9b998d8')\"\n",
              "              title=\"Convert this dataframe to an interactive table.\"\n",
              "              style=\"display:none;\">\n",
              "        \n",
              "  <svg xmlns=\"http://www.w3.org/2000/svg\" height=\"24px\"viewBox=\"0 0 24 24\"\n",
              "       width=\"24px\">\n",
              "    <path d=\"M0 0h24v24H0V0z\" fill=\"none\"/>\n",
              "    <path d=\"M18.56 5.44l.94 2.06.94-2.06 2.06-.94-2.06-.94-.94-2.06-.94 2.06-2.06.94zm-11 1L8.5 8.5l.94-2.06 2.06-.94-2.06-.94L8.5 2.5l-.94 2.06-2.06.94zm10 10l.94 2.06.94-2.06 2.06-.94-2.06-.94-.94-2.06-.94 2.06-2.06.94z\"/><path d=\"M17.41 7.96l-1.37-1.37c-.4-.4-.92-.59-1.43-.59-.52 0-1.04.2-1.43.59L10.3 9.45l-7.72 7.72c-.78.78-.78 2.05 0 2.83L4 21.41c.39.39.9.59 1.41.59.51 0 1.02-.2 1.41-.59l7.78-7.78 2.81-2.81c.8-.78.8-2.07 0-2.86zM5.41 20L4 18.59l7.72-7.72 1.47 1.35L5.41 20z\"/>\n",
              "  </svg>\n",
              "      </button>\n",
              "      \n",
              "  <style>\n",
              "    .colab-df-container {\n",
              "      display:flex;\n",
              "      flex-wrap:wrap;\n",
              "      gap: 12px;\n",
              "    }\n",
              "\n",
              "    .colab-df-convert {\n",
              "      background-color: #E8F0FE;\n",
              "      border: none;\n",
              "      border-radius: 50%;\n",
              "      cursor: pointer;\n",
              "      display: none;\n",
              "      fill: #1967D2;\n",
              "      height: 32px;\n",
              "      padding: 0 0 0 0;\n",
              "      width: 32px;\n",
              "    }\n",
              "\n",
              "    .colab-df-convert:hover {\n",
              "      background-color: #E2EBFA;\n",
              "      box-shadow: 0px 1px 2px rgba(60, 64, 67, 0.3), 0px 1px 3px 1px rgba(60, 64, 67, 0.15);\n",
              "      fill: #174EA6;\n",
              "    }\n",
              "\n",
              "    [theme=dark] .colab-df-convert {\n",
              "      background-color: #3B4455;\n",
              "      fill: #D2E3FC;\n",
              "    }\n",
              "\n",
              "    [theme=dark] .colab-df-convert:hover {\n",
              "      background-color: #434B5C;\n",
              "      box-shadow: 0px 1px 3px 1px rgba(0, 0, 0, 0.15);\n",
              "      filter: drop-shadow(0px 1px 2px rgba(0, 0, 0, 0.3));\n",
              "      fill: #FFFFFF;\n",
              "    }\n",
              "  </style>\n",
              "\n",
              "      <script>\n",
              "        const buttonEl =\n",
              "          document.querySelector('#df-8ea6bf42-2c13-48d0-824b-fc16c9b998d8 button.colab-df-convert');\n",
              "        buttonEl.style.display =\n",
              "          google.colab.kernel.accessAllowed ? 'block' : 'none';\n",
              "\n",
              "        async function convertToInteractive(key) {\n",
              "          const element = document.querySelector('#df-8ea6bf42-2c13-48d0-824b-fc16c9b998d8');\n",
              "          const dataTable =\n",
              "            await google.colab.kernel.invokeFunction('convertToInteractive',\n",
              "                                                     [key], {});\n",
              "          if (!dataTable) return;\n",
              "\n",
              "          const docLinkHtml = 'Like what you see? Visit the ' +\n",
              "            '<a target=\"_blank\" href=https://colab.research.google.com/notebooks/data_table.ipynb>data table notebook</a>'\n",
              "            + ' to learn more about interactive tables.';\n",
              "          element.innerHTML = '';\n",
              "          dataTable['output_type'] = 'display_data';\n",
              "          await google.colab.output.renderOutput(dataTable, element);\n",
              "          const docLink = document.createElement('div');\n",
              "          docLink.innerHTML = docLinkHtml;\n",
              "          element.appendChild(docLink);\n",
              "        }\n",
              "      </script>\n",
              "    </div>\n",
              "  </div>\n",
              "  "
            ],
            "text/plain": [
              "            id    city  ... sentiment_polarity  number_of_restaurants\n",
              "22031  id_1320  Vienna  ...              0.575                   1166\n",
              "\n",
              "[1 rows x 20 columns]"
            ]
          },
          "metadata": {},
          "execution_count": 198
        }
      ]
    },
    {
      "cell_type": "code",
      "source": [
        "# Добавим новый признак 'delta_ranking_index':\n",
        "# отнимим от места, которое занимает ресторан в городе, количество ресторанов. потом поделим на количество\n",
        "df['delta_ranking']=df['number_of_restaurants'] - df['rank']\n",
        "df['delta_ranking_index'] = df['delta_ranking']/df['number_of_restaurants']\n",
        "df.head(4)"
      ],
      "metadata": {
        "colab": {
          "base_uri": "https://localhost:8080/",
          "height": 464
        },
        "id": "qtRCueRxtQaD",
        "outputId": "1a8b7906-253e-4cc1-f94d-549f18f86316"
      },
      "execution_count": null,
      "outputs": [
        {
          "output_type": "execute_result",
          "data": {
            "text/html": [
              "\n",
              "  <div id=\"df-bf7e063e-efe5-446d-99c2-eb5f71256347\">\n",
              "    <div class=\"colab-df-container\">\n",
              "      <div>\n",
              "<style scoped>\n",
              "    .dataframe tbody tr th:only-of-type {\n",
              "        vertical-align: middle;\n",
              "    }\n",
              "\n",
              "    .dataframe tbody tr th {\n",
              "        vertical-align: top;\n",
              "    }\n",
              "\n",
              "    .dataframe thead th {\n",
              "        text-align: right;\n",
              "    }\n",
              "</style>\n",
              "<table border=\"1\" class=\"dataframe\">\n",
              "  <thead>\n",
              "    <tr style=\"text-align: right;\">\n",
              "      <th></th>\n",
              "      <th>id</th>\n",
              "      <th>city</th>\n",
              "      <th>cuisine</th>\n",
              "      <th>rank</th>\n",
              "      <th>rating</th>\n",
              "      <th>price</th>\n",
              "      <th>number_reviews</th>\n",
              "      <th>reviews</th>\n",
              "      <th>url</th>\n",
              "      <th>ID_TA</th>\n",
              "      <th>id_group</th>\n",
              "      <th>number_of_cuisines</th>\n",
              "      <th>mean_rating_in_city</th>\n",
              "      <th>reviews_date</th>\n",
              "      <th>rev_date_1</th>\n",
              "      <th>rev_date_2</th>\n",
              "      <th>date_delta</th>\n",
              "      <th>median_number_of_reviews</th>\n",
              "      <th>sentiment_polarity</th>\n",
              "      <th>number_of_restaurants</th>\n",
              "      <th>delta_ranking</th>\n",
              "      <th>delta_ranking_index</th>\n",
              "    </tr>\n",
              "  </thead>\n",
              "  <tbody>\n",
              "    <tr>\n",
              "      <th>0</th>\n",
              "      <td>id_5569</td>\n",
              "      <td>Paris</td>\n",
              "      <td>[European, French, International]</td>\n",
              "      <td>5570.0</td>\n",
              "      <td>3.5</td>\n",
              "      <td>2</td>\n",
              "      <td>194.0</td>\n",
              "      <td>[['Good food at your doorstep', 'A good hotel ...</td>\n",
              "      <td>/Restaurant_Review-g187147-d1912643-Reviews-R_...</td>\n",
              "      <td>d1912643</td>\n",
              "      <td>3</td>\n",
              "      <td>3</td>\n",
              "      <td>3.942414</td>\n",
              "      <td>[2017-11-20, 2017-12-31]</td>\n",
              "      <td>2017-11-20</td>\n",
              "      <td>2017-12-31</td>\n",
              "      <td>41</td>\n",
              "      <td>41</td>\n",
              "      <td>0.700000</td>\n",
              "      <td>4897</td>\n",
              "      <td>-673.0</td>\n",
              "      <td>-0.137431</td>\n",
              "    </tr>\n",
              "    <tr>\n",
              "      <th>1</th>\n",
              "      <td>id_1535</td>\n",
              "      <td>Stockholm</td>\n",
              "      <td>[unknown]</td>\n",
              "      <td>1537.0</td>\n",
              "      <td>4.0</td>\n",
              "      <td>2</td>\n",
              "      <td>10.0</td>\n",
              "      <td>[['Unique cuisine', 'Delicious Nepalese food']...</td>\n",
              "      <td>/Restaurant_Review-g189852-d7992032-Reviews-Bu...</td>\n",
              "      <td>d7992032</td>\n",
              "      <td>10</td>\n",
              "      <td>1</td>\n",
              "      <td>3.870122</td>\n",
              "      <td>[2016-06-19, 2017-07-06]</td>\n",
              "      <td>2016-06-19</td>\n",
              "      <td>2017-07-06</td>\n",
              "      <td>382</td>\n",
              "      <td>16</td>\n",
              "      <td>0.687500</td>\n",
              "      <td>820</td>\n",
              "      <td>-717.0</td>\n",
              "      <td>-0.874390</td>\n",
              "    </tr>\n",
              "    <tr>\n",
              "      <th>2</th>\n",
              "      <td>id_352</td>\n",
              "      <td>London</td>\n",
              "      <td>[Japanese, Sushi, Asian, Grill, Vegetarian Fri...</td>\n",
              "      <td>353.0</td>\n",
              "      <td>4.5</td>\n",
              "      <td>3</td>\n",
              "      <td>688.0</td>\n",
              "      <td>[['Catch up with friends', 'Not exceptional'],...</td>\n",
              "      <td>/Restaurant_Review-g186338-d8632781-Reviews-RO...</td>\n",
              "      <td>d8632781</td>\n",
              "      <td>8</td>\n",
              "      <td>7</td>\n",
              "      <td>3.955098</td>\n",
              "      <td>[2018-01-06, 2018-01-08]</td>\n",
              "      <td>2018-01-06</td>\n",
              "      <td>2018-01-08</td>\n",
              "      <td>2</td>\n",
              "      <td>31</td>\n",
              "      <td>-0.333333</td>\n",
              "      <td>5757</td>\n",
              "      <td>5404.0</td>\n",
              "      <td>0.938683</td>\n",
              "    </tr>\n",
              "    <tr>\n",
              "      <th>3</th>\n",
              "      <td>id_3456</td>\n",
              "      <td>Berlin</td>\n",
              "      <td>[unknown]</td>\n",
              "      <td>3458.0</td>\n",
              "      <td>5.0</td>\n",
              "      <td>2</td>\n",
              "      <td>3.0</td>\n",
              "      <td>[[], []]</td>\n",
              "      <td>/Restaurant_Review-g187323-d1358776-Reviews-Es...</td>\n",
              "      <td>d1358776</td>\n",
              "      <td>4</td>\n",
              "      <td>1</td>\n",
              "      <td>4.124594</td>\n",
              "      <td>[]</td>\n",
              "      <td>2017-11-05</td>\n",
              "      <td>2018-01-07</td>\n",
              "      <td>63</td>\n",
              "      <td>14</td>\n",
              "      <td>0.000000</td>\n",
              "      <td>2155</td>\n",
              "      <td>-1303.0</td>\n",
              "      <td>-0.604640</td>\n",
              "    </tr>\n",
              "  </tbody>\n",
              "</table>\n",
              "</div>\n",
              "      <button class=\"colab-df-convert\" onclick=\"convertToInteractive('df-bf7e063e-efe5-446d-99c2-eb5f71256347')\"\n",
              "              title=\"Convert this dataframe to an interactive table.\"\n",
              "              style=\"display:none;\">\n",
              "        \n",
              "  <svg xmlns=\"http://www.w3.org/2000/svg\" height=\"24px\"viewBox=\"0 0 24 24\"\n",
              "       width=\"24px\">\n",
              "    <path d=\"M0 0h24v24H0V0z\" fill=\"none\"/>\n",
              "    <path d=\"M18.56 5.44l.94 2.06.94-2.06 2.06-.94-2.06-.94-.94-2.06-.94 2.06-2.06.94zm-11 1L8.5 8.5l.94-2.06 2.06-.94-2.06-.94L8.5 2.5l-.94 2.06-2.06.94zm10 10l.94 2.06.94-2.06 2.06-.94-2.06-.94-.94-2.06-.94 2.06-2.06.94z\"/><path d=\"M17.41 7.96l-1.37-1.37c-.4-.4-.92-.59-1.43-.59-.52 0-1.04.2-1.43.59L10.3 9.45l-7.72 7.72c-.78.78-.78 2.05 0 2.83L4 21.41c.39.39.9.59 1.41.59.51 0 1.02-.2 1.41-.59l7.78-7.78 2.81-2.81c.8-.78.8-2.07 0-2.86zM5.41 20L4 18.59l7.72-7.72 1.47 1.35L5.41 20z\"/>\n",
              "  </svg>\n",
              "      </button>\n",
              "      \n",
              "  <style>\n",
              "    .colab-df-container {\n",
              "      display:flex;\n",
              "      flex-wrap:wrap;\n",
              "      gap: 12px;\n",
              "    }\n",
              "\n",
              "    .colab-df-convert {\n",
              "      background-color: #E8F0FE;\n",
              "      border: none;\n",
              "      border-radius: 50%;\n",
              "      cursor: pointer;\n",
              "      display: none;\n",
              "      fill: #1967D2;\n",
              "      height: 32px;\n",
              "      padding: 0 0 0 0;\n",
              "      width: 32px;\n",
              "    }\n",
              "\n",
              "    .colab-df-convert:hover {\n",
              "      background-color: #E2EBFA;\n",
              "      box-shadow: 0px 1px 2px rgba(60, 64, 67, 0.3), 0px 1px 3px 1px rgba(60, 64, 67, 0.15);\n",
              "      fill: #174EA6;\n",
              "    }\n",
              "\n",
              "    [theme=dark] .colab-df-convert {\n",
              "      background-color: #3B4455;\n",
              "      fill: #D2E3FC;\n",
              "    }\n",
              "\n",
              "    [theme=dark] .colab-df-convert:hover {\n",
              "      background-color: #434B5C;\n",
              "      box-shadow: 0px 1px 3px 1px rgba(0, 0, 0, 0.15);\n",
              "      filter: drop-shadow(0px 1px 2px rgba(0, 0, 0, 0.3));\n",
              "      fill: #FFFFFF;\n",
              "    }\n",
              "  </style>\n",
              "\n",
              "      <script>\n",
              "        const buttonEl =\n",
              "          document.querySelector('#df-bf7e063e-efe5-446d-99c2-eb5f71256347 button.colab-df-convert');\n",
              "        buttonEl.style.display =\n",
              "          google.colab.kernel.accessAllowed ? 'block' : 'none';\n",
              "\n",
              "        async function convertToInteractive(key) {\n",
              "          const element = document.querySelector('#df-bf7e063e-efe5-446d-99c2-eb5f71256347');\n",
              "          const dataTable =\n",
              "            await google.colab.kernel.invokeFunction('convertToInteractive',\n",
              "                                                     [key], {});\n",
              "          if (!dataTable) return;\n",
              "\n",
              "          const docLinkHtml = 'Like what you see? Visit the ' +\n",
              "            '<a target=\"_blank\" href=https://colab.research.google.com/notebooks/data_table.ipynb>data table notebook</a>'\n",
              "            + ' to learn more about interactive tables.';\n",
              "          element.innerHTML = '';\n",
              "          dataTable['output_type'] = 'display_data';\n",
              "          await google.colab.output.renderOutput(dataTable, element);\n",
              "          const docLink = document.createElement('div');\n",
              "          docLink.innerHTML = docLinkHtml;\n",
              "          element.appendChild(docLink);\n",
              "        }\n",
              "      </script>\n",
              "    </div>\n",
              "  </div>\n",
              "  "
            ],
            "text/plain": [
              "        id       city  ... delta_ranking  delta_ranking_index\n",
              "0  id_5569      Paris  ...        -673.0            -0.137431\n",
              "1  id_1535  Stockholm  ...        -717.0            -0.874390\n",
              "2   id_352     London  ...        5404.0             0.938683\n",
              "3  id_3456     Berlin  ...       -1303.0            -0.604640\n",
              "\n",
              "[4 rows x 22 columns]"
            ]
          },
          "metadata": {},
          "execution_count": 199
        }
      ]
    },
    {
      "cell_type": "code",
      "source": [
        "# Посмотрим распределение целевой переменной относительно признака:\n",
        "df['delta_ranking_index'][df['rating'] == 5].hist(bins=50)"
      ],
      "metadata": {
        "colab": {
          "base_uri": "https://localhost:8080/",
          "height": 610
        },
        "id": "EZel3bHpuEds",
        "outputId": "8bc27545-1888-41c9-d713-29b938300bde"
      },
      "execution_count": null,
      "outputs": [
        {
          "output_type": "execute_result",
          "data": {
            "text/plain": [
              "<matplotlib.axes._subplots.AxesSubplot at 0x7efcf070ddd0>"
            ]
          },
          "metadata": {},
          "execution_count": 200
        },
        {
          "output_type": "display_data",
          "data": {
            "image/png": "[encoded data removed]",
            "text/plain": [
              "<Figure size 720x720 with 1 Axes>"
            ]
          },
          "metadata": {
            "needs_background": "light"
          }
        }
      ]
    },
    {
      "cell_type": "code",
      "source": [
        "for x in (df['city'].value_counts())[0:10].index:\n",
        "    df['rank'][df['city'] == x].hist(bins=100)\n",
        "plt.show()"
      ],
      "metadata": {
        "colab": {
          "base_uri": "https://localhost:8080/",
          "height": 592
        },
        "id": "F-WBvla1uEGV",
        "outputId": "210969b9-4acf-4402-adff-5a7f0688221e"
      },
      "execution_count": null,
      "outputs": [
        {
          "output_type": "display_data",
          "data": {
            "image/png": "[encoded data removed]",
            "text/plain": [
              "<Figure size 720x720 with 1 Axes>"
            ]
          },
          "metadata": {
            "needs_background": "light"
          }
        }
      ]
    },
    {
      "cell_type": "code",
      "source": [
        "for x in (df['city'].value_counts())[0:10].index:\n",
        "    df['delta_ranking_index'][df['city'] == x].hist(bins=100)\n",
        "plt.show()"
      ],
      "metadata": {
        "colab": {
          "base_uri": "https://localhost:8080/",
          "height": 592
        },
        "id": "6_R-0-NwuD80",
        "outputId": "50c62f5a-de90-464c-d090-debe92b76f1b"
      },
      "execution_count": null,
      "outputs": [
        {
          "output_type": "display_data",
          "data": {
            "image/png": "[encoded data removed]",
            "text/plain": [
              "<Figure size 720x720 with 1 Axes>"
            ]
          },
          "metadata": {
            "needs_background": "light"
          }
        }
      ]
    },
    {
      "cell_type": "markdown",
      "source": [
        ""
      ],
      "metadata": {
        "id": "GXV2JRKF2wiP"
      }
    },
    {
      "cell_type": "code",
      "source": [
        ""
      ],
      "metadata": {
        "id": "CEQJOdJW2wFn"
      },
      "execution_count": null,
      "outputs": []
    },
    {
      "cell_type": "code",
      "source": [
        "corr = df.corr()\n",
        "cmap = sns.diverging_palette(5, 250, as_cmap=True)\n",
        "\n",
        "def magnify():\n",
        "    return [dict(selector=\"th\",\n",
        "                 props=[(\"font-size\", \"7pt\")]),\n",
        "            dict(selector=\"td\",\n",
        "                 props=[('padding', \"0em 0em\")]),\n",
        "            dict(selector=\"th:hover\",\n",
        "                 props=[(\"font-size\", \"12pt\")]),\n",
        "            dict(selector=\"tr:hover td:hover\",\n",
        "                 props=[('max-width', '200px'),\n",
        "                        ('font-size', '12pt')])\n",
        "]\n",
        "\n",
        "corr.style.background_gradient(cmap, axis=1)\\\n",
        "    .set_properties(**{'max-width': '80px', 'font-size': '10pt'})\\\n",
        "    .set_caption(\"Hover to magify\")\\\n",
        "    .set_precision(2)\\\n",
        "    .set_table_styles(magnify())"
      ],
      "metadata": {
        "colab": {
          "base_uri": "https://localhost:8080/",
          "height": 348
        },
        "id": "b_AuytxJ2v6d",
        "outputId": "4fe5afc2-979b-4764-bb83-649d1275e595"
      },
      "execution_count": null,
      "outputs": [
        {
          "output_type": "execute_result",
          "data": {
            "text/html": [
              "<style  type=\"text/css\" >\n",
              "    #T_6bf7b004_783b_11ec_b087_0242ac1c0002 th {\n",
              "          font-size: 7pt;\n",
              "    }    #T_6bf7b004_783b_11ec_b087_0242ac1c0002 td {\n",
              "          padding: 0em 0em;\n",
              "    }    #T_6bf7b004_783b_11ec_b087_0242ac1c0002 th:hover {\n",
              "          font-size: 12pt;\n",
              "    }    #T_6bf7b004_783b_11ec_b087_0242ac1c0002 tr:hover td:hover {\n",
              "          max-width: 200px;\n",
              "          font-size: 12pt;\n",
              "    }#T_6bf7b004_783b_11ec_b087_0242ac1c0002row0_col0,#T_6bf7b004_783b_11ec_b087_0242ac1c0002row1_col1,#T_6bf7b004_783b_11ec_b087_0242ac1c0002row2_col2,#T_6bf7b004_783b_11ec_b087_0242ac1c0002row3_col3,#T_6bf7b004_783b_11ec_b087_0242ac1c0002row4_col4,#T_6bf7b004_783b_11ec_b087_0242ac1c0002row5_col5,#T_6bf7b004_783b_11ec_b087_0242ac1c0002row6_col6,#T_6bf7b004_783b_11ec_b087_0242ac1c0002row7_col7,#T_6bf7b004_783b_11ec_b087_0242ac1c0002row8_col8,#T_6bf7b004_783b_11ec_b087_0242ac1c0002row9_col9,#T_6bf7b004_783b_11ec_b087_0242ac1c0002row10_col10,#T_6bf7b004_783b_11ec_b087_0242ac1c0002row11_col11,#T_6bf7b004_783b_11ec_b087_0242ac1c0002row12_col12{\n",
              "            background-color:  #4479bb;\n",
              "            color:  #000000;\n",
              "            max-width:  80px;\n",
              "            font-size:  10pt;\n",
              "        }#T_6bf7b004_783b_11ec_b087_0242ac1c0002row0_col1{\n",
              "            background-color:  #e69ead;\n",
              "            color:  #000000;\n",
              "            max-width:  80px;\n",
              "            font-size:  10pt;\n",
              "        }#T_6bf7b004_783b_11ec_b087_0242ac1c0002row0_col2,#T_6bf7b004_783b_11ec_b087_0242ac1c0002row10_col8,#T_6bf7b004_783b_11ec_b087_0242ac1c0002row11_col8{\n",
              "            background-color:  #f0e0e3;\n",
              "            color:  #000000;\n",
              "            max-width:  80px;\n",
              "            font-size:  10pt;\n",
              "        }#T_6bf7b004_783b_11ec_b087_0242ac1c0002row0_col3,#T_6bf7b004_783b_11ec_b087_0242ac1c0002row4_col7,#T_6bf7b004_783b_11ec_b087_0242ac1c0002row12_col6{\n",
              "            background-color:  #eabbc4;\n",
              "            color:  #000000;\n",
              "            max-width:  80px;\n",
              "            font-size:  10pt;\n",
              "        }#T_6bf7b004_783b_11ec_b087_0242ac1c0002row0_col4,#T_6bf7b004_783b_11ec_b087_0242ac1c0002row3_col7{\n",
              "            background-color:  #da516c;\n",
              "            color:  #000000;\n",
              "            max-width:  80px;\n",
              "            font-size:  10pt;\n",
              "        }#T_6bf7b004_783b_11ec_b087_0242ac1c0002row0_col5,#T_6bf7b004_783b_11ec_b087_0242ac1c0002row3_col9{\n",
              "            background-color:  #e7a7b4;\n",
              "            color:  #000000;\n",
              "            max-width:  80px;\n",
              "            font-size:  10pt;\n",
              "        }#T_6bf7b004_783b_11ec_b087_0242ac1c0002row0_col6,#T_6bf7b004_783b_11ec_b087_0242ac1c0002row5_col6{\n",
              "            background-color:  #e9b4be;\n",
              "            color:  #000000;\n",
              "            max-width:  80px;\n",
              "            font-size:  10pt;\n",
              "        }#T_6bf7b004_783b_11ec_b087_0242ac1c0002row0_col7{\n",
              "            background-color:  #e3e8ee;\n",
              "            color:  #000000;\n",
              "            max-width:  80px;\n",
              "            font-size:  10pt;\n",
              "        }#T_6bf7b004_783b_11ec_b087_0242ac1c0002row0_col8,#T_6bf7b004_783b_11ec_b087_0242ac1c0002row3_col5,#T_6bf7b004_783b_11ec_b087_0242ac1c0002row3_col12{\n",
              "            background-color:  #edeef1;\n",
              "            color:  #000000;\n",
              "            max-width:  80px;\n",
              "            font-size:  10pt;\n",
              "        }#T_6bf7b004_783b_11ec_b087_0242ac1c0002row0_col9,#T_6bf7b004_783b_11ec_b087_0242ac1c0002row1_col5,#T_6bf7b004_783b_11ec_b087_0242ac1c0002row10_col5{\n",
              "            background-color:  #ebbec6;\n",
              "            color:  #000000;\n",
              "            max-width:  80px;\n",
              "            font-size:  10pt;\n",
              "        }#T_6bf7b004_783b_11ec_b087_0242ac1c0002row0_col10{\n",
              "            background-color:  #799ecc;\n",
              "            color:  #000000;\n",
              "            max-width:  80px;\n",
              "            font-size:  10pt;\n",
              "        }#T_6bf7b004_783b_11ec_b087_0242ac1c0002row0_col11,#T_6bf7b004_783b_11ec_b087_0242ac1c0002row1_col0,#T_6bf7b004_783b_11ec_b087_0242ac1c0002row2_col6,#T_6bf7b004_783b_11ec_b087_0242ac1c0002row3_col0,#T_6bf7b004_783b_11ec_b087_0242ac1c0002row4_col0,#T_6bf7b004_783b_11ec_b087_0242ac1c0002row5_col0,#T_6bf7b004_783b_11ec_b087_0242ac1c0002row6_col10,#T_6bf7b004_783b_11ec_b087_0242ac1c0002row7_col5,#T_6bf7b004_783b_11ec_b087_0242ac1c0002row7_col12,#T_6bf7b004_783b_11ec_b087_0242ac1c0002row8_col4,#T_6bf7b004_783b_11ec_b087_0242ac1c0002row9_col0,#T_6bf7b004_783b_11ec_b087_0242ac1c0002row10_col4,#T_6bf7b004_783b_11ec_b087_0242ac1c0002row11_col0,#T_6bf7b004_783b_11ec_b087_0242ac1c0002row12_col0{\n",
              "            background-color:  #d73c5b;\n",
              "            color:  #f1f1f1;\n",
              "            max-width:  80px;\n",
              "            font-size:  10pt;\n",
              "        }#T_6bf7b004_783b_11ec_b087_0242ac1c0002row0_col12,#T_6bf7b004_783b_11ec_b087_0242ac1c0002row9_col10{\n",
              "            background-color:  #e17a8f;\n",
              "            color:  #000000;\n",
              "            max-width:  80px;\n",
              "            font-size:  10pt;\n",
              "        }#T_6bf7b004_783b_11ec_b087_0242ac1c0002row1_col2,#T_6bf7b004_783b_11ec_b087_0242ac1c0002row8_col3{\n",
              "            background-color:  #e595a5;\n",
              "            color:  #000000;\n",
              "            max-width:  80px;\n",
              "            font-size:  10pt;\n",
              "        }#T_6bf7b004_783b_11ec_b087_0242ac1c0002row1_col3,#T_6bf7b004_783b_11ec_b087_0242ac1c0002row9_col3{\n",
              "            background-color:  #e7a4b1;\n",
              "            color:  #000000;\n",
              "            max-width:  80px;\n",
              "            font-size:  10pt;\n",
              "        }#T_6bf7b004_783b_11ec_b087_0242ac1c0002row1_col4,#T_6bf7b004_783b_11ec_b087_0242ac1c0002row9_col12{\n",
              "            background-color:  #f1eaeb;\n",
              "            color:  #000000;\n",
              "            max-width:  80px;\n",
              "            font-size:  10pt;\n",
              "        }#T_6bf7b004_783b_11ec_b087_0242ac1c0002row1_col6,#T_6bf7b004_783b_11ec_b087_0242ac1c0002row9_col1{\n",
              "            background-color:  #edcad1;\n",
              "            color:  #000000;\n",
              "            max-width:  80px;\n",
              "            font-size:  10pt;\n",
              "        }#T_6bf7b004_783b_11ec_b087_0242ac1c0002row1_col7{\n",
              "            background-color:  #e3889a;\n",
              "            color:  #000000;\n",
              "            max-width:  80px;\n",
              "            font-size:  10pt;\n",
              "        }#T_6bf7b004_783b_11ec_b087_0242ac1c0002row1_col8{\n",
              "            background-color:  #e8abb7;\n",
              "            color:  #000000;\n",
              "            max-width:  80px;\n",
              "            font-size:  10pt;\n",
              "        }#T_6bf7b004_783b_11ec_b087_0242ac1c0002row1_col9{\n",
              "            background-color:  #f0e4e6;\n",
              "            color:  #000000;\n",
              "            max-width:  80px;\n",
              "            font-size:  10pt;\n",
              "        }#T_6bf7b004_783b_11ec_b087_0242ac1c0002row1_col10,#T_6bf7b004_783b_11ec_b087_0242ac1c0002row3_col6,#T_6bf7b004_783b_11ec_b087_0242ac1c0002row5_col10{\n",
              "            background-color:  #e38d9e;\n",
              "            color:  #000000;\n",
              "            max-width:  80px;\n",
              "            font-size:  10pt;\n",
              "        }#T_6bf7b004_783b_11ec_b087_0242ac1c0002row1_col11{\n",
              "            background-color:  #cdd9e7;\n",
              "            color:  #000000;\n",
              "            max-width:  80px;\n",
              "            font-size:  10pt;\n",
              "        }#T_6bf7b004_783b_11ec_b087_0242ac1c0002row1_col12{\n",
              "            background-color:  #b8c9e0;\n",
              "            color:  #000000;\n",
              "            max-width:  80px;\n",
              "            font-size:  10pt;\n",
              "        }#T_6bf7b004_783b_11ec_b087_0242ac1c0002row2_col0,#T_6bf7b004_783b_11ec_b087_0242ac1c0002row2_col1{\n",
              "            background-color:  #d94865;\n",
              "            color:  #000000;\n",
              "            max-width:  80px;\n",
              "            font-size:  10pt;\n",
              "        }#T_6bf7b004_783b_11ec_b087_0242ac1c0002row2_col3{\n",
              "            background-color:  #e0768b;\n",
              "            color:  #000000;\n",
              "            max-width:  80px;\n",
              "            font-size:  10pt;\n",
              "        }#T_6bf7b004_783b_11ec_b087_0242ac1c0002row2_col4{\n",
              "            background-color:  #dd6179;\n",
              "            color:  #000000;\n",
              "            max-width:  80px;\n",
              "            font-size:  10pt;\n",
              "        }#T_6bf7b004_783b_11ec_b087_0242ac1c0002row2_col5{\n",
              "            background-color:  #db526e;\n",
              "            color:  #000000;\n",
              "            max-width:  80px;\n",
              "            font-size:  10pt;\n",
              "        }#T_6bf7b004_783b_11ec_b087_0242ac1c0002row2_col7,#T_6bf7b004_783b_11ec_b087_0242ac1c0002row5_col7{\n",
              "            background-color:  #da4e6a;\n",
              "            color:  #000000;\n",
              "            max-width:  80px;\n",
              "            font-size:  10pt;\n",
              "        }#T_6bf7b004_783b_11ec_b087_0242ac1c0002row2_col8{\n",
              "            background-color:  #d8405e;\n",
              "            color:  #f1f1f1;\n",
              "            max-width:  80px;\n",
              "            font-size:  10pt;\n",
              "        }#T_6bf7b004_783b_11ec_b087_0242ac1c0002row2_col9{\n",
              "            background-color:  #d94764;\n",
              "            color:  #f1f1f1;\n",
              "            max-width:  80px;\n",
              "            font-size:  10pt;\n",
              "        }#T_6bf7b004_783b_11ec_b087_0242ac1c0002row2_col10{\n",
              "            background-color:  #db546f;\n",
              "            color:  #000000;\n",
              "            max-width:  80px;\n",
              "            font-size:  10pt;\n",
              "        }#T_6bf7b004_783b_11ec_b087_0242ac1c0002row2_col11{\n",
              "            background-color:  #dd5f78;\n",
              "            color:  #000000;\n",
              "            max-width:  80px;\n",
              "            font-size:  10pt;\n",
              "        }#T_6bf7b004_783b_11ec_b087_0242ac1c0002row2_col12{\n",
              "            background-color:  #dd627b;\n",
              "            color:  #000000;\n",
              "            max-width:  80px;\n",
              "            font-size:  10pt;\n",
              "        }#T_6bf7b004_783b_11ec_b087_0242ac1c0002row3_col1,#T_6bf7b004_783b_11ec_b087_0242ac1c0002row3_col10{\n",
              "            background-color:  #e28698;\n",
              "            color:  #000000;\n",
              "            max-width:  80px;\n",
              "            font-size:  10pt;\n",
              "        }#T_6bf7b004_783b_11ec_b087_0242ac1c0002row3_col2{\n",
              "            background-color:  #e69dab;\n",
              "            color:  #000000;\n",
              "            max-width:  80px;\n",
              "            font-size:  10pt;\n",
              "        }#T_6bf7b004_783b_11ec_b087_0242ac1c0002row3_col4,#T_6bf7b004_783b_11ec_b087_0242ac1c0002row6_col1,#T_6bf7b004_783b_11ec_b087_0242ac1c0002row8_col6,#T_6bf7b004_783b_11ec_b087_0242ac1c0002row10_col3{\n",
              "            background-color:  #ecc9d0;\n",
              "            color:  #000000;\n",
              "            max-width:  80px;\n",
              "            font-size:  10pt;\n",
              "        }#T_6bf7b004_783b_11ec_b087_0242ac1c0002row3_col8{\n",
              "            background-color:  #e8aeba;\n",
              "            color:  #000000;\n",
              "            max-width:  80px;\n",
              "            font-size:  10pt;\n",
              "        }#T_6bf7b004_783b_11ec_b087_0242ac1c0002row3_col11{\n",
              "            background-color:  #efdde0;\n",
              "            color:  #000000;\n",
              "            max-width:  80px;\n",
              "            font-size:  10pt;\n",
              "        }#T_6bf7b004_783b_11ec_b087_0242ac1c0002row4_col1,#T_6bf7b004_783b_11ec_b087_0242ac1c0002row12_col9{\n",
              "            background-color:  #d0dae8;\n",
              "            color:  #000000;\n",
              "            max-width:  80px;\n",
              "            font-size:  10pt;\n",
              "        }#T_6bf7b004_783b_11ec_b087_0242ac1c0002row4_col2{\n",
              "            background-color:  #f0e3e5;\n",
              "            color:  #000000;\n",
              "            max-width:  80px;\n",
              "            font-size:  10pt;\n",
              "        }#T_6bf7b004_783b_11ec_b087_0242ac1c0002row4_col3{\n",
              "            background-color:  #d7dfea;\n",
              "            color:  #000000;\n",
              "            max-width:  80px;\n",
              "            font-size:  10pt;\n",
              "        }#T_6bf7b004_783b_11ec_b087_0242ac1c0002row4_col5{\n",
              "            background-color:  #c4d2e4;\n",
              "            color:  #000000;\n",
              "            max-width:  80px;\n",
              "            font-size:  10pt;\n",
              "        }#T_6bf7b004_783b_11ec_b087_0242ac1c0002row4_col6{\n",
              "            background-color:  #dbe2eb;\n",
              "            color:  #000000;\n",
              "            max-width:  80px;\n",
              "            font-size:  10pt;\n",
              "        }#T_6bf7b004_783b_11ec_b087_0242ac1c0002row4_col8{\n",
              "            background-color:  #ebc1c9;\n",
              "            color:  #000000;\n",
              "            max-width:  80px;\n",
              "            font-size:  10pt;\n",
              "        }#T_6bf7b004_783b_11ec_b087_0242ac1c0002row4_col9,#T_6bf7b004_783b_11ec_b087_0242ac1c0002row5_col3{\n",
              "            background-color:  #e0e6ed;\n",
              "            color:  #000000;\n",
              "            max-width:  80px;\n",
              "            font-size:  10pt;\n",
              "        }#T_6bf7b004_783b_11ec_b087_0242ac1c0002row4_col10{\n",
              "            background-color:  #dc5e77;\n",
              "            color:  #000000;\n",
              "            max-width:  80px;\n",
              "            font-size:  10pt;\n",
              "        }#T_6bf7b004_783b_11ec_b087_0242ac1c0002row4_col11{\n",
              "            background-color:  #8cabd2;\n",
              "            color:  #000000;\n",
              "            max-width:  80px;\n",
              "            font-size:  10pt;\n",
              "        }#T_6bf7b004_783b_11ec_b087_0242ac1c0002row4_col12{\n",
              "            background-color:  #a1b9d9;\n",
              "            color:  #000000;\n",
              "            max-width:  80px;\n",
              "            font-size:  10pt;\n",
              "        }#T_6bf7b004_783b_11ec_b087_0242ac1c0002row5_col1,#T_6bf7b004_783b_11ec_b087_0242ac1c0002row10_col1{\n",
              "            background-color:  #e9b5bf;\n",
              "            color:  #000000;\n",
              "            max-width:  80px;\n",
              "            font-size:  10pt;\n",
              "        }#T_6bf7b004_783b_11ec_b087_0242ac1c0002row5_col2,#T_6bf7b004_783b_11ec_b087_0242ac1c0002row6_col7{\n",
              "            background-color:  #e494a4;\n",
              "            color:  #000000;\n",
              "            max-width:  80px;\n",
              "            font-size:  10pt;\n",
              "        }#T_6bf7b004_783b_11ec_b087_0242ac1c0002row5_col4{\n",
              "            background-color:  #eff0f2;\n",
              "            color:  #000000;\n",
              "            max-width:  80px;\n",
              "            font-size:  10pt;\n",
              "        }#T_6bf7b004_783b_11ec_b087_0242ac1c0002row5_col8,#T_6bf7b004_783b_11ec_b087_0242ac1c0002row7_col0{\n",
              "            background-color:  #e8adb8;\n",
              "            color:  #000000;\n",
              "            max-width:  80px;\n",
              "            font-size:  10pt;\n",
              "        }#T_6bf7b004_783b_11ec_b087_0242ac1c0002row5_col9{\n",
              "            background-color:  #eed6db;\n",
              "            color:  #000000;\n",
              "            max-width:  80px;\n",
              "            font-size:  10pt;\n",
              "        }#T_6bf7b004_783b_11ec_b087_0242ac1c0002row5_col11{\n",
              "            background-color:  #dce3ec;\n",
              "            color:  #000000;\n",
              "            max-width:  80px;\n",
              "            font-size:  10pt;\n",
              "        }#T_6bf7b004_783b_11ec_b087_0242ac1c0002row5_col12{\n",
              "            background-color:  #bdcde2;\n",
              "            color:  #000000;\n",
              "            max-width:  80px;\n",
              "            font-size:  10pt;\n",
              "        }#T_6bf7b004_783b_11ec_b087_0242ac1c0002row6_col0{\n",
              "            background-color:  #db5872;\n",
              "            color:  #000000;\n",
              "            max-width:  80px;\n",
              "            font-size:  10pt;\n",
              "        }#T_6bf7b004_783b_11ec_b087_0242ac1c0002row6_col2,#T_6bf7b004_783b_11ec_b087_0242ac1c0002row8_col10{\n",
              "            background-color:  #e38a9c;\n",
              "            color:  #000000;\n",
              "            max-width:  80px;\n",
              "            font-size:  10pt;\n",
              "        }#T_6bf7b004_783b_11ec_b087_0242ac1c0002row6_col3{\n",
              "            background-color:  #e8aab6;\n",
              "            color:  #000000;\n",
              "            max-width:  80px;\n",
              "            font-size:  10pt;\n",
              "        }#T_6bf7b004_783b_11ec_b087_0242ac1c0002row6_col4{\n",
              "            background-color:  #efdade;\n",
              "            color:  #000000;\n",
              "            max-width:  80px;\n",
              "            font-size:  10pt;\n",
              "        }#T_6bf7b004_783b_11ec_b087_0242ac1c0002row6_col5{\n",
              "            background-color:  #eabcc5;\n",
              "            color:  #000000;\n",
              "            max-width:  80px;\n",
              "            font-size:  10pt;\n",
              "        }#T_6bf7b004_783b_11ec_b087_0242ac1c0002row6_col8{\n",
              "            background-color:  #f2f1f1;\n",
              "            color:  #000000;\n",
              "            max-width:  80px;\n",
              "            font-size:  10pt;\n",
              "        }#T_6bf7b004_783b_11ec_b087_0242ac1c0002row6_col9{\n",
              "            background-color:  #e9b1bc;\n",
              "            color:  #000000;\n",
              "            max-width:  80px;\n",
              "            font-size:  10pt;\n",
              "        }#T_6bf7b004_783b_11ec_b087_0242ac1c0002row6_col11{\n",
              "            background-color:  #eab7c1;\n",
              "            color:  #000000;\n",
              "            max-width:  80px;\n",
              "            font-size:  10pt;\n",
              "        }#T_6bf7b004_783b_11ec_b087_0242ac1c0002row6_col12{\n",
              "            background-color:  #e59aa9;\n",
              "            color:  #000000;\n",
              "            max-width:  80px;\n",
              "            font-size:  10pt;\n",
              "        }#T_6bf7b004_783b_11ec_b087_0242ac1c0002row7_col1{\n",
              "            background-color:  #df6d84;\n",
              "            color:  #000000;\n",
              "            max-width:  80px;\n",
              "            font-size:  10pt;\n",
              "        }#T_6bf7b004_783b_11ec_b087_0242ac1c0002row7_col2,#T_6bf7b004_783b_11ec_b087_0242ac1c0002row10_col11,#T_6bf7b004_783b_11ec_b087_0242ac1c0002row12_col7{\n",
              "            background-color:  #e28194;\n",
              "            color:  #000000;\n",
              "            max-width:  80px;\n",
              "            font-size:  10pt;\n",
              "        }#T_6bf7b004_783b_11ec_b087_0242ac1c0002row7_col3,#T_6bf7b004_783b_11ec_b087_0242ac1c0002row7_col4,#T_6bf7b004_783b_11ec_b087_0242ac1c0002row8_col7{\n",
              "            background-color:  #dc5973;\n",
              "            color:  #000000;\n",
              "            max-width:  80px;\n",
              "            font-size:  10pt;\n",
              "        }#T_6bf7b004_783b_11ec_b087_0242ac1c0002row7_col6{\n",
              "            background-color:  #e17c90;\n",
              "            color:  #000000;\n",
              "            max-width:  80px;\n",
              "            font-size:  10pt;\n",
              "        }#T_6bf7b004_783b_11ec_b087_0242ac1c0002row7_col8{\n",
              "            background-color:  #e17d91;\n",
              "            color:  #000000;\n",
              "            max-width:  80px;\n",
              "            font-size:  10pt;\n",
              "        }#T_6bf7b004_783b_11ec_b087_0242ac1c0002row7_col9{\n",
              "            background-color:  #e28396;\n",
              "            color:  #000000;\n",
              "            max-width:  80px;\n",
              "            font-size:  10pt;\n",
              "        }#T_6bf7b004_783b_11ec_b087_0242ac1c0002row7_col10,#T_6bf7b004_783b_11ec_b087_0242ac1c0002row8_col0,#T_6bf7b004_783b_11ec_b087_0242ac1c0002row8_col5{\n",
              "            background-color:  #e17e92;\n",
              "            color:  #000000;\n",
              "            max-width:  80px;\n",
              "            font-size:  10pt;\n",
              "        }#T_6bf7b004_783b_11ec_b087_0242ac1c0002row7_col11{\n",
              "            background-color:  #da4b68;\n",
              "            color:  #000000;\n",
              "            max-width:  80px;\n",
              "            font-size:  10pt;\n",
              "        }#T_6bf7b004_783b_11ec_b087_0242ac1c0002row8_col1{\n",
              "            background-color:  #e07389;\n",
              "            color:  #000000;\n",
              "            max-width:  80px;\n",
              "            font-size:  10pt;\n",
              "        }#T_6bf7b004_783b_11ec_b087_0242ac1c0002row8_col2{\n",
              "            background-color:  #da506b;\n",
              "            color:  #000000;\n",
              "            max-width:  80px;\n",
              "            font-size:  10pt;\n",
              "        }#T_6bf7b004_783b_11ec_b087_0242ac1c0002row8_col9{\n",
              "            background-color:  #de6980;\n",
              "            color:  #000000;\n",
              "            max-width:  80px;\n",
              "            font-size:  10pt;\n",
              "        }#T_6bf7b004_783b_11ec_b087_0242ac1c0002row8_col11{\n",
              "            background-color:  #db5771;\n",
              "            color:  #000000;\n",
              "            max-width:  80px;\n",
              "            font-size:  10pt;\n",
              "        }#T_6bf7b004_783b_11ec_b087_0242ac1c0002row8_col12{\n",
              "            background-color:  #dd657d;\n",
              "            color:  #000000;\n",
              "            max-width:  80px;\n",
              "            font-size:  10pt;\n",
              "        }#T_6bf7b004_783b_11ec_b087_0242ac1c0002row9_col2{\n",
              "            background-color:  #df7086;\n",
              "            color:  #000000;\n",
              "            max-width:  80px;\n",
              "            font-size:  10pt;\n",
              "        }#T_6bf7b004_783b_11ec_b087_0242ac1c0002row9_col4{\n",
              "            background-color:  #eab9c3;\n",
              "            color:  #000000;\n",
              "            max-width:  80px;\n",
              "            font-size:  10pt;\n",
              "        }#T_6bf7b004_783b_11ec_b087_0242ac1c0002row9_col5,#T_6bf7b004_783b_11ec_b087_0242ac1c0002row12_col10{\n",
              "            background-color:  #ebc2ca;\n",
              "            color:  #000000;\n",
              "            max-width:  80px;\n",
              "            font-size:  10pt;\n",
              "        }#T_6bf7b004_783b_11ec_b087_0242ac1c0002row9_col6{\n",
              "            background-color:  #e48fa0;\n",
              "            color:  #000000;\n",
              "            max-width:  80px;\n",
              "            font-size:  10pt;\n",
              "        }#T_6bf7b004_783b_11ec_b087_0242ac1c0002row9_col7{\n",
              "            background-color:  #e0778c;\n",
              "            color:  #000000;\n",
              "            max-width:  80px;\n",
              "            font-size:  10pt;\n",
              "        }#T_6bf7b004_783b_11ec_b087_0242ac1c0002row9_col8{\n",
              "            background-color:  #e18093;\n",
              "            color:  #000000;\n",
              "            max-width:  80px;\n",
              "            font-size:  10pt;\n",
              "        }#T_6bf7b004_783b_11ec_b087_0242ac1c0002row9_col11{\n",
              "            background-color:  #edd0d6;\n",
              "            color:  #000000;\n",
              "            max-width:  80px;\n",
              "            font-size:  10pt;\n",
              "        }#T_6bf7b004_783b_11ec_b087_0242ac1c0002row10_col0{\n",
              "            background-color:  #82a4cf;\n",
              "            color:  #000000;\n",
              "            max-width:  80px;\n",
              "            font-size:  10pt;\n",
              "        }#T_6bf7b004_783b_11ec_b087_0242ac1c0002row10_col2{\n",
              "            background-color:  #ecc5cc;\n",
              "            color:  #000000;\n",
              "            max-width:  80px;\n",
              "            font-size:  10pt;\n",
              "        }#T_6bf7b004_783b_11ec_b087_0242ac1c0002row10_col6{\n",
              "            background-color:  #df6f85;\n",
              "            color:  #000000;\n",
              "            max-width:  80px;\n",
              "            font-size:  10pt;\n",
              "        }#T_6bf7b004_783b_11ec_b087_0242ac1c0002row10_col7,#T_6bf7b004_783b_11ec_b087_0242ac1c0002row11_col7,#T_6bf7b004_783b_11ec_b087_0242ac1c0002row12_col8{\n",
              "            background-color:  #ebbfc8;\n",
              "            color:  #000000;\n",
              "            max-width:  80px;\n",
              "            font-size:  10pt;\n",
              "        }#T_6bf7b004_783b_11ec_b087_0242ac1c0002row10_col9{\n",
              "            background-color:  #ecc3cb;\n",
              "            color:  #000000;\n",
              "            max-width:  80px;\n",
              "            font-size:  10pt;\n",
              "        }#T_6bf7b004_783b_11ec_b087_0242ac1c0002row10_col12,#T_6bf7b004_783b_11ec_b087_0242ac1c0002row12_col2{\n",
              "            background-color:  #ecc8cf;\n",
              "            color:  #000000;\n",
              "            max-width:  80px;\n",
              "            font-size:  10pt;\n",
              "        }#T_6bf7b004_783b_11ec_b087_0242ac1c0002row11_col1{\n",
              "            background-color:  #a7bedb;\n",
              "            color:  #000000;\n",
              "            max-width:  80px;\n",
              "            font-size:  10pt;\n",
              "        }#T_6bf7b004_783b_11ec_b087_0242ac1c0002row11_col2{\n",
              "            background-color:  #f2eeef;\n",
              "            color:  #000000;\n",
              "            max-width:  80px;\n",
              "            font-size:  10pt;\n",
              "        }#T_6bf7b004_783b_11ec_b087_0242ac1c0002row11_col3{\n",
              "            background-color:  #c1d0e3;\n",
              "            color:  #000000;\n",
              "            max-width:  80px;\n",
              "            font-size:  10pt;\n",
              "        }#T_6bf7b004_783b_11ec_b087_0242ac1c0002row11_col4{\n",
              "            background-color:  #86a7d0;\n",
              "            color:  #000000;\n",
              "            max-width:  80px;\n",
              "            font-size:  10pt;\n",
              "        }#T_6bf7b004_783b_11ec_b087_0242ac1c0002row11_col5{\n",
              "            background-color:  #b0c4dd;\n",
              "            color:  #000000;\n",
              "            max-width:  80px;\n",
              "            font-size:  10pt;\n",
              "        }#T_6bf7b004_783b_11ec_b087_0242ac1c0002row11_col6{\n",
              "            background-color:  #ebedf1;\n",
              "            color:  #000000;\n",
              "            max-width:  80px;\n",
              "            font-size:  10pt;\n",
              "        }#T_6bf7b004_783b_11ec_b087_0242ac1c0002row11_col9,#T_6bf7b004_783b_11ec_b087_0242ac1c0002row12_col3{\n",
              "            background-color:  #c8d5e5;\n",
              "            color:  #000000;\n",
              "            max-width:  80px;\n",
              "            font-size:  10pt;\n",
              "        }#T_6bf7b004_783b_11ec_b087_0242ac1c0002row11_col10{\n",
              "            background-color:  #e9afbb;\n",
              "            color:  #000000;\n",
              "            max-width:  80px;\n",
              "            font-size:  10pt;\n",
              "        }#T_6bf7b004_783b_11ec_b087_0242ac1c0002row11_col12{\n",
              "            background-color:  #6e96c8;\n",
              "            color:  #000000;\n",
              "            max-width:  80px;\n",
              "            font-size:  10pt;\n",
              "        }#T_6bf7b004_783b_11ec_b087_0242ac1c0002row12_col1,#T_6bf7b004_783b_11ec_b087_0242ac1c0002row12_col5{\n",
              "            background-color:  #aac0dc;\n",
              "            color:  #000000;\n",
              "            max-width:  80px;\n",
              "            font-size:  10pt;\n",
              "        }#T_6bf7b004_783b_11ec_b087_0242ac1c0002row12_col4{\n",
              "            background-color:  #adc2dd;\n",
              "            color:  #000000;\n",
              "            max-width:  80px;\n",
              "            font-size:  10pt;\n",
              "        }#T_6bf7b004_783b_11ec_b087_0242ac1c0002row12_col11{\n",
              "            background-color:  #779dcb;\n",
              "            color:  #000000;\n",
              "            max-width:  80px;\n",
              "            font-size:  10pt;\n",
              "        }</style><table id=\"T_6bf7b004_783b_11ec_b087_0242ac1c0002\" class=\"dataframe\"><caption>Hover to magify</caption><thead>    <tr>        <th class=\"blank level0\" ></th>        <th class=\"col_heading level0 col0\" >rank</th>        <th class=\"col_heading level0 col1\" >rating</th>        <th class=\"col_heading level0 col2\" >price</th>        <th class=\"col_heading level0 col3\" >number_reviews</th>        <th class=\"col_heading level0 col4\" >id_group</th>        <th class=\"col_heading level0 col5\" >number_of_cuisines</th>        <th class=\"col_heading level0 col6\" >mean_rating_in_city</th>        <th class=\"col_heading level0 col7\" >date_delta</th>        <th class=\"col_heading level0 col8\" >median_number_of_reviews</th>        <th class=\"col_heading level0 col9\" >sentiment_polarity</th>        <th class=\"col_heading level0 col10\" >number_of_restaurants</th>        <th class=\"col_heading level0 col11\" >delta_ranking</th>        <th class=\"col_heading level0 col12\" >delta_ranking_index</th>    </tr></thead><tbody>\n",
              "                <tr>\n",
              "                        <th id=\"T_6bf7b004_783b_11ec_b087_0242ac1c0002level0_row0\" class=\"row_heading level0 row0\" >rank</th>\n",
              "                        <td id=\"T_6bf7b004_783b_11ec_b087_0242ac1c0002row0_col0\" class=\"data row0 col0\" >1.00</td>\n",
              "                        <td id=\"T_6bf7b004_783b_11ec_b087_0242ac1c0002row0_col1\" class=\"data row0 col1\" >-0.37</td>\n",
              "                        <td id=\"T_6bf7b004_783b_11ec_b087_0242ac1c0002row0_col2\" class=\"data row0 col2\" >-0.03</td>\n",
              "                        <td id=\"T_6bf7b004_783b_11ec_b087_0242ac1c0002row0_col3\" class=\"data row0 col3\" >-0.22</td>\n",
              "                        <td id=\"T_6bf7b004_783b_11ec_b087_0242ac1c0002row0_col4\" class=\"data row0 col4\" >-0.76</td>\n",
              "                        <td id=\"T_6bf7b004_783b_11ec_b087_0242ac1c0002row0_col5\" class=\"data row0 col5\" >-0.32</td>\n",
              "                        <td id=\"T_6bf7b004_783b_11ec_b087_0242ac1c0002row0_col6\" class=\"data row0 col6\" >-0.25</td>\n",
              "                        <td id=\"T_6bf7b004_783b_11ec_b087_0242ac1c0002row0_col7\" class=\"data row0 col7\" >0.14</td>\n",
              "                        <td id=\"T_6bf7b004_783b_11ec_b087_0242ac1c0002row0_col8\" class=\"data row0 col8\" >0.09</td>\n",
              "                        <td id=\"T_6bf7b004_783b_11ec_b087_0242ac1c0002row0_col9\" class=\"data row0 col9\" >-0.21</td>\n",
              "                        <td id=\"T_6bf7b004_783b_11ec_b087_0242ac1c0002row0_col10\" class=\"data row0 col10\" >0.71</td>\n",
              "                        <td id=\"T_6bf7b004_783b_11ec_b087_0242ac1c0002row0_col11\" class=\"data row0 col11\" >-0.88</td>\n",
              "                        <td id=\"T_6bf7b004_783b_11ec_b087_0242ac1c0002row0_col12\" class=\"data row0 col12\" >-0.55</td>\n",
              "            </tr>\n",
              "            <tr>\n",
              "                        <th id=\"T_6bf7b004_783b_11ec_b087_0242ac1c0002level0_row1\" class=\"row_heading level0 row1\" >rating</th>\n",
              "                        <td id=\"T_6bf7b004_783b_11ec_b087_0242ac1c0002row1_col0\" class=\"data row1 col0\" >-0.37</td>\n",
              "                        <td id=\"T_6bf7b004_783b_11ec_b087_0242ac1c0002row1_col1\" class=\"data row1 col1\" >1.00</td>\n",
              "                        <td id=\"T_6bf7b004_783b_11ec_b087_0242ac1c0002row1_col2\" class=\"data row1 col2\" >-0.03</td>\n",
              "                        <td id=\"T_6bf7b004_783b_11ec_b087_0242ac1c0002row1_col3\" class=\"data row1 col3\" >0.03</td>\n",
              "                        <td id=\"T_6bf7b004_783b_11ec_b087_0242ac1c0002row1_col4\" class=\"data row1 col4\" >0.29</td>\n",
              "                        <td id=\"T_6bf7b004_783b_11ec_b087_0242ac1c0002row1_col5\" class=\"data row1 col5\" >0.12</td>\n",
              "                        <td id=\"T_6bf7b004_783b_11ec_b087_0242ac1c0002row1_col6\" class=\"data row1 col6\" >0.17</td>\n",
              "                        <td id=\"T_6bf7b004_783b_11ec_b087_0242ac1c0002row1_col7\" class=\"data row1 col7\" >-0.08</td>\n",
              "                        <td id=\"T_6bf7b004_783b_11ec_b087_0242ac1c0002row1_col8\" class=\"data row1 col8\" >0.05</td>\n",
              "                        <td id=\"T_6bf7b004_783b_11ec_b087_0242ac1c0002row1_col9\" class=\"data row1 col9\" >0.27</td>\n",
              "                        <td id=\"T_6bf7b004_783b_11ec_b087_0242ac1c0002row1_col10\" class=\"data row1 col10\" >-0.06</td>\n",
              "                        <td id=\"T_6bf7b004_783b_11ec_b087_0242ac1c0002row1_col11\" class=\"data row1 col11\" >0.46</td>\n",
              "                        <td id=\"T_6bf7b004_783b_11ec_b087_0242ac1c0002row1_col12\" class=\"data row1 col12\" >0.54</td>\n",
              "            </tr>\n",
              "            <tr>\n",
              "                        <th id=\"T_6bf7b004_783b_11ec_b087_0242ac1c0002level0_row2\" class=\"row_heading level0 row2\" >price</th>\n",
              "                        <td id=\"T_6bf7b004_783b_11ec_b087_0242ac1c0002row2_col0\" class=\"data row2 col0\" >-0.03</td>\n",
              "                        <td id=\"T_6bf7b004_783b_11ec_b087_0242ac1c0002row2_col1\" class=\"data row2 col1\" >-0.03</td>\n",
              "                        <td id=\"T_6bf7b004_783b_11ec_b087_0242ac1c0002row2_col2\" class=\"data row2 col2\" >1.00</td>\n",
              "                        <td id=\"T_6bf7b004_783b_11ec_b087_0242ac1c0002row2_col3\" class=\"data row2 col3\" >0.11</td>\n",
              "                        <td id=\"T_6bf7b004_783b_11ec_b087_0242ac1c0002row2_col4\" class=\"data row2 col4\" >0.04</td>\n",
              "                        <td id=\"T_6bf7b004_783b_11ec_b087_0242ac1c0002row2_col5\" class=\"data row2 col5\" >0.00</td>\n",
              "                        <td id=\"T_6bf7b004_783b_11ec_b087_0242ac1c0002row2_col6\" class=\"data row2 col6\" >-0.07</td>\n",
              "                        <td id=\"T_6bf7b004_783b_11ec_b087_0242ac1c0002row2_col7\" class=\"data row2 col7\" >-0.01</td>\n",
              "                        <td id=\"T_6bf7b004_783b_11ec_b087_0242ac1c0002row2_col8\" class=\"data row2 col8\" >-0.05</td>\n",
              "                        <td id=\"T_6bf7b004_783b_11ec_b087_0242ac1c0002row2_col9\" class=\"data row2 col9\" >-0.03</td>\n",
              "                        <td id=\"T_6bf7b004_783b_11ec_b087_0242ac1c0002row2_col10\" class=\"data row2 col10\" >0.01</td>\n",
              "                        <td id=\"T_6bf7b004_783b_11ec_b087_0242ac1c0002row2_col11\" class=\"data row2 col11\" >0.04</td>\n",
              "                        <td id=\"T_6bf7b004_783b_11ec_b087_0242ac1c0002row2_col12\" class=\"data row2 col12\" >0.05</td>\n",
              "            </tr>\n",
              "            <tr>\n",
              "                        <th id=\"T_6bf7b004_783b_11ec_b087_0242ac1c0002level0_row3\" class=\"row_heading level0 row3\" >number_reviews</th>\n",
              "                        <td id=\"T_6bf7b004_783b_11ec_b087_0242ac1c0002row3_col0\" class=\"data row3 col0\" >-0.22</td>\n",
              "                        <td id=\"T_6bf7b004_783b_11ec_b087_0242ac1c0002row3_col1\" class=\"data row3 col1\" >0.03</td>\n",
              "                        <td id=\"T_6bf7b004_783b_11ec_b087_0242ac1c0002row3_col2\" class=\"data row3 col2\" >0.11</td>\n",
              "                        <td id=\"T_6bf7b004_783b_11ec_b087_0242ac1c0002row3_col3\" class=\"data row3 col3\" >1.00</td>\n",
              "                        <td id=\"T_6bf7b004_783b_11ec_b087_0242ac1c0002row3_col4\" class=\"data row3 col4\" >0.25</td>\n",
              "                        <td id=\"T_6bf7b004_783b_11ec_b087_0242ac1c0002row3_col5\" class=\"data row3 col5\" >0.41</td>\n",
              "                        <td id=\"T_6bf7b004_783b_11ec_b087_0242ac1c0002row3_col6\" class=\"data row3 col6\" >0.05</td>\n",
              "                        <td id=\"T_6bf7b004_783b_11ec_b087_0242ac1c0002row3_col7\" class=\"data row3 col7\" >-0.15</td>\n",
              "                        <td id=\"T_6bf7b004_783b_11ec_b087_0242ac1c0002row3_col8\" class=\"data row3 col8\" >0.16</td>\n",
              "                        <td id=\"T_6bf7b004_783b_11ec_b087_0242ac1c0002row3_col9\" class=\"data row3 col9\" >0.14</td>\n",
              "                        <td id=\"T_6bf7b004_783b_11ec_b087_0242ac1c0002row3_col10\" class=\"data row3 col10\" >0.03</td>\n",
              "                        <td id=\"T_6bf7b004_783b_11ec_b087_0242ac1c0002row3_col11\" class=\"data row3 col11\" >0.32</td>\n",
              "                        <td id=\"T_6bf7b004_783b_11ec_b087_0242ac1c0002row3_col12\" class=\"data row3 col12\" >0.41</td>\n",
              "            </tr>\n",
              "            <tr>\n",
              "                        <th id=\"T_6bf7b004_783b_11ec_b087_0242ac1c0002level0_row4\" class=\"row_heading level0 row4\" >id_group</th>\n",
              "                        <td id=\"T_6bf7b004_783b_11ec_b087_0242ac1c0002row4_col0\" class=\"data row4 col0\" >-0.76</td>\n",
              "                        <td id=\"T_6bf7b004_783b_11ec_b087_0242ac1c0002row4_col1\" class=\"data row4 col1\" >0.29</td>\n",
              "                        <td id=\"T_6bf7b004_783b_11ec_b087_0242ac1c0002row4_col2\" class=\"data row4 col2\" >0.04</td>\n",
              "                        <td id=\"T_6bf7b004_783b_11ec_b087_0242ac1c0002row4_col3\" class=\"data row4 col3\" >0.25</td>\n",
              "                        <td id=\"T_6bf7b004_783b_11ec_b087_0242ac1c0002row4_col4\" class=\"data row4 col4\" >1.00</td>\n",
              "                        <td id=\"T_6bf7b004_783b_11ec_b087_0242ac1c0002row4_col5\" class=\"data row4 col5\" >0.35</td>\n",
              "                        <td id=\"T_6bf7b004_783b_11ec_b087_0242ac1c0002row4_col6\" class=\"data row4 col6\" >0.23</td>\n",
              "                        <td id=\"T_6bf7b004_783b_11ec_b087_0242ac1c0002row4_col7\" class=\"data row4 col7\" >-0.15</td>\n",
              "                        <td id=\"T_6bf7b004_783b_11ec_b087_0242ac1c0002row4_col8\" class=\"data row4 col8\" >-0.12</td>\n",
              "                        <td id=\"T_6bf7b004_783b_11ec_b087_0242ac1c0002row4_col9\" class=\"data row4 col9\" >0.21</td>\n",
              "                        <td id=\"T_6bf7b004_783b_11ec_b087_0242ac1c0002row4_col10\" class=\"data row4 col10\" >-0.59</td>\n",
              "                        <td id=\"T_6bf7b004_783b_11ec_b087_0242ac1c0002row4_col11\" class=\"data row4 col11\" >0.63</td>\n",
              "                        <td id=\"T_6bf7b004_783b_11ec_b087_0242ac1c0002row4_col12\" class=\"data row4 col12\" >0.53</td>\n",
              "            </tr>\n",
              "            <tr>\n",
              "                        <th id=\"T_6bf7b004_783b_11ec_b087_0242ac1c0002level0_row5\" class=\"row_heading level0 row5\" >number_of_cuisines</th>\n",
              "                        <td id=\"T_6bf7b004_783b_11ec_b087_0242ac1c0002row5_col0\" class=\"data row5 col0\" >-0.32</td>\n",
              "                        <td id=\"T_6bf7b004_783b_11ec_b087_0242ac1c0002row5_col1\" class=\"data row5 col1\" >0.12</td>\n",
              "                        <td id=\"T_6bf7b004_783b_11ec_b087_0242ac1c0002row5_col2\" class=\"data row5 col2\" >0.00</td>\n",
              "                        <td id=\"T_6bf7b004_783b_11ec_b087_0242ac1c0002row5_col3\" class=\"data row5 col3\" >0.41</td>\n",
              "                        <td id=\"T_6bf7b004_783b_11ec_b087_0242ac1c0002row5_col4\" class=\"data row5 col4\" >0.35</td>\n",
              "                        <td id=\"T_6bf7b004_783b_11ec_b087_0242ac1c0002row5_col5\" class=\"data row5 col5\" >1.00</td>\n",
              "                        <td id=\"T_6bf7b004_783b_11ec_b087_0242ac1c0002row5_col6\" class=\"data row5 col6\" >0.12</td>\n",
              "                        <td id=\"T_6bf7b004_783b_11ec_b087_0242ac1c0002row5_col7\" class=\"data row5 col7\" >-0.25</td>\n",
              "                        <td id=\"T_6bf7b004_783b_11ec_b087_0242ac1c0002row5_col8\" class=\"data row5 col8\" >0.09</td>\n",
              "                        <td id=\"T_6bf7b004_783b_11ec_b087_0242ac1c0002row5_col9\" class=\"data row5 col9\" >0.24</td>\n",
              "                        <td id=\"T_6bf7b004_783b_11ec_b087_0242ac1c0002row5_col10\" class=\"data row5 col10\" >-0.02</td>\n",
              "                        <td id=\"T_6bf7b004_783b_11ec_b087_0242ac1c0002row5_col11\" class=\"data row5 col11\" >0.42</td>\n",
              "                        <td id=\"T_6bf7b004_783b_11ec_b087_0242ac1c0002row5_col12\" class=\"data row5 col12\" >0.54</td>\n",
              "            </tr>\n",
              "            <tr>\n",
              "                        <th id=\"T_6bf7b004_783b_11ec_b087_0242ac1c0002level0_row6\" class=\"row_heading level0 row6\" >mean_rating_in_city</th>\n",
              "                        <td id=\"T_6bf7b004_783b_11ec_b087_0242ac1c0002row6_col0\" class=\"data row6 col0\" >-0.25</td>\n",
              "                        <td id=\"T_6bf7b004_783b_11ec_b087_0242ac1c0002row6_col1\" class=\"data row6 col1\" >0.17</td>\n",
              "                        <td id=\"T_6bf7b004_783b_11ec_b087_0242ac1c0002row6_col2\" class=\"data row6 col2\" >-0.07</td>\n",
              "                        <td id=\"T_6bf7b004_783b_11ec_b087_0242ac1c0002row6_col3\" class=\"data row6 col3\" >0.05</td>\n",
              "                        <td id=\"T_6bf7b004_783b_11ec_b087_0242ac1c0002row6_col4\" class=\"data row6 col4\" >0.23</td>\n",
              "                        <td id=\"T_6bf7b004_783b_11ec_b087_0242ac1c0002row6_col5\" class=\"data row6 col5\" >0.12</td>\n",
              "                        <td id=\"T_6bf7b004_783b_11ec_b087_0242ac1c0002row6_col6\" class=\"data row6 col6\" >1.00</td>\n",
              "                        <td id=\"T_6bf7b004_783b_11ec_b087_0242ac1c0002row6_col7\" class=\"data row6 col7\" >-0.03</td>\n",
              "                        <td id=\"T_6bf7b004_783b_11ec_b087_0242ac1c0002row6_col8\" class=\"data row6 col8\" >0.32</td>\n",
              "                        <td id=\"T_6bf7b004_783b_11ec_b087_0242ac1c0002row6_col9\" class=\"data row6 col9\" >0.07</td>\n",
              "                        <td id=\"T_6bf7b004_783b_11ec_b087_0242ac1c0002row6_col10\" class=\"data row6 col10\" >-0.36</td>\n",
              "                        <td id=\"T_6bf7b004_783b_11ec_b087_0242ac1c0002row6_col11\" class=\"data row6 col11\" >0.10</td>\n",
              "                        <td id=\"T_6bf7b004_783b_11ec_b087_0242ac1c0002row6_col12\" class=\"data row6 col12\" >-0.01</td>\n",
              "            </tr>\n",
              "            <tr>\n",
              "                        <th id=\"T_6bf7b004_783b_11ec_b087_0242ac1c0002level0_row7\" class=\"row_heading level0 row7\" >date_delta</th>\n",
              "                        <td id=\"T_6bf7b004_783b_11ec_b087_0242ac1c0002row7_col0\" class=\"data row7 col0\" >0.14</td>\n",
              "                        <td id=\"T_6bf7b004_783b_11ec_b087_0242ac1c0002row7_col1\" class=\"data row7 col1\" >-0.08</td>\n",
              "                        <td id=\"T_6bf7b004_783b_11ec_b087_0242ac1c0002row7_col2\" class=\"data row7 col2\" >-0.01</td>\n",
              "                        <td id=\"T_6bf7b004_783b_11ec_b087_0242ac1c0002row7_col3\" class=\"data row7 col3\" >-0.15</td>\n",
              "                        <td id=\"T_6bf7b004_783b_11ec_b087_0242ac1c0002row7_col4\" class=\"data row7 col4\" >-0.15</td>\n",
              "                        <td id=\"T_6bf7b004_783b_11ec_b087_0242ac1c0002row7_col5\" class=\"data row7 col5\" >-0.25</td>\n",
              "                        <td id=\"T_6bf7b004_783b_11ec_b087_0242ac1c0002row7_col6\" class=\"data row7 col6\" >-0.03</td>\n",
              "                        <td id=\"T_6bf7b004_783b_11ec_b087_0242ac1c0002row7_col7\" class=\"data row7 col7\" >1.00</td>\n",
              "                        <td id=\"T_6bf7b004_783b_11ec_b087_0242ac1c0002row7_col8\" class=\"data row7 col8\" >-0.03</td>\n",
              "                        <td id=\"T_6bf7b004_783b_11ec_b087_0242ac1c0002row7_col9\" class=\"data row7 col9\" >-0.01</td>\n",
              "                        <td id=\"T_6bf7b004_783b_11ec_b087_0242ac1c0002row7_col10\" class=\"data row7 col10\" >-0.02</td>\n",
              "                        <td id=\"T_6bf7b004_783b_11ec_b087_0242ac1c0002row7_col11\" class=\"data row7 col11\" >-0.20</td>\n",
              "                        <td id=\"T_6bf7b004_783b_11ec_b087_0242ac1c0002row7_col12\" class=\"data row7 col12\" >-0.25</td>\n",
              "            </tr>\n",
              "            <tr>\n",
              "                        <th id=\"T_6bf7b004_783b_11ec_b087_0242ac1c0002level0_row8\" class=\"row_heading level0 row8\" >median_number_of_reviews</th>\n",
              "                        <td id=\"T_6bf7b004_783b_11ec_b087_0242ac1c0002row8_col0\" class=\"data row8 col0\" >0.09</td>\n",
              "                        <td id=\"T_6bf7b004_783b_11ec_b087_0242ac1c0002row8_col1\" class=\"data row8 col1\" >0.05</td>\n",
              "                        <td id=\"T_6bf7b004_783b_11ec_b087_0242ac1c0002row8_col2\" class=\"data row8 col2\" >-0.05</td>\n",
              "                        <td id=\"T_6bf7b004_783b_11ec_b087_0242ac1c0002row8_col3\" class=\"data row8 col3\" >0.16</td>\n",
              "                        <td id=\"T_6bf7b004_783b_11ec_b087_0242ac1c0002row8_col4\" class=\"data row8 col4\" >-0.12</td>\n",
              "                        <td id=\"T_6bf7b004_783b_11ec_b087_0242ac1c0002row8_col5\" class=\"data row8 col5\" >0.09</td>\n",
              "                        <td id=\"T_6bf7b004_783b_11ec_b087_0242ac1c0002row8_col6\" class=\"data row8 col6\" >0.32</td>\n",
              "                        <td id=\"T_6bf7b004_783b_11ec_b087_0242ac1c0002row8_col7\" class=\"data row8 col7\" >-0.03</td>\n",
              "                        <td id=\"T_6bf7b004_783b_11ec_b087_0242ac1c0002row8_col8\" class=\"data row8 col8\" >1.00</td>\n",
              "                        <td id=\"T_6bf7b004_783b_11ec_b087_0242ac1c0002row8_col9\" class=\"data row8 col9\" >0.02</td>\n",
              "                        <td id=\"T_6bf7b004_783b_11ec_b087_0242ac1c0002row8_col10\" class=\"data row8 col10\" >0.13</td>\n",
              "                        <td id=\"T_6bf7b004_783b_11ec_b087_0242ac1c0002row8_col11\" class=\"data row8 col11\" >-0.03</td>\n",
              "                        <td id=\"T_6bf7b004_783b_11ec_b087_0242ac1c0002row8_col12\" class=\"data row8 col12\" >0.01</td>\n",
              "            </tr>\n",
              "            <tr>\n",
              "                        <th id=\"T_6bf7b004_783b_11ec_b087_0242ac1c0002level0_row9\" class=\"row_heading level0 row9\" >sentiment_polarity</th>\n",
              "                        <td id=\"T_6bf7b004_783b_11ec_b087_0242ac1c0002row9_col0\" class=\"data row9 col0\" >-0.21</td>\n",
              "                        <td id=\"T_6bf7b004_783b_11ec_b087_0242ac1c0002row9_col1\" class=\"data row9 col1\" >0.27</td>\n",
              "                        <td id=\"T_6bf7b004_783b_11ec_b087_0242ac1c0002row9_col2\" class=\"data row9 col2\" >-0.03</td>\n",
              "                        <td id=\"T_6bf7b004_783b_11ec_b087_0242ac1c0002row9_col3\" class=\"data row9 col3\" >0.14</td>\n",
              "                        <td id=\"T_6bf7b004_783b_11ec_b087_0242ac1c0002row9_col4\" class=\"data row9 col4\" >0.21</td>\n",
              "                        <td id=\"T_6bf7b004_783b_11ec_b087_0242ac1c0002row9_col5\" class=\"data row9 col5\" >0.24</td>\n",
              "                        <td id=\"T_6bf7b004_783b_11ec_b087_0242ac1c0002row9_col6\" class=\"data row9 col6\" >0.07</td>\n",
              "                        <td id=\"T_6bf7b004_783b_11ec_b087_0242ac1c0002row9_col7\" class=\"data row9 col7\" >-0.01</td>\n",
              "                        <td id=\"T_6bf7b004_783b_11ec_b087_0242ac1c0002row9_col8\" class=\"data row9 col8\" >0.02</td>\n",
              "                        <td id=\"T_6bf7b004_783b_11ec_b087_0242ac1c0002row9_col9\" class=\"data row9 col9\" >1.00</td>\n",
              "                        <td id=\"T_6bf7b004_783b_11ec_b087_0242ac1c0002row9_col10\" class=\"data row9 col10\" >0.00</td>\n",
              "                        <td id=\"T_6bf7b004_783b_11ec_b087_0242ac1c0002row9_col11\" class=\"data row9 col11\" >0.29</td>\n",
              "                        <td id=\"T_6bf7b004_783b_11ec_b087_0242ac1c0002row9_col12\" class=\"data row9 col12\" >0.37</td>\n",
              "            </tr>\n",
              "            <tr>\n",
              "                        <th id=\"T_6bf7b004_783b_11ec_b087_0242ac1c0002level0_row10\" class=\"row_heading level0 row10\" >number_of_restaurants</th>\n",
              "                        <td id=\"T_6bf7b004_783b_11ec_b087_0242ac1c0002row10_col0\" class=\"data row10 col0\" >0.71</td>\n",
              "                        <td id=\"T_6bf7b004_783b_11ec_b087_0242ac1c0002row10_col1\" class=\"data row10 col1\" >-0.06</td>\n",
              "                        <td id=\"T_6bf7b004_783b_11ec_b087_0242ac1c0002row10_col2\" class=\"data row10 col2\" >0.01</td>\n",
              "                        <td id=\"T_6bf7b004_783b_11ec_b087_0242ac1c0002row10_col3\" class=\"data row10 col3\" >0.03</td>\n",
              "                        <td id=\"T_6bf7b004_783b_11ec_b087_0242ac1c0002row10_col4\" class=\"data row10 col4\" >-0.59</td>\n",
              "                        <td id=\"T_6bf7b004_783b_11ec_b087_0242ac1c0002row10_col5\" class=\"data row10 col5\" >-0.02</td>\n",
              "                        <td id=\"T_6bf7b004_783b_11ec_b087_0242ac1c0002row10_col6\" class=\"data row10 col6\" >-0.36</td>\n",
              "                        <td id=\"T_6bf7b004_783b_11ec_b087_0242ac1c0002row10_col7\" class=\"data row10 col7\" >-0.02</td>\n",
              "                        <td id=\"T_6bf7b004_783b_11ec_b087_0242ac1c0002row10_col8\" class=\"data row10 col8\" >0.13</td>\n",
              "                        <td id=\"T_6bf7b004_783b_11ec_b087_0242ac1c0002row10_col9\" class=\"data row10 col9\" >0.00</td>\n",
              "                        <td id=\"T_6bf7b004_783b_11ec_b087_0242ac1c0002row10_col10\" class=\"data row10 col10\" >1.00</td>\n",
              "                        <td id=\"T_6bf7b004_783b_11ec_b087_0242ac1c0002row10_col11\" class=\"data row10 col11\" >-0.28</td>\n",
              "                        <td id=\"T_6bf7b004_783b_11ec_b087_0242ac1c0002row10_col12\" class=\"data row10 col12\" >0.02</td>\n",
              "            </tr>\n",
              "            <tr>\n",
              "                        <th id=\"T_6bf7b004_783b_11ec_b087_0242ac1c0002level0_row11\" class=\"row_heading level0 row11\" >delta_ranking</th>\n",
              "                        <td id=\"T_6bf7b004_783b_11ec_b087_0242ac1c0002row11_col0\" class=\"data row11 col0\" >-0.88</td>\n",
              "                        <td id=\"T_6bf7b004_783b_11ec_b087_0242ac1c0002row11_col1\" class=\"data row11 col1\" >0.46</td>\n",
              "                        <td id=\"T_6bf7b004_783b_11ec_b087_0242ac1c0002row11_col2\" class=\"data row11 col2\" >0.04</td>\n",
              "                        <td id=\"T_6bf7b004_783b_11ec_b087_0242ac1c0002row11_col3\" class=\"data row11 col3\" >0.32</td>\n",
              "                        <td id=\"T_6bf7b004_783b_11ec_b087_0242ac1c0002row11_col4\" class=\"data row11 col4\" >0.63</td>\n",
              "                        <td id=\"T_6bf7b004_783b_11ec_b087_0242ac1c0002row11_col5\" class=\"data row11 col5\" >0.42</td>\n",
              "                        <td id=\"T_6bf7b004_783b_11ec_b087_0242ac1c0002row11_col6\" class=\"data row11 col6\" >0.10</td>\n",
              "                        <td id=\"T_6bf7b004_783b_11ec_b087_0242ac1c0002row11_col7\" class=\"data row11 col7\" >-0.20</td>\n",
              "                        <td id=\"T_6bf7b004_783b_11ec_b087_0242ac1c0002row11_col8\" class=\"data row11 col8\" >-0.03</td>\n",
              "                        <td id=\"T_6bf7b004_783b_11ec_b087_0242ac1c0002row11_col9\" class=\"data row11 col9\" >0.29</td>\n",
              "                        <td id=\"T_6bf7b004_783b_11ec_b087_0242ac1c0002row11_col10\" class=\"data row11 col10\" >-0.28</td>\n",
              "                        <td id=\"T_6bf7b004_783b_11ec_b087_0242ac1c0002row11_col11\" class=\"data row11 col11\" >1.00</td>\n",
              "                        <td id=\"T_6bf7b004_783b_11ec_b087_0242ac1c0002row11_col12\" class=\"data row11 col12\" >0.77</td>\n",
              "            </tr>\n",
              "            <tr>\n",
              "                        <th id=\"T_6bf7b004_783b_11ec_b087_0242ac1c0002level0_row12\" class=\"row_heading level0 row12\" >delta_ranking_index</th>\n",
              "                        <td id=\"T_6bf7b004_783b_11ec_b087_0242ac1c0002row12_col0\" class=\"data row12 col0\" >-0.55</td>\n",
              "                        <td id=\"T_6bf7b004_783b_11ec_b087_0242ac1c0002row12_col1\" class=\"data row12 col1\" >0.54</td>\n",
              "                        <td id=\"T_6bf7b004_783b_11ec_b087_0242ac1c0002row12_col2\" class=\"data row12 col2\" >0.05</td>\n",
              "                        <td id=\"T_6bf7b004_783b_11ec_b087_0242ac1c0002row12_col3\" class=\"data row12 col3\" >0.41</td>\n",
              "                        <td id=\"T_6bf7b004_783b_11ec_b087_0242ac1c0002row12_col4\" class=\"data row12 col4\" >0.53</td>\n",
              "                        <td id=\"T_6bf7b004_783b_11ec_b087_0242ac1c0002row12_col5\" class=\"data row12 col5\" >0.54</td>\n",
              "                        <td id=\"T_6bf7b004_783b_11ec_b087_0242ac1c0002row12_col6\" class=\"data row12 col6\" >-0.01</td>\n",
              "                        <td id=\"T_6bf7b004_783b_11ec_b087_0242ac1c0002row12_col7\" class=\"data row12 col7\" >-0.25</td>\n",
              "                        <td id=\"T_6bf7b004_783b_11ec_b087_0242ac1c0002row12_col8\" class=\"data row12 col8\" >0.01</td>\n",
              "                        <td id=\"T_6bf7b004_783b_11ec_b087_0242ac1c0002row12_col9\" class=\"data row12 col9\" >0.37</td>\n",
              "                        <td id=\"T_6bf7b004_783b_11ec_b087_0242ac1c0002row12_col10\" class=\"data row12 col10\" >0.02</td>\n",
              "                        <td id=\"T_6bf7b004_783b_11ec_b087_0242ac1c0002row12_col11\" class=\"data row12 col11\" >0.77</td>\n",
              "                        <td id=\"T_6bf7b004_783b_11ec_b087_0242ac1c0002row12_col12\" class=\"data row12 col12\" >1.00</td>\n",
              "            </tr>\n",
              "    </tbody></table>"
            ],
            "text/plain": [
              "<pandas.io.formats.style.Styler at 0x7efcf0aabd10>"
            ]
          },
          "metadata": {},
          "execution_count": 203
        }
      ]
    },
    {
      "cell_type": "code",
      "source": [
        "# удалим признаки  'Delta_ranking' поскольку у нас есть новый признак Delta Ranking Index\n",
        "df=df.drop(['delta_ranking'], axis = 1)"
      ],
      "metadata": {
        "id": "udLrIkCC4N-6"
      },
      "execution_count": null,
      "outputs": []
    },
    {
      "cell_type": "code",
      "source": [
        "corr = df.corr()\n",
        "cmap = sns.diverging_palette(5, 250, as_cmap=True)\n",
        "\n",
        "def magnify():\n",
        "    return [dict(selector=\"th\",\n",
        "                 props=[(\"font-size\", \"7pt\")]),\n",
        "            dict(selector=\"td\",\n",
        "                 props=[('padding', \"0em 0em\")]),\n",
        "            dict(selector=\"th:hover\",\n",
        "                 props=[(\"font-size\", \"12pt\")]),\n",
        "            dict(selector=\"tr:hover td:hover\",\n",
        "                 props=[('max-width', '200px'),\n",
        "                        ('font-size', '12pt')])\n",
        "]\n",
        "\n",
        "corr.style.background_gradient(cmap, axis=1)\\\n",
        "    .set_properties(**{'max-width': '80px', 'font-size': '10pt'})\\\n",
        "    .set_caption(\"Hover to magify\")\\\n",
        "    .set_precision(2)\\\n",
        "    .set_table_styles(magnify())"
      ],
      "metadata": {
        "colab": {
          "base_uri": "https://localhost:8080/",
          "height": 307
        },
        "id": "6d9no_014Xxe",
        "outputId": "691f6c43-3d48-466b-8fcb-bd691002ad54"
      },
      "execution_count": null,
      "outputs": [
        {
          "output_type": "execute_result",
          "data": {
            "text/html": [
              "<style  type=\"text/css\" >\n",
              "    #T_6c0991ca_783b_11ec_b087_0242ac1c0002 th {\n",
              "          font-size: 7pt;\n",
              "    }    #T_6c0991ca_783b_11ec_b087_0242ac1c0002 td {\n",
              "          padding: 0em 0em;\n",
              "    }    #T_6c0991ca_783b_11ec_b087_0242ac1c0002 th:hover {\n",
              "          font-size: 12pt;\n",
              "    }    #T_6c0991ca_783b_11ec_b087_0242ac1c0002 tr:hover td:hover {\n",
              "          max-width: 200px;\n",
              "          font-size: 12pt;\n",
              "    }#T_6c0991ca_783b_11ec_b087_0242ac1c0002row0_col0,#T_6c0991ca_783b_11ec_b087_0242ac1c0002row1_col1,#T_6c0991ca_783b_11ec_b087_0242ac1c0002row2_col2,#T_6c0991ca_783b_11ec_b087_0242ac1c0002row3_col3,#T_6c0991ca_783b_11ec_b087_0242ac1c0002row4_col4,#T_6c0991ca_783b_11ec_b087_0242ac1c0002row5_col5,#T_6c0991ca_783b_11ec_b087_0242ac1c0002row6_col6,#T_6c0991ca_783b_11ec_b087_0242ac1c0002row7_col7,#T_6c0991ca_783b_11ec_b087_0242ac1c0002row8_col8,#T_6c0991ca_783b_11ec_b087_0242ac1c0002row9_col9,#T_6c0991ca_783b_11ec_b087_0242ac1c0002row10_col10,#T_6c0991ca_783b_11ec_b087_0242ac1c0002row11_col11{\n",
              "            background-color:  #4479bb;\n",
              "            color:  #000000;\n",
              "            max-width:  80px;\n",
              "            font-size:  10pt;\n",
              "        }#T_6c0991ca_783b_11ec_b087_0242ac1c0002row0_col1,#T_6c0991ca_783b_11ec_b087_0242ac1c0002row1_col10,#T_6c0991ca_783b_11ec_b087_0242ac1c0002row3_col6,#T_6c0991ca_783b_11ec_b087_0242ac1c0002row5_col10{\n",
              "            background-color:  #e38d9e;\n",
              "            color:  #000000;\n",
              "            max-width:  80px;\n",
              "            font-size:  10pt;\n",
              "        }#T_6c0991ca_783b_11ec_b087_0242ac1c0002row0_col2{\n",
              "            background-color:  #eed3d8;\n",
              "            color:  #000000;\n",
              "            max-width:  80px;\n",
              "            font-size:  10pt;\n",
              "        }#T_6c0991ca_783b_11ec_b087_0242ac1c0002row0_col3,#T_6c0991ca_783b_11ec_b087_0242ac1c0002row1_col8{\n",
              "            background-color:  #e8abb7;\n",
              "            color:  #000000;\n",
              "            max-width:  80px;\n",
              "            font-size:  10pt;\n",
              "        }#T_6c0991ca_783b_11ec_b087_0242ac1c0002row0_col4,#T_6c0991ca_783b_11ec_b087_0242ac1c0002row1_col0,#T_6c0991ca_783b_11ec_b087_0242ac1c0002row2_col6,#T_6c0991ca_783b_11ec_b087_0242ac1c0002row3_col0,#T_6c0991ca_783b_11ec_b087_0242ac1c0002row4_col0,#T_6c0991ca_783b_11ec_b087_0242ac1c0002row5_col0,#T_6c0991ca_783b_11ec_b087_0242ac1c0002row6_col10,#T_6c0991ca_783b_11ec_b087_0242ac1c0002row7_col5,#T_6c0991ca_783b_11ec_b087_0242ac1c0002row7_col11,#T_6c0991ca_783b_11ec_b087_0242ac1c0002row8_col4,#T_6c0991ca_783b_11ec_b087_0242ac1c0002row9_col0,#T_6c0991ca_783b_11ec_b087_0242ac1c0002row10_col4,#T_6c0991ca_783b_11ec_b087_0242ac1c0002row11_col0{\n",
              "            background-color:  #d73c5b;\n",
              "            color:  #f1f1f1;\n",
              "            max-width:  80px;\n",
              "            font-size:  10pt;\n",
              "        }#T_6c0991ca_783b_11ec_b087_0242ac1c0002row0_col5{\n",
              "            background-color:  #e597a7;\n",
              "            color:  #000000;\n",
              "            max-width:  80px;\n",
              "            font-size:  10pt;\n",
              "        }#T_6c0991ca_783b_11ec_b087_0242ac1c0002row0_col6,#T_6c0991ca_783b_11ec_b087_0242ac1c0002row1_col3,#T_6c0991ca_783b_11ec_b087_0242ac1c0002row9_col3{\n",
              "            background-color:  #e7a4b1;\n",
              "            color:  #000000;\n",
              "            max-width:  80px;\n",
              "            font-size:  10pt;\n",
              "        }#T_6c0991ca_783b_11ec_b087_0242ac1c0002row0_col7{\n",
              "            background-color:  #eeeff2;\n",
              "            color:  #000000;\n",
              "            max-width:  80px;\n",
              "            font-size:  10pt;\n",
              "        }#T_6c0991ca_783b_11ec_b087_0242ac1c0002row0_col8{\n",
              "            background-color:  #f2ebec;\n",
              "            color:  #000000;\n",
              "            max-width:  80px;\n",
              "            font-size:  10pt;\n",
              "        }#T_6c0991ca_783b_11ec_b087_0242ac1c0002row0_col9,#T_6c0991ca_783b_11ec_b087_0242ac1c0002row3_col8{\n",
              "            background-color:  #e8aeba;\n",
              "            color:  #000000;\n",
              "            max-width:  80px;\n",
              "            font-size:  10pt;\n",
              "        }#T_6c0991ca_783b_11ec_b087_0242ac1c0002row0_col10{\n",
              "            background-color:  #7da0cd;\n",
              "            color:  #000000;\n",
              "            max-width:  80px;\n",
              "            font-size:  10pt;\n",
              "        }#T_6c0991ca_783b_11ec_b087_0242ac1c0002row0_col11{\n",
              "            background-color:  #de667e;\n",
              "            color:  #000000;\n",
              "            max-width:  80px;\n",
              "            font-size:  10pt;\n",
              "        }#T_6c0991ca_783b_11ec_b087_0242ac1c0002row1_col2,#T_6c0991ca_783b_11ec_b087_0242ac1c0002row8_col3{\n",
              "            background-color:  #e595a5;\n",
              "            color:  #000000;\n",
              "            max-width:  80px;\n",
              "            font-size:  10pt;\n",
              "        }#T_6c0991ca_783b_11ec_b087_0242ac1c0002row1_col4,#T_6c0991ca_783b_11ec_b087_0242ac1c0002row9_col11{\n",
              "            background-color:  #f1eaeb;\n",
              "            color:  #000000;\n",
              "            max-width:  80px;\n",
              "            font-size:  10pt;\n",
              "        }#T_6c0991ca_783b_11ec_b087_0242ac1c0002row1_col5,#T_6c0991ca_783b_11ec_b087_0242ac1c0002row10_col5{\n",
              "            background-color:  #ebbec6;\n",
              "            color:  #000000;\n",
              "            max-width:  80px;\n",
              "            font-size:  10pt;\n",
              "        }#T_6c0991ca_783b_11ec_b087_0242ac1c0002row1_col6,#T_6c0991ca_783b_11ec_b087_0242ac1c0002row9_col1{\n",
              "            background-color:  #edcad1;\n",
              "            color:  #000000;\n",
              "            max-width:  80px;\n",
              "            font-size:  10pt;\n",
              "        }#T_6c0991ca_783b_11ec_b087_0242ac1c0002row1_col7{\n",
              "            background-color:  #e3889a;\n",
              "            color:  #000000;\n",
              "            max-width:  80px;\n",
              "            font-size:  10pt;\n",
              "        }#T_6c0991ca_783b_11ec_b087_0242ac1c0002row1_col9{\n",
              "            background-color:  #f0e4e6;\n",
              "            color:  #000000;\n",
              "            max-width:  80px;\n",
              "            font-size:  10pt;\n",
              "        }#T_6c0991ca_783b_11ec_b087_0242ac1c0002row1_col11{\n",
              "            background-color:  #b8c9e0;\n",
              "            color:  #000000;\n",
              "            max-width:  80px;\n",
              "            font-size:  10pt;\n",
              "        }#T_6c0991ca_783b_11ec_b087_0242ac1c0002row2_col0,#T_6c0991ca_783b_11ec_b087_0242ac1c0002row2_col1{\n",
              "            background-color:  #d94865;\n",
              "            color:  #000000;\n",
              "            max-width:  80px;\n",
              "            font-size:  10pt;\n",
              "        }#T_6c0991ca_783b_11ec_b087_0242ac1c0002row2_col3{\n",
              "            background-color:  #e0768b;\n",
              "            color:  #000000;\n",
              "            max-width:  80px;\n",
              "            font-size:  10pt;\n",
              "        }#T_6c0991ca_783b_11ec_b087_0242ac1c0002row2_col4{\n",
              "            background-color:  #dd6179;\n",
              "            color:  #000000;\n",
              "            max-width:  80px;\n",
              "            font-size:  10pt;\n",
              "        }#T_6c0991ca_783b_11ec_b087_0242ac1c0002row2_col5{\n",
              "            background-color:  #db526e;\n",
              "            color:  #000000;\n",
              "            max-width:  80px;\n",
              "            font-size:  10pt;\n",
              "        }#T_6c0991ca_783b_11ec_b087_0242ac1c0002row2_col7,#T_6c0991ca_783b_11ec_b087_0242ac1c0002row5_col7{\n",
              "            background-color:  #da4e6a;\n",
              "            color:  #000000;\n",
              "            max-width:  80px;\n",
              "            font-size:  10pt;\n",
              "        }#T_6c0991ca_783b_11ec_b087_0242ac1c0002row2_col8{\n",
              "            background-color:  #d8405e;\n",
              "            color:  #f1f1f1;\n",
              "            max-width:  80px;\n",
              "            font-size:  10pt;\n",
              "        }#T_6c0991ca_783b_11ec_b087_0242ac1c0002row2_col9{\n",
              "            background-color:  #d94764;\n",
              "            color:  #f1f1f1;\n",
              "            max-width:  80px;\n",
              "            font-size:  10pt;\n",
              "        }#T_6c0991ca_783b_11ec_b087_0242ac1c0002row2_col10{\n",
              "            background-color:  #db546f;\n",
              "            color:  #000000;\n",
              "            max-width:  80px;\n",
              "            font-size:  10pt;\n",
              "        }#T_6c0991ca_783b_11ec_b087_0242ac1c0002row2_col11{\n",
              "            background-color:  #dd627b;\n",
              "            color:  #000000;\n",
              "            max-width:  80px;\n",
              "            font-size:  10pt;\n",
              "        }#T_6c0991ca_783b_11ec_b087_0242ac1c0002row3_col1,#T_6c0991ca_783b_11ec_b087_0242ac1c0002row3_col10{\n",
              "            background-color:  #e28698;\n",
              "            color:  #000000;\n",
              "            max-width:  80px;\n",
              "            font-size:  10pt;\n",
              "        }#T_6c0991ca_783b_11ec_b087_0242ac1c0002row3_col2{\n",
              "            background-color:  #e69dab;\n",
              "            color:  #000000;\n",
              "            max-width:  80px;\n",
              "            font-size:  10pt;\n",
              "        }#T_6c0991ca_783b_11ec_b087_0242ac1c0002row3_col4,#T_6c0991ca_783b_11ec_b087_0242ac1c0002row6_col1,#T_6c0991ca_783b_11ec_b087_0242ac1c0002row8_col6,#T_6c0991ca_783b_11ec_b087_0242ac1c0002row10_col3{\n",
              "            background-color:  #ecc9d0;\n",
              "            color:  #000000;\n",
              "            max-width:  80px;\n",
              "            font-size:  10pt;\n",
              "        }#T_6c0991ca_783b_11ec_b087_0242ac1c0002row3_col5,#T_6c0991ca_783b_11ec_b087_0242ac1c0002row3_col11{\n",
              "            background-color:  #edeef1;\n",
              "            color:  #000000;\n",
              "            max-width:  80px;\n",
              "            font-size:  10pt;\n",
              "        }#T_6c0991ca_783b_11ec_b087_0242ac1c0002row3_col7{\n",
              "            background-color:  #da516c;\n",
              "            color:  #000000;\n",
              "            max-width:  80px;\n",
              "            font-size:  10pt;\n",
              "        }#T_6c0991ca_783b_11ec_b087_0242ac1c0002row3_col9{\n",
              "            background-color:  #e7a7b4;\n",
              "            color:  #000000;\n",
              "            max-width:  80px;\n",
              "            font-size:  10pt;\n",
              "        }#T_6c0991ca_783b_11ec_b087_0242ac1c0002row4_col1,#T_6c0991ca_783b_11ec_b087_0242ac1c0002row11_col9{\n",
              "            background-color:  #d0dae8;\n",
              "            color:  #000000;\n",
              "            max-width:  80px;\n",
              "            font-size:  10pt;\n",
              "        }#T_6c0991ca_783b_11ec_b087_0242ac1c0002row4_col2{\n",
              "            background-color:  #f0e3e5;\n",
              "            color:  #000000;\n",
              "            max-width:  80px;\n",
              "            font-size:  10pt;\n",
              "        }#T_6c0991ca_783b_11ec_b087_0242ac1c0002row4_col3{\n",
              "            background-color:  #d7dfea;\n",
              "            color:  #000000;\n",
              "            max-width:  80px;\n",
              "            font-size:  10pt;\n",
              "        }#T_6c0991ca_783b_11ec_b087_0242ac1c0002row4_col5{\n",
              "            background-color:  #c4d2e4;\n",
              "            color:  #000000;\n",
              "            max-width:  80px;\n",
              "            font-size:  10pt;\n",
              "        }#T_6c0991ca_783b_11ec_b087_0242ac1c0002row4_col6{\n",
              "            background-color:  #dbe2eb;\n",
              "            color:  #000000;\n",
              "            max-width:  80px;\n",
              "            font-size:  10pt;\n",
              "        }#T_6c0991ca_783b_11ec_b087_0242ac1c0002row4_col7,#T_6c0991ca_783b_11ec_b087_0242ac1c0002row11_col6{\n",
              "            background-color:  #eabbc4;\n",
              "            color:  #000000;\n",
              "            max-width:  80px;\n",
              "            font-size:  10pt;\n",
              "        }#T_6c0991ca_783b_11ec_b087_0242ac1c0002row4_col8{\n",
              "            background-color:  #ebc1c9;\n",
              "            color:  #000000;\n",
              "            max-width:  80px;\n",
              "            font-size:  10pt;\n",
              "        }#T_6c0991ca_783b_11ec_b087_0242ac1c0002row4_col9,#T_6c0991ca_783b_11ec_b087_0242ac1c0002row5_col3{\n",
              "            background-color:  #e0e6ed;\n",
              "            color:  #000000;\n",
              "            max-width:  80px;\n",
              "            font-size:  10pt;\n",
              "        }#T_6c0991ca_783b_11ec_b087_0242ac1c0002row4_col10{\n",
              "            background-color:  #dc5e77;\n",
              "            color:  #000000;\n",
              "            max-width:  80px;\n",
              "            font-size:  10pt;\n",
              "        }#T_6c0991ca_783b_11ec_b087_0242ac1c0002row4_col11{\n",
              "            background-color:  #a1b9d9;\n",
              "            color:  #000000;\n",
              "            max-width:  80px;\n",
              "            font-size:  10pt;\n",
              "        }#T_6c0991ca_783b_11ec_b087_0242ac1c0002row5_col1,#T_6c0991ca_783b_11ec_b087_0242ac1c0002row10_col1{\n",
              "            background-color:  #e9b5bf;\n",
              "            color:  #000000;\n",
              "            max-width:  80px;\n",
              "            font-size:  10pt;\n",
              "        }#T_6c0991ca_783b_11ec_b087_0242ac1c0002row5_col2,#T_6c0991ca_783b_11ec_b087_0242ac1c0002row6_col7{\n",
              "            background-color:  #e494a4;\n",
              "            color:  #000000;\n",
              "            max-width:  80px;\n",
              "            font-size:  10pt;\n",
              "        }#T_6c0991ca_783b_11ec_b087_0242ac1c0002row5_col4{\n",
              "            background-color:  #eff0f2;\n",
              "            color:  #000000;\n",
              "            max-width:  80px;\n",
              "            font-size:  10pt;\n",
              "        }#T_6c0991ca_783b_11ec_b087_0242ac1c0002row5_col6{\n",
              "            background-color:  #e9b4be;\n",
              "            color:  #000000;\n",
              "            max-width:  80px;\n",
              "            font-size:  10pt;\n",
              "        }#T_6c0991ca_783b_11ec_b087_0242ac1c0002row5_col8,#T_6c0991ca_783b_11ec_b087_0242ac1c0002row7_col0{\n",
              "            background-color:  #e8adb8;\n",
              "            color:  #000000;\n",
              "            max-width:  80px;\n",
              "            font-size:  10pt;\n",
              "        }#T_6c0991ca_783b_11ec_b087_0242ac1c0002row5_col9{\n",
              "            background-color:  #eed6db;\n",
              "            color:  #000000;\n",
              "            max-width:  80px;\n",
              "            font-size:  10pt;\n",
              "        }#T_6c0991ca_783b_11ec_b087_0242ac1c0002row5_col11{\n",
              "            background-color:  #bdcde2;\n",
              "            color:  #000000;\n",
              "            max-width:  80px;\n",
              "            font-size:  10pt;\n",
              "        }#T_6c0991ca_783b_11ec_b087_0242ac1c0002row6_col0{\n",
              "            background-color:  #db5872;\n",
              "            color:  #000000;\n",
              "            max-width:  80px;\n",
              "            font-size:  10pt;\n",
              "        }#T_6c0991ca_783b_11ec_b087_0242ac1c0002row6_col2,#T_6c0991ca_783b_11ec_b087_0242ac1c0002row8_col10{\n",
              "            background-color:  #e38a9c;\n",
              "            color:  #000000;\n",
              "            max-width:  80px;\n",
              "            font-size:  10pt;\n",
              "        }#T_6c0991ca_783b_11ec_b087_0242ac1c0002row6_col3{\n",
              "            background-color:  #e8aab6;\n",
              "            color:  #000000;\n",
              "            max-width:  80px;\n",
              "            font-size:  10pt;\n",
              "        }#T_6c0991ca_783b_11ec_b087_0242ac1c0002row6_col4{\n",
              "            background-color:  #efdade;\n",
              "            color:  #000000;\n",
              "            max-width:  80px;\n",
              "            font-size:  10pt;\n",
              "        }#T_6c0991ca_783b_11ec_b087_0242ac1c0002row6_col5{\n",
              "            background-color:  #eabcc5;\n",
              "            color:  #000000;\n",
              "            max-width:  80px;\n",
              "            font-size:  10pt;\n",
              "        }#T_6c0991ca_783b_11ec_b087_0242ac1c0002row6_col8{\n",
              "            background-color:  #f2f1f1;\n",
              "            color:  #000000;\n",
              "            max-width:  80px;\n",
              "            font-size:  10pt;\n",
              "        }#T_6c0991ca_783b_11ec_b087_0242ac1c0002row6_col9{\n",
              "            background-color:  #e9b1bc;\n",
              "            color:  #000000;\n",
              "            max-width:  80px;\n",
              "            font-size:  10pt;\n",
              "        }#T_6c0991ca_783b_11ec_b087_0242ac1c0002row6_col11{\n",
              "            background-color:  #e59aa9;\n",
              "            color:  #000000;\n",
              "            max-width:  80px;\n",
              "            font-size:  10pt;\n",
              "        }#T_6c0991ca_783b_11ec_b087_0242ac1c0002row7_col1{\n",
              "            background-color:  #df6d84;\n",
              "            color:  #000000;\n",
              "            max-width:  80px;\n",
              "            font-size:  10pt;\n",
              "        }#T_6c0991ca_783b_11ec_b087_0242ac1c0002row7_col2,#T_6c0991ca_783b_11ec_b087_0242ac1c0002row11_col7{\n",
              "            background-color:  #e28194;\n",
              "            color:  #000000;\n",
              "            max-width:  80px;\n",
              "            font-size:  10pt;\n",
              "        }#T_6c0991ca_783b_11ec_b087_0242ac1c0002row7_col3,#T_6c0991ca_783b_11ec_b087_0242ac1c0002row7_col4,#T_6c0991ca_783b_11ec_b087_0242ac1c0002row8_col7{\n",
              "            background-color:  #dc5973;\n",
              "            color:  #000000;\n",
              "            max-width:  80px;\n",
              "            font-size:  10pt;\n",
              "        }#T_6c0991ca_783b_11ec_b087_0242ac1c0002row7_col6{\n",
              "            background-color:  #e17c90;\n",
              "            color:  #000000;\n",
              "            max-width:  80px;\n",
              "            font-size:  10pt;\n",
              "        }#T_6c0991ca_783b_11ec_b087_0242ac1c0002row7_col8{\n",
              "            background-color:  #e17d91;\n",
              "            color:  #000000;\n",
              "            max-width:  80px;\n",
              "            font-size:  10pt;\n",
              "        }#T_6c0991ca_783b_11ec_b087_0242ac1c0002row7_col9{\n",
              "            background-color:  #e28396;\n",
              "            color:  #000000;\n",
              "            max-width:  80px;\n",
              "            font-size:  10pt;\n",
              "        }#T_6c0991ca_783b_11ec_b087_0242ac1c0002row7_col10,#T_6c0991ca_783b_11ec_b087_0242ac1c0002row8_col0,#T_6c0991ca_783b_11ec_b087_0242ac1c0002row8_col5{\n",
              "            background-color:  #e17e92;\n",
              "            color:  #000000;\n",
              "            max-width:  80px;\n",
              "            font-size:  10pt;\n",
              "        }#T_6c0991ca_783b_11ec_b087_0242ac1c0002row8_col1{\n",
              "            background-color:  #e07389;\n",
              "            color:  #000000;\n",
              "            max-width:  80px;\n",
              "            font-size:  10pt;\n",
              "        }#T_6c0991ca_783b_11ec_b087_0242ac1c0002row8_col2{\n",
              "            background-color:  #da506b;\n",
              "            color:  #000000;\n",
              "            max-width:  80px;\n",
              "            font-size:  10pt;\n",
              "        }#T_6c0991ca_783b_11ec_b087_0242ac1c0002row8_col9{\n",
              "            background-color:  #de6980;\n",
              "            color:  #000000;\n",
              "            max-width:  80px;\n",
              "            font-size:  10pt;\n",
              "        }#T_6c0991ca_783b_11ec_b087_0242ac1c0002row8_col11{\n",
              "            background-color:  #dd657d;\n",
              "            color:  #000000;\n",
              "            max-width:  80px;\n",
              "            font-size:  10pt;\n",
              "        }#T_6c0991ca_783b_11ec_b087_0242ac1c0002row9_col2{\n",
              "            background-color:  #df7086;\n",
              "            color:  #000000;\n",
              "            max-width:  80px;\n",
              "            font-size:  10pt;\n",
              "        }#T_6c0991ca_783b_11ec_b087_0242ac1c0002row9_col4{\n",
              "            background-color:  #eab9c3;\n",
              "            color:  #000000;\n",
              "            max-width:  80px;\n",
              "            font-size:  10pt;\n",
              "        }#T_6c0991ca_783b_11ec_b087_0242ac1c0002row9_col5,#T_6c0991ca_783b_11ec_b087_0242ac1c0002row11_col10{\n",
              "            background-color:  #ebc2ca;\n",
              "            color:  #000000;\n",
              "            max-width:  80px;\n",
              "            font-size:  10pt;\n",
              "        }#T_6c0991ca_783b_11ec_b087_0242ac1c0002row9_col6{\n",
              "            background-color:  #e48fa0;\n",
              "            color:  #000000;\n",
              "            max-width:  80px;\n",
              "            font-size:  10pt;\n",
              "        }#T_6c0991ca_783b_11ec_b087_0242ac1c0002row9_col7{\n",
              "            background-color:  #e0778c;\n",
              "            color:  #000000;\n",
              "            max-width:  80px;\n",
              "            font-size:  10pt;\n",
              "        }#T_6c0991ca_783b_11ec_b087_0242ac1c0002row9_col8{\n",
              "            background-color:  #e18093;\n",
              "            color:  #000000;\n",
              "            max-width:  80px;\n",
              "            font-size:  10pt;\n",
              "        }#T_6c0991ca_783b_11ec_b087_0242ac1c0002row9_col10{\n",
              "            background-color:  #e17a8f;\n",
              "            color:  #000000;\n",
              "            max-width:  80px;\n",
              "            font-size:  10pt;\n",
              "        }#T_6c0991ca_783b_11ec_b087_0242ac1c0002row10_col0{\n",
              "            background-color:  #82a4cf;\n",
              "            color:  #000000;\n",
              "            max-width:  80px;\n",
              "            font-size:  10pt;\n",
              "        }#T_6c0991ca_783b_11ec_b087_0242ac1c0002row10_col2{\n",
              "            background-color:  #ecc5cc;\n",
              "            color:  #000000;\n",
              "            max-width:  80px;\n",
              "            font-size:  10pt;\n",
              "        }#T_6c0991ca_783b_11ec_b087_0242ac1c0002row10_col6{\n",
              "            background-color:  #df6f85;\n",
              "            color:  #000000;\n",
              "            max-width:  80px;\n",
              "            font-size:  10pt;\n",
              "        }#T_6c0991ca_783b_11ec_b087_0242ac1c0002row10_col7,#T_6c0991ca_783b_11ec_b087_0242ac1c0002row11_col8{\n",
              "            background-color:  #ebbfc8;\n",
              "            color:  #000000;\n",
              "            max-width:  80px;\n",
              "            font-size:  10pt;\n",
              "        }#T_6c0991ca_783b_11ec_b087_0242ac1c0002row10_col8{\n",
              "            background-color:  #f0e0e3;\n",
              "            color:  #000000;\n",
              "            max-width:  80px;\n",
              "            font-size:  10pt;\n",
              "        }#T_6c0991ca_783b_11ec_b087_0242ac1c0002row10_col9{\n",
              "            background-color:  #ecc3cb;\n",
              "            color:  #000000;\n",
              "            max-width:  80px;\n",
              "            font-size:  10pt;\n",
              "        }#T_6c0991ca_783b_11ec_b087_0242ac1c0002row10_col11,#T_6c0991ca_783b_11ec_b087_0242ac1c0002row11_col2{\n",
              "            background-color:  #ecc8cf;\n",
              "            color:  #000000;\n",
              "            max-width:  80px;\n",
              "            font-size:  10pt;\n",
              "        }#T_6c0991ca_783b_11ec_b087_0242ac1c0002row11_col1,#T_6c0991ca_783b_11ec_b087_0242ac1c0002row11_col5{\n",
              "            background-color:  #aac0dc;\n",
              "            color:  #000000;\n",
              "            max-width:  80px;\n",
              "            font-size:  10pt;\n",
              "        }#T_6c0991ca_783b_11ec_b087_0242ac1c0002row11_col3{\n",
              "            background-color:  #c8d5e5;\n",
              "            color:  #000000;\n",
              "            max-width:  80px;\n",
              "            font-size:  10pt;\n",
              "        }#T_6c0991ca_783b_11ec_b087_0242ac1c0002row11_col4{\n",
              "            background-color:  #adc2dd;\n",
              "            color:  #000000;\n",
              "            max-width:  80px;\n",
              "            font-size:  10pt;\n",
              "        }</style><table id=\"T_6c0991ca_783b_11ec_b087_0242ac1c0002\" class=\"dataframe\"><caption>Hover to magify</caption><thead>    <tr>        <th class=\"blank level0\" ></th>        <th class=\"col_heading level0 col0\" >rank</th>        <th class=\"col_heading level0 col1\" >rating</th>        <th class=\"col_heading level0 col2\" >price</th>        <th class=\"col_heading level0 col3\" >number_reviews</th>        <th class=\"col_heading level0 col4\" >id_group</th>        <th class=\"col_heading level0 col5\" >number_of_cuisines</th>        <th class=\"col_heading level0 col6\" >mean_rating_in_city</th>        <th class=\"col_heading level0 col7\" >date_delta</th>        <th class=\"col_heading level0 col8\" >median_number_of_reviews</th>        <th class=\"col_heading level0 col9\" >sentiment_polarity</th>        <th class=\"col_heading level0 col10\" >number_of_restaurants</th>        <th class=\"col_heading level0 col11\" >delta_ranking_index</th>    </tr></thead><tbody>\n",
              "                <tr>\n",
              "                        <th id=\"T_6c0991ca_783b_11ec_b087_0242ac1c0002level0_row0\" class=\"row_heading level0 row0\" >rank</th>\n",
              "                        <td id=\"T_6c0991ca_783b_11ec_b087_0242ac1c0002row0_col0\" class=\"data row0 col0\" >1.00</td>\n",
              "                        <td id=\"T_6c0991ca_783b_11ec_b087_0242ac1c0002row0_col1\" class=\"data row0 col1\" >-0.37</td>\n",
              "                        <td id=\"T_6c0991ca_783b_11ec_b087_0242ac1c0002row0_col2\" class=\"data row0 col2\" >-0.03</td>\n",
              "                        <td id=\"T_6c0991ca_783b_11ec_b087_0242ac1c0002row0_col3\" class=\"data row0 col3\" >-0.22</td>\n",
              "                        <td id=\"T_6c0991ca_783b_11ec_b087_0242ac1c0002row0_col4\" class=\"data row0 col4\" >-0.76</td>\n",
              "                        <td id=\"T_6c0991ca_783b_11ec_b087_0242ac1c0002row0_col5\" class=\"data row0 col5\" >-0.32</td>\n",
              "                        <td id=\"T_6c0991ca_783b_11ec_b087_0242ac1c0002row0_col6\" class=\"data row0 col6\" >-0.25</td>\n",
              "                        <td id=\"T_6c0991ca_783b_11ec_b087_0242ac1c0002row0_col7\" class=\"data row0 col7\" >0.14</td>\n",
              "                        <td id=\"T_6c0991ca_783b_11ec_b087_0242ac1c0002row0_col8\" class=\"data row0 col8\" >0.09</td>\n",
              "                        <td id=\"T_6c0991ca_783b_11ec_b087_0242ac1c0002row0_col9\" class=\"data row0 col9\" >-0.21</td>\n",
              "                        <td id=\"T_6c0991ca_783b_11ec_b087_0242ac1c0002row0_col10\" class=\"data row0 col10\" >0.71</td>\n",
              "                        <td id=\"T_6c0991ca_783b_11ec_b087_0242ac1c0002row0_col11\" class=\"data row0 col11\" >-0.55</td>\n",
              "            </tr>\n",
              "            <tr>\n",
              "                        <th id=\"T_6c0991ca_783b_11ec_b087_0242ac1c0002level0_row1\" class=\"row_heading level0 row1\" >rating</th>\n",
              "                        <td id=\"T_6c0991ca_783b_11ec_b087_0242ac1c0002row1_col0\" class=\"data row1 col0\" >-0.37</td>\n",
              "                        <td id=\"T_6c0991ca_783b_11ec_b087_0242ac1c0002row1_col1\" class=\"data row1 col1\" >1.00</td>\n",
              "                        <td id=\"T_6c0991ca_783b_11ec_b087_0242ac1c0002row1_col2\" class=\"data row1 col2\" >-0.03</td>\n",
              "                        <td id=\"T_6c0991ca_783b_11ec_b087_0242ac1c0002row1_col3\" class=\"data row1 col3\" >0.03</td>\n",
              "                        <td id=\"T_6c0991ca_783b_11ec_b087_0242ac1c0002row1_col4\" class=\"data row1 col4\" >0.29</td>\n",
              "                        <td id=\"T_6c0991ca_783b_11ec_b087_0242ac1c0002row1_col5\" class=\"data row1 col5\" >0.12</td>\n",
              "                        <td id=\"T_6c0991ca_783b_11ec_b087_0242ac1c0002row1_col6\" class=\"data row1 col6\" >0.17</td>\n",
              "                        <td id=\"T_6c0991ca_783b_11ec_b087_0242ac1c0002row1_col7\" class=\"data row1 col7\" >-0.08</td>\n",
              "                        <td id=\"T_6c0991ca_783b_11ec_b087_0242ac1c0002row1_col8\" class=\"data row1 col8\" >0.05</td>\n",
              "                        <td id=\"T_6c0991ca_783b_11ec_b087_0242ac1c0002row1_col9\" class=\"data row1 col9\" >0.27</td>\n",
              "                        <td id=\"T_6c0991ca_783b_11ec_b087_0242ac1c0002row1_col10\" class=\"data row1 col10\" >-0.06</td>\n",
              "                        <td id=\"T_6c0991ca_783b_11ec_b087_0242ac1c0002row1_col11\" class=\"data row1 col11\" >0.54</td>\n",
              "            </tr>\n",
              "            <tr>\n",
              "                        <th id=\"T_6c0991ca_783b_11ec_b087_0242ac1c0002level0_row2\" class=\"row_heading level0 row2\" >price</th>\n",
              "                        <td id=\"T_6c0991ca_783b_11ec_b087_0242ac1c0002row2_col0\" class=\"data row2 col0\" >-0.03</td>\n",
              "                        <td id=\"T_6c0991ca_783b_11ec_b087_0242ac1c0002row2_col1\" class=\"data row2 col1\" >-0.03</td>\n",
              "                        <td id=\"T_6c0991ca_783b_11ec_b087_0242ac1c0002row2_col2\" class=\"data row2 col2\" >1.00</td>\n",
              "                        <td id=\"T_6c0991ca_783b_11ec_b087_0242ac1c0002row2_col3\" class=\"data row2 col3\" >0.11</td>\n",
              "                        <td id=\"T_6c0991ca_783b_11ec_b087_0242ac1c0002row2_col4\" class=\"data row2 col4\" >0.04</td>\n",
              "                        <td id=\"T_6c0991ca_783b_11ec_b087_0242ac1c0002row2_col5\" class=\"data row2 col5\" >0.00</td>\n",
              "                        <td id=\"T_6c0991ca_783b_11ec_b087_0242ac1c0002row2_col6\" class=\"data row2 col6\" >-0.07</td>\n",
              "                        <td id=\"T_6c0991ca_783b_11ec_b087_0242ac1c0002row2_col7\" class=\"data row2 col7\" >-0.01</td>\n",
              "                        <td id=\"T_6c0991ca_783b_11ec_b087_0242ac1c0002row2_col8\" class=\"data row2 col8\" >-0.05</td>\n",
              "                        <td id=\"T_6c0991ca_783b_11ec_b087_0242ac1c0002row2_col9\" class=\"data row2 col9\" >-0.03</td>\n",
              "                        <td id=\"T_6c0991ca_783b_11ec_b087_0242ac1c0002row2_col10\" class=\"data row2 col10\" >0.01</td>\n",
              "                        <td id=\"T_6c0991ca_783b_11ec_b087_0242ac1c0002row2_col11\" class=\"data row2 col11\" >0.05</td>\n",
              "            </tr>\n",
              "            <tr>\n",
              "                        <th id=\"T_6c0991ca_783b_11ec_b087_0242ac1c0002level0_row3\" class=\"row_heading level0 row3\" >number_reviews</th>\n",
              "                        <td id=\"T_6c0991ca_783b_11ec_b087_0242ac1c0002row3_col0\" class=\"data row3 col0\" >-0.22</td>\n",
              "                        <td id=\"T_6c0991ca_783b_11ec_b087_0242ac1c0002row3_col1\" class=\"data row3 col1\" >0.03</td>\n",
              "                        <td id=\"T_6c0991ca_783b_11ec_b087_0242ac1c0002row3_col2\" class=\"data row3 col2\" >0.11</td>\n",
              "                        <td id=\"T_6c0991ca_783b_11ec_b087_0242ac1c0002row3_col3\" class=\"data row3 col3\" >1.00</td>\n",
              "                        <td id=\"T_6c0991ca_783b_11ec_b087_0242ac1c0002row3_col4\" class=\"data row3 col4\" >0.25</td>\n",
              "                        <td id=\"T_6c0991ca_783b_11ec_b087_0242ac1c0002row3_col5\" class=\"data row3 col5\" >0.41</td>\n",
              "                        <td id=\"T_6c0991ca_783b_11ec_b087_0242ac1c0002row3_col6\" class=\"data row3 col6\" >0.05</td>\n",
              "                        <td id=\"T_6c0991ca_783b_11ec_b087_0242ac1c0002row3_col7\" class=\"data row3 col7\" >-0.15</td>\n",
              "                        <td id=\"T_6c0991ca_783b_11ec_b087_0242ac1c0002row3_col8\" class=\"data row3 col8\" >0.16</td>\n",
              "                        <td id=\"T_6c0991ca_783b_11ec_b087_0242ac1c0002row3_col9\" class=\"data row3 col9\" >0.14</td>\n",
              "                        <td id=\"T_6c0991ca_783b_11ec_b087_0242ac1c0002row3_col10\" class=\"data row3 col10\" >0.03</td>\n",
              "                        <td id=\"T_6c0991ca_783b_11ec_b087_0242ac1c0002row3_col11\" class=\"data row3 col11\" >0.41</td>\n",
              "            </tr>\n",
              "            <tr>\n",
              "                        <th id=\"T_6c0991ca_783b_11ec_b087_0242ac1c0002level0_row4\" class=\"row_heading level0 row4\" >id_group</th>\n",
              "                        <td id=\"T_6c0991ca_783b_11ec_b087_0242ac1c0002row4_col0\" class=\"data row4 col0\" >-0.76</td>\n",
              "                        <td id=\"T_6c0991ca_783b_11ec_b087_0242ac1c0002row4_col1\" class=\"data row4 col1\" >0.29</td>\n",
              "                        <td id=\"T_6c0991ca_783b_11ec_b087_0242ac1c0002row4_col2\" class=\"data row4 col2\" >0.04</td>\n",
              "                        <td id=\"T_6c0991ca_783b_11ec_b087_0242ac1c0002row4_col3\" class=\"data row4 col3\" >0.25</td>\n",
              "                        <td id=\"T_6c0991ca_783b_11ec_b087_0242ac1c0002row4_col4\" class=\"data row4 col4\" >1.00</td>\n",
              "                        <td id=\"T_6c0991ca_783b_11ec_b087_0242ac1c0002row4_col5\" class=\"data row4 col5\" >0.35</td>\n",
              "                        <td id=\"T_6c0991ca_783b_11ec_b087_0242ac1c0002row4_col6\" class=\"data row4 col6\" >0.23</td>\n",
              "                        <td id=\"T_6c0991ca_783b_11ec_b087_0242ac1c0002row4_col7\" class=\"data row4 col7\" >-0.15</td>\n",
              "                        <td id=\"T_6c0991ca_783b_11ec_b087_0242ac1c0002row4_col8\" class=\"data row4 col8\" >-0.12</td>\n",
              "                        <td id=\"T_6c0991ca_783b_11ec_b087_0242ac1c0002row4_col9\" class=\"data row4 col9\" >0.21</td>\n",
              "                        <td id=\"T_6c0991ca_783b_11ec_b087_0242ac1c0002row4_col10\" class=\"data row4 col10\" >-0.59</td>\n",
              "                        <td id=\"T_6c0991ca_783b_11ec_b087_0242ac1c0002row4_col11\" class=\"data row4 col11\" >0.53</td>\n",
              "            </tr>\n",
              "            <tr>\n",
              "                        <th id=\"T_6c0991ca_783b_11ec_b087_0242ac1c0002level0_row5\" class=\"row_heading level0 row5\" >number_of_cuisines</th>\n",
              "                        <td id=\"T_6c0991ca_783b_11ec_b087_0242ac1c0002row5_col0\" class=\"data row5 col0\" >-0.32</td>\n",
              "                        <td id=\"T_6c0991ca_783b_11ec_b087_0242ac1c0002row5_col1\" class=\"data row5 col1\" >0.12</td>\n",
              "                        <td id=\"T_6c0991ca_783b_11ec_b087_0242ac1c0002row5_col2\" class=\"data row5 col2\" >0.00</td>\n",
              "                        <td id=\"T_6c0991ca_783b_11ec_b087_0242ac1c0002row5_col3\" class=\"data row5 col3\" >0.41</td>\n",
              "                        <td id=\"T_6c0991ca_783b_11ec_b087_0242ac1c0002row5_col4\" class=\"data row5 col4\" >0.35</td>\n",
              "                        <td id=\"T_6c0991ca_783b_11ec_b087_0242ac1c0002row5_col5\" class=\"data row5 col5\" >1.00</td>\n",
              "                        <td id=\"T_6c0991ca_783b_11ec_b087_0242ac1c0002row5_col6\" class=\"data row5 col6\" >0.12</td>\n",
              "                        <td id=\"T_6c0991ca_783b_11ec_b087_0242ac1c0002row5_col7\" class=\"data row5 col7\" >-0.25</td>\n",
              "                        <td id=\"T_6c0991ca_783b_11ec_b087_0242ac1c0002row5_col8\" class=\"data row5 col8\" >0.09</td>\n",
              "                        <td id=\"T_6c0991ca_783b_11ec_b087_0242ac1c0002row5_col9\" class=\"data row5 col9\" >0.24</td>\n",
              "                        <td id=\"T_6c0991ca_783b_11ec_b087_0242ac1c0002row5_col10\" class=\"data row5 col10\" >-0.02</td>\n",
              "                        <td id=\"T_6c0991ca_783b_11ec_b087_0242ac1c0002row5_col11\" class=\"data row5 col11\" >0.54</td>\n",
              "            </tr>\n",
              "            <tr>\n",
              "                        <th id=\"T_6c0991ca_783b_11ec_b087_0242ac1c0002level0_row6\" class=\"row_heading level0 row6\" >mean_rating_in_city</th>\n",
              "                        <td id=\"T_6c0991ca_783b_11ec_b087_0242ac1c0002row6_col0\" class=\"data row6 col0\" >-0.25</td>\n",
              "                        <td id=\"T_6c0991ca_783b_11ec_b087_0242ac1c0002row6_col1\" class=\"data row6 col1\" >0.17</td>\n",
              "                        <td id=\"T_6c0991ca_783b_11ec_b087_0242ac1c0002row6_col2\" class=\"data row6 col2\" >-0.07</td>\n",
              "                        <td id=\"T_6c0991ca_783b_11ec_b087_0242ac1c0002row6_col3\" class=\"data row6 col3\" >0.05</td>\n",
              "                        <td id=\"T_6c0991ca_783b_11ec_b087_0242ac1c0002row6_col4\" class=\"data row6 col4\" >0.23</td>\n",
              "                        <td id=\"T_6c0991ca_783b_11ec_b087_0242ac1c0002row6_col5\" class=\"data row6 col5\" >0.12</td>\n",
              "                        <td id=\"T_6c0991ca_783b_11ec_b087_0242ac1c0002row6_col6\" class=\"data row6 col6\" >1.00</td>\n",
              "                        <td id=\"T_6c0991ca_783b_11ec_b087_0242ac1c0002row6_col7\" class=\"data row6 col7\" >-0.03</td>\n",
              "                        <td id=\"T_6c0991ca_783b_11ec_b087_0242ac1c0002row6_col8\" class=\"data row6 col8\" >0.32</td>\n",
              "                        <td id=\"T_6c0991ca_783b_11ec_b087_0242ac1c0002row6_col9\" class=\"data row6 col9\" >0.07</td>\n",
              "                        <td id=\"T_6c0991ca_783b_11ec_b087_0242ac1c0002row6_col10\" class=\"data row6 col10\" >-0.36</td>\n",
              "                        <td id=\"T_6c0991ca_783b_11ec_b087_0242ac1c0002row6_col11\" class=\"data row6 col11\" >-0.01</td>\n",
              "            </tr>\n",
              "            <tr>\n",
              "                        <th id=\"T_6c0991ca_783b_11ec_b087_0242ac1c0002level0_row7\" class=\"row_heading level0 row7\" >date_delta</th>\n",
              "                        <td id=\"T_6c0991ca_783b_11ec_b087_0242ac1c0002row7_col0\" class=\"data row7 col0\" >0.14</td>\n",
              "                        <td id=\"T_6c0991ca_783b_11ec_b087_0242ac1c0002row7_col1\" class=\"data row7 col1\" >-0.08</td>\n",
              "                        <td id=\"T_6c0991ca_783b_11ec_b087_0242ac1c0002row7_col2\" class=\"data row7 col2\" >-0.01</td>\n",
              "                        <td id=\"T_6c0991ca_783b_11ec_b087_0242ac1c0002row7_col3\" class=\"data row7 col3\" >-0.15</td>\n",
              "                        <td id=\"T_6c0991ca_783b_11ec_b087_0242ac1c0002row7_col4\" class=\"data row7 col4\" >-0.15</td>\n",
              "                        <td id=\"T_6c0991ca_783b_11ec_b087_0242ac1c0002row7_col5\" class=\"data row7 col5\" >-0.25</td>\n",
              "                        <td id=\"T_6c0991ca_783b_11ec_b087_0242ac1c0002row7_col6\" class=\"data row7 col6\" >-0.03</td>\n",
              "                        <td id=\"T_6c0991ca_783b_11ec_b087_0242ac1c0002row7_col7\" class=\"data row7 col7\" >1.00</td>\n",
              "                        <td id=\"T_6c0991ca_783b_11ec_b087_0242ac1c0002row7_col8\" class=\"data row7 col8\" >-0.03</td>\n",
              "                        <td id=\"T_6c0991ca_783b_11ec_b087_0242ac1c0002row7_col9\" class=\"data row7 col9\" >-0.01</td>\n",
              "                        <td id=\"T_6c0991ca_783b_11ec_b087_0242ac1c0002row7_col10\" class=\"data row7 col10\" >-0.02</td>\n",
              "                        <td id=\"T_6c0991ca_783b_11ec_b087_0242ac1c0002row7_col11\" class=\"data row7 col11\" >-0.25</td>\n",
              "            </tr>\n",
              "            <tr>\n",
              "                        <th id=\"T_6c0991ca_783b_11ec_b087_0242ac1c0002level0_row8\" class=\"row_heading level0 row8\" >median_number_of_reviews</th>\n",
              "                        <td id=\"T_6c0991ca_783b_11ec_b087_0242ac1c0002row8_col0\" class=\"data row8 col0\" >0.09</td>\n",
              "                        <td id=\"T_6c0991ca_783b_11ec_b087_0242ac1c0002row8_col1\" class=\"data row8 col1\" >0.05</td>\n",
              "                        <td id=\"T_6c0991ca_783b_11ec_b087_0242ac1c0002row8_col2\" class=\"data row8 col2\" >-0.05</td>\n",
              "                        <td id=\"T_6c0991ca_783b_11ec_b087_0242ac1c0002row8_col3\" class=\"data row8 col3\" >0.16</td>\n",
              "                        <td id=\"T_6c0991ca_783b_11ec_b087_0242ac1c0002row8_col4\" class=\"data row8 col4\" >-0.12</td>\n",
              "                        <td id=\"T_6c0991ca_783b_11ec_b087_0242ac1c0002row8_col5\" class=\"data row8 col5\" >0.09</td>\n",
              "                        <td id=\"T_6c0991ca_783b_11ec_b087_0242ac1c0002row8_col6\" class=\"data row8 col6\" >0.32</td>\n",
              "                        <td id=\"T_6c0991ca_783b_11ec_b087_0242ac1c0002row8_col7\" class=\"data row8 col7\" >-0.03</td>\n",
              "                        <td id=\"T_6c0991ca_783b_11ec_b087_0242ac1c0002row8_col8\" class=\"data row8 col8\" >1.00</td>\n",
              "                        <td id=\"T_6c0991ca_783b_11ec_b087_0242ac1c0002row8_col9\" class=\"data row8 col9\" >0.02</td>\n",
              "                        <td id=\"T_6c0991ca_783b_11ec_b087_0242ac1c0002row8_col10\" class=\"data row8 col10\" >0.13</td>\n",
              "                        <td id=\"T_6c0991ca_783b_11ec_b087_0242ac1c0002row8_col11\" class=\"data row8 col11\" >0.01</td>\n",
              "            </tr>\n",
              "            <tr>\n",
              "                        <th id=\"T_6c0991ca_783b_11ec_b087_0242ac1c0002level0_row9\" class=\"row_heading level0 row9\" >sentiment_polarity</th>\n",
              "                        <td id=\"T_6c0991ca_783b_11ec_b087_0242ac1c0002row9_col0\" class=\"data row9 col0\" >-0.21</td>\n",
              "                        <td id=\"T_6c0991ca_783b_11ec_b087_0242ac1c0002row9_col1\" class=\"data row9 col1\" >0.27</td>\n",
              "                        <td id=\"T_6c0991ca_783b_11ec_b087_0242ac1c0002row9_col2\" class=\"data row9 col2\" >-0.03</td>\n",
              "                        <td id=\"T_6c0991ca_783b_11ec_b087_0242ac1c0002row9_col3\" class=\"data row9 col3\" >0.14</td>\n",
              "                        <td id=\"T_6c0991ca_783b_11ec_b087_0242ac1c0002row9_col4\" class=\"data row9 col4\" >0.21</td>\n",
              "                        <td id=\"T_6c0991ca_783b_11ec_b087_0242ac1c0002row9_col5\" class=\"data row9 col5\" >0.24</td>\n",
              "                        <td id=\"T_6c0991ca_783b_11ec_b087_0242ac1c0002row9_col6\" class=\"data row9 col6\" >0.07</td>\n",
              "                        <td id=\"T_6c0991ca_783b_11ec_b087_0242ac1c0002row9_col7\" class=\"data row9 col7\" >-0.01</td>\n",
              "                        <td id=\"T_6c0991ca_783b_11ec_b087_0242ac1c0002row9_col8\" class=\"data row9 col8\" >0.02</td>\n",
              "                        <td id=\"T_6c0991ca_783b_11ec_b087_0242ac1c0002row9_col9\" class=\"data row9 col9\" >1.00</td>\n",
              "                        <td id=\"T_6c0991ca_783b_11ec_b087_0242ac1c0002row9_col10\" class=\"data row9 col10\" >0.00</td>\n",
              "                        <td id=\"T_6c0991ca_783b_11ec_b087_0242ac1c0002row9_col11\" class=\"data row9 col11\" >0.37</td>\n",
              "            </tr>\n",
              "            <tr>\n",
              "                        <th id=\"T_6c0991ca_783b_11ec_b087_0242ac1c0002level0_row10\" class=\"row_heading level0 row10\" >number_of_restaurants</th>\n",
              "                        <td id=\"T_6c0991ca_783b_11ec_b087_0242ac1c0002row10_col0\" class=\"data row10 col0\" >0.71</td>\n",
              "                        <td id=\"T_6c0991ca_783b_11ec_b087_0242ac1c0002row10_col1\" class=\"data row10 col1\" >-0.06</td>\n",
              "                        <td id=\"T_6c0991ca_783b_11ec_b087_0242ac1c0002row10_col2\" class=\"data row10 col2\" >0.01</td>\n",
              "                        <td id=\"T_6c0991ca_783b_11ec_b087_0242ac1c0002row10_col3\" class=\"data row10 col3\" >0.03</td>\n",
              "                        <td id=\"T_6c0991ca_783b_11ec_b087_0242ac1c0002row10_col4\" class=\"data row10 col4\" >-0.59</td>\n",
              "                        <td id=\"T_6c0991ca_783b_11ec_b087_0242ac1c0002row10_col5\" class=\"data row10 col5\" >-0.02</td>\n",
              "                        <td id=\"T_6c0991ca_783b_11ec_b087_0242ac1c0002row10_col6\" class=\"data row10 col6\" >-0.36</td>\n",
              "                        <td id=\"T_6c0991ca_783b_11ec_b087_0242ac1c0002row10_col7\" class=\"data row10 col7\" >-0.02</td>\n",
              "                        <td id=\"T_6c0991ca_783b_11ec_b087_0242ac1c0002row10_col8\" class=\"data row10 col8\" >0.13</td>\n",
              "                        <td id=\"T_6c0991ca_783b_11ec_b087_0242ac1c0002row10_col9\" class=\"data row10 col9\" >0.00</td>\n",
              "                        <td id=\"T_6c0991ca_783b_11ec_b087_0242ac1c0002row10_col10\" class=\"data row10 col10\" >1.00</td>\n",
              "                        <td id=\"T_6c0991ca_783b_11ec_b087_0242ac1c0002row10_col11\" class=\"data row10 col11\" >0.02</td>\n",
              "            </tr>\n",
              "            <tr>\n",
              "                        <th id=\"T_6c0991ca_783b_11ec_b087_0242ac1c0002level0_row11\" class=\"row_heading level0 row11\" >delta_ranking_index</th>\n",
              "                        <td id=\"T_6c0991ca_783b_11ec_b087_0242ac1c0002row11_col0\" class=\"data row11 col0\" >-0.55</td>\n",
              "                        <td id=\"T_6c0991ca_783b_11ec_b087_0242ac1c0002row11_col1\" class=\"data row11 col1\" >0.54</td>\n",
              "                        <td id=\"T_6c0991ca_783b_11ec_b087_0242ac1c0002row11_col2\" class=\"data row11 col2\" >0.05</td>\n",
              "                        <td id=\"T_6c0991ca_783b_11ec_b087_0242ac1c0002row11_col3\" class=\"data row11 col3\" >0.41</td>\n",
              "                        <td id=\"T_6c0991ca_783b_11ec_b087_0242ac1c0002row11_col4\" class=\"data row11 col4\" >0.53</td>\n",
              "                        <td id=\"T_6c0991ca_783b_11ec_b087_0242ac1c0002row11_col5\" class=\"data row11 col5\" >0.54</td>\n",
              "                        <td id=\"T_6c0991ca_783b_11ec_b087_0242ac1c0002row11_col6\" class=\"data row11 col6\" >-0.01</td>\n",
              "                        <td id=\"T_6c0991ca_783b_11ec_b087_0242ac1c0002row11_col7\" class=\"data row11 col7\" >-0.25</td>\n",
              "                        <td id=\"T_6c0991ca_783b_11ec_b087_0242ac1c0002row11_col8\" class=\"data row11 col8\" >0.01</td>\n",
              "                        <td id=\"T_6c0991ca_783b_11ec_b087_0242ac1c0002row11_col9\" class=\"data row11 col9\" >0.37</td>\n",
              "                        <td id=\"T_6c0991ca_783b_11ec_b087_0242ac1c0002row11_col10\" class=\"data row11 col10\" >0.02</td>\n",
              "                        <td id=\"T_6c0991ca_783b_11ec_b087_0242ac1c0002row11_col11\" class=\"data row11 col11\" >1.00</td>\n",
              "            </tr>\n",
              "    </tbody></table>"
            ],
            "text/plain": [
              "<pandas.io.formats.style.Styler at 0x7efcf024b290>"
            ]
          },
          "metadata": {},
          "execution_count": 205
        }
      ]
    },
    {
      "cell_type": "code",
      "source": [
        "# удаляем неколичественные признаки:\n",
        "df=df.drop(['city', 'cuisine','reviews', 'url', 'ID_TA', 'reviews_date','rev_date_1', 'rev_date_2'], axis = 1)"
      ],
      "metadata": {
        "id": "Uiu9iIBB4t7D"
      },
      "execution_count": null,
      "outputs": []
    },
    {
      "cell_type": "markdown",
      "metadata": {
        "id": "6De-DiGd9_3s"
      },
      "source": [
        "# 1 РАЗДЕЛЕНИЕ ДАТАФРЕЙМА на части"
      ]
    },
    {
      "cell_type": "code",
      "metadata": {
        "id": "KqB9y4c6-OJU"
      },
      "source": [
        "# Разбиваем датафрейм на части, необходимые для обучения и тестирования модели  \n",
        "# Х - данные с информацией о ресторанах, у - целевая переменная (рейтинги ресторанов)  \n",
        "X = df.drop(['id', 'rating'], axis = 1)  \n",
        "y = df['rating']  \n",
        "\n",
        "# Загружаем специальный инструмент для разбивки:  \n",
        "from sklearn.model_selection import train_test_split  \n",
        "      \n",
        "# Наборы данных с меткой \"train\" будут использоваться для обучения модели, \"test\" - для тестирования.  \n",
        "# Для тестирования мы будем использовать 25% от исходного датасета.  \n",
        "X_train, X_test, y_train, y_test = train_test_split(X, y, test_size=0.25)"
      ],
      "execution_count": null,
      "outputs": []
    },
    {
      "cell_type": "markdown",
      "metadata": {
        "id": "UaJjLLkI-q1h"
      },
      "source": [
        "# 2 СОЗДАНИЕ, ОБУЧЕНИЕ И ТЕСТИРОВАНИЕ МОДЕЛИ"
      ]
    },
    {
      "cell_type": "code",
      "metadata": {
        "id": "gR1rRuuy-sbG"
      },
      "source": [
        "# Импортируем необходимые библиотеки:  \n",
        "from sklearn.ensemble import RandomForestRegressor # инструмент для создания и обучения модели  \n",
        "from sklearn import metrics # инструменты для оценки точности модели  \n",
        "      \n",
        "# Создаём модель  \n",
        "regr = RandomForestRegressor(n_estimators=100)  \n",
        "\n",
        "# Обучаем модель на тестовом наборе данных  \n",
        "regr.fit(X_train, y_train)  \n",
        "      \n",
        "# Используем обученную модель для предсказания рейтинга ресторанов в тестовой выборке.  \n",
        "# Предсказанные значения записываем в переменную y_pred  \n",
        "y_pred = regr.predict(X_test)  "
      ],
      "execution_count": null,
      "outputs": []
    },
    {
      "cell_type": "markdown",
      "metadata": {
        "id": "fG0ByI_2_iPr"
      },
      "source": [
        "**Ошибка** возникла при обработке столбца со строковыми значениями. Следовательно, для обучения модели все данные должны быть переданы только в числовом формате. Следовательно, вернёмся и сделаем вначале все преобразования.☝"
      ]
    },
    {
      "cell_type": "code",
      "metadata": {
        "id": "WJRheWV1_t1K",
        "colab": {
          "base_uri": "https://localhost:8080/"
        },
        "outputId": "3e7cb05a-1f2c-4bdc-b613-b00002c53f71"
      },
      "source": [
        "# Сравниваем предсказанные значения (y_pred) с реальными (y_test), и смотрим насколько они в среднем отличаются\n",
        "# Метрика называется Mean Absolute Error (MAE) и показывает среднее отклонение предсказанных значений от фактических.\n",
        "print('MAE:', metrics.mean_absolute_error(y_test, y_pred))"
      ],
      "execution_count": null,
      "outputs": [
        {
          "output_type": "stream",
          "name": "stdout",
          "text": [
            "MAE: 0.207833\n"
          ]
        }
      ]
    },
    {
      "cell_type": "code",
      "metadata": {
        "id": "dHjZ9FdF7X6z",
        "colab": {
          "base_uri": "https://localhost:8080/",
          "height": 610
        },
        "outputId": "c08c3c25-9151-4f3f-c292-048e48b12dd7"
      },
      "source": [
        "# в RandomForestRegressor есть возможность вывести самые важные признаки для модели\n",
        "plt.rcParams['figure.figsize'] = (10, 10)\n",
        "feat_importances = pd.Series(regr.feature_importances_, index=X.columns)\n",
        "feat_importances.nlargest(15).plot(kind='barh')\n"
      ],
      "execution_count": null,
      "outputs": [
        {
          "output_type": "execute_result",
          "data": {
            "text/plain": [
              "<matplotlib.axes._subplots.AxesSubplot at 0x7efcf62c8490>"
            ]
          },
          "metadata": {},
          "execution_count": 210
        },
        {
          "output_type": "display_data",
          "data": {
            "image/png": "[encoded data removed]",
            "text/plain": [
              "<Figure size 720x720 with 1 Axes>"
            ]
          },
          "metadata": {
            "needs_background": "light"
          }
        }
      ]
    },
    {
      "cell_type": "code",
      "source": [
        "df.head(2)"
      ],
      "metadata": {
        "id": "5cdWI2o07BFs",
        "colab": {
          "base_uri": "https://localhost:8080/",
          "height": 176
        },
        "outputId": "a148a1c6-b9e2-4c59-878a-49c93d75f544"
      },
      "execution_count": null,
      "outputs": [
        {
          "output_type": "execute_result",
          "data": {
            "text/html": [
              "\n",
              "  <div id=\"df-6dfaa981-fee4-42e1-89a7-8584666bcfb5\">\n",
              "    <div class=\"colab-df-container\">\n",
              "      <div>\n",
              "<style scoped>\n",
              "    .dataframe tbody tr th:only-of-type {\n",
              "        vertical-align: middle;\n",
              "    }\n",
              "\n",
              "    .dataframe tbody tr th {\n",
              "        vertical-align: top;\n",
              "    }\n",
              "\n",
              "    .dataframe thead th {\n",
              "        text-align: right;\n",
              "    }\n",
              "</style>\n",
              "<table border=\"1\" class=\"dataframe\">\n",
              "  <thead>\n",
              "    <tr style=\"text-align: right;\">\n",
              "      <th></th>\n",
              "      <th>id</th>\n",
              "      <th>rank</th>\n",
              "      <th>rating</th>\n",
              "      <th>price</th>\n",
              "      <th>number_reviews</th>\n",
              "      <th>id_group</th>\n",
              "      <th>number_of_cuisines</th>\n",
              "      <th>mean_rating_in_city</th>\n",
              "      <th>date_delta</th>\n",
              "      <th>median_number_of_reviews</th>\n",
              "      <th>sentiment_polarity</th>\n",
              "      <th>number_of_restaurants</th>\n",
              "      <th>delta_ranking_index</th>\n",
              "    </tr>\n",
              "  </thead>\n",
              "  <tbody>\n",
              "    <tr>\n",
              "      <th>0</th>\n",
              "      <td>id_5569</td>\n",
              "      <td>5570.0</td>\n",
              "      <td>3.5</td>\n",
              "      <td>2</td>\n",
              "      <td>194.0</td>\n",
              "      <td>3</td>\n",
              "      <td>3</td>\n",
              "      <td>3.942414</td>\n",
              "      <td>41</td>\n",
              "      <td>41</td>\n",
              "      <td>0.7000</td>\n",
              "      <td>4897</td>\n",
              "      <td>-0.137431</td>\n",
              "    </tr>\n",
              "    <tr>\n",
              "      <th>1</th>\n",
              "      <td>id_1535</td>\n",
              "      <td>1537.0</td>\n",
              "      <td>4.0</td>\n",
              "      <td>2</td>\n",
              "      <td>10.0</td>\n",
              "      <td>10</td>\n",
              "      <td>1</td>\n",
              "      <td>3.870122</td>\n",
              "      <td>382</td>\n",
              "      <td>16</td>\n",
              "      <td>0.6875</td>\n",
              "      <td>820</td>\n",
              "      <td>-0.874390</td>\n",
              "    </tr>\n",
              "  </tbody>\n",
              "</table>\n",
              "</div>\n",
              "      <button class=\"colab-df-convert\" onclick=\"convertToInteractive('df-6dfaa981-fee4-42e1-89a7-8584666bcfb5')\"\n",
              "              title=\"Convert this dataframe to an interactive table.\"\n",
              "              style=\"display:none;\">\n",
              "        \n",
              "  <svg xmlns=\"http://www.w3.org/2000/svg\" height=\"24px\"viewBox=\"0 0 24 24\"\n",
              "       width=\"24px\">\n",
              "    <path d=\"M0 0h24v24H0V0z\" fill=\"none\"/>\n",
              "    <path d=\"M18.56 5.44l.94 2.06.94-2.06 2.06-.94-2.06-.94-.94-2.06-.94 2.06-2.06.94zm-11 1L8.5 8.5l.94-2.06 2.06-.94-2.06-.94L8.5 2.5l-.94 2.06-2.06.94zm10 10l.94 2.06.94-2.06 2.06-.94-2.06-.94-.94-2.06-.94 2.06-2.06.94z\"/><path d=\"M17.41 7.96l-1.37-1.37c-.4-.4-.92-.59-1.43-.59-.52 0-1.04.2-1.43.59L10.3 9.45l-7.72 7.72c-.78.78-.78 2.05 0 2.83L4 21.41c.39.39.9.59 1.41.59.51 0 1.02-.2 1.41-.59l7.78-7.78 2.81-2.81c.8-.78.8-2.07 0-2.86zM5.41 20L4 18.59l7.72-7.72 1.47 1.35L5.41 20z\"/>\n",
              "  </svg>\n",
              "      </button>\n",
              "      \n",
              "  <style>\n",
              "    .colab-df-container {\n",
              "      display:flex;\n",
              "      flex-wrap:wrap;\n",
              "      gap: 12px;\n",
              "    }\n",
              "\n",
              "    .colab-df-convert {\n",
              "      background-color: #E8F0FE;\n",
              "      border: none;\n",
              "      border-radius: 50%;\n",
              "      cursor: pointer;\n",
              "      display: none;\n",
              "      fill: #1967D2;\n",
              "      height: 32px;\n",
              "      padding: 0 0 0 0;\n",
              "      width: 32px;\n",
              "    }\n",
              "\n",
              "    .colab-df-convert:hover {\n",
              "      background-color: #E2EBFA;\n",
              "      box-shadow: 0px 1px 2px rgba(60, 64, 67, 0.3), 0px 1px 3px 1px rgba(60, 64, 67, 0.15);\n",
              "      fill: #174EA6;\n",
              "    }\n",
              "\n",
              "    [theme=dark] .colab-df-convert {\n",
              "      background-color: #3B4455;\n",
              "      fill: #D2E3FC;\n",
              "    }\n",
              "\n",
              "    [theme=dark] .colab-df-convert:hover {\n",
              "      background-color: #434B5C;\n",
              "      box-shadow: 0px 1px 3px 1px rgba(0, 0, 0, 0.15);\n",
              "      filter: drop-shadow(0px 1px 2px rgba(0, 0, 0, 0.3));\n",
              "      fill: #FFFFFF;\n",
              "    }\n",
              "  </style>\n",
              "\n",
              "      <script>\n",
              "        const buttonEl =\n",
              "          document.querySelector('#df-6dfaa981-fee4-42e1-89a7-8584666bcfb5 button.colab-df-convert');\n",
              "        buttonEl.style.display =\n",
              "          google.colab.kernel.accessAllowed ? 'block' : 'none';\n",
              "\n",
              "        async function convertToInteractive(key) {\n",
              "          const element = document.querySelector('#df-6dfaa981-fee4-42e1-89a7-8584666bcfb5');\n",
              "          const dataTable =\n",
              "            await google.colab.kernel.invokeFunction('convertToInteractive',\n",
              "                                                     [key], {});\n",
              "          if (!dataTable) return;\n",
              "\n",
              "          const docLinkHtml = 'Like what you see? Visit the ' +\n",
              "            '<a target=\"_blank\" href=https://colab.research.google.com/notebooks/data_table.ipynb>data table notebook</a>'\n",
              "            + ' to learn more about interactive tables.';\n",
              "          element.innerHTML = '';\n",
              "          dataTable['output_type'] = 'display_data';\n",
              "          await google.colab.output.renderOutput(dataTable, element);\n",
              "          const docLink = document.createElement('div');\n",
              "          docLink.innerHTML = docLinkHtml;\n",
              "          element.appendChild(docLink);\n",
              "        }\n",
              "      </script>\n",
              "    </div>\n",
              "  </div>\n",
              "  "
            ],
            "text/plain": [
              "        id    rank  ...  number_of_restaurants  delta_ranking_index\n",
              "0  id_5569  5570.0  ...                   4897            -0.137431\n",
              "1  id_1535  1537.0  ...                    820            -0.874390\n",
              "\n",
              "[2 rows x 13 columns]"
            ]
          },
          "metadata": {},
          "execution_count": 211
        }
      ]
    },
    {
      "cell_type": "markdown",
      "source": [
        "* id — идентификационный номер ресторана / сети ресторанов;\n",
        "* rank — место, которое занимает данный ресторан среди всех ресторанов своего города;\n",
        "* rating — рейтинг ресторана по данным TripAdvisor (именно это значение должна будет предсказывать модель);\n",
        "* price — диапазон цен в ресторане;\n",
        "* number_reviews — количество отзывов о ресторане;\n",
        "* id_group - столбец с количеством ресторанов в группе\n",
        "* number_of_cuisines - столбец количество видов кухонь в ресторане\n",
        "* mean_rating_in_city - столбец средний рейтинг в городе ресторана\n",
        "* date_delta - столбец разницы дней между первым и вторым отзывом\n",
        "* median_number_of_reviews - столбец медиана количества отзывов в городе ремторана\n",
        "* sentiment_polarity - столбец с полярностью отзывов\n",
        "* number_of_restaurants - столбец количество ресторанов в городе ресторана\n",
        "\n"
      ],
      "metadata": {
        "id": "1H_B2CfgRRAg"
      }
    },
    {
      "cell_type": "code",
      "source": [
        ""
      ],
      "metadata": {
        "id": "Vvg7VfxiR2Zk"
      },
      "execution_count": null,
      "outputs": []
    }
  ]
}